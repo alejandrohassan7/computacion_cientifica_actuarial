{
 "cells": [
  {
   "cell_type": "markdown",
   "id": "32039c51",
   "metadata": {},
   "source": [
    "### `TP - COMPUTACIÓN CIENTIFICA ACTUARIAL 1C 2022.\n",
    "\n",
    "### `Objetivo:`\n",
    "- Implementar las técnicas aprendidas como parte del curso.\n",
    "\n",
    "### `Data information`\n",
    "\n",
    "- TRIPS\n",
    "    1. Request id: un identificador único de la solicitud\n",
    "    2. Time of request: La fecha y hora en que el cliente realizó la solicitud de viaje\n",
    "    3. Drop-off time: La fecha y hora de regreso, en caso de que el viaje se haya completado\n",
    "    4. Pick-up point: El punto desde el que se realizó la solicitud\n",
    "    5. Driver id: el número de identificación único del conductor\n",
    "    6. Status of the request: el estado final del viaje puede ser completado, cancelado por el conductor o no hay autos disponibles\n",
    "    \n",
    "   \n",
    "- DRIVERS\n",
    "    1. Driver id: identificador de conductor/a.\n",
    "    2. Name: Nombre del conductor/a.\n",
    "    3. Gender: Género del conductor/a.\n",
    "    \n",
    "### `Objetivos de aprendizaje.:`\n",
    "- Exploratory Data Analysis\n",
    "\n",
    "- Visualization using Python\n",
    "\n",
    "- Pandas – groupby, merging \n",
    "\n",
    "\n",
    "### `Realizar comentarios acerca de los insights que van encontrando en la data será tenido en cuenta a la hora de corregir el TP.:`"
   ]
  },
  {
   "cell_type": "markdown",
   "id": "bc30d3b3",
   "metadata": {},
   "source": [
    "### Importar Librerias\n",
    "\n",
    "Librerias: Pandas, Numpy, matplotlib, seaborn."
   ]
  },
  {
   "cell_type": "code",
   "execution_count": 1,
   "id": "be078c31",
   "metadata": {},
   "outputs": [],
   "source": [
    "import pandas as pd\n",
    "import numpy as np\n",
    "import matplotlib.pyplot as plt\n",
    "import seaborn as sns\n",
    "import plotly.express as px\n",
    "\n",
    "import warnings\n",
    "warnings.filterwarnings(\"ignore\")"
   ]
  },
  {
   "cell_type": "markdown",
   "id": "dddb9d06",
   "metadata": {},
   "source": [
    "### Leer datasets"
   ]
  },
  {
   "cell_type": "markdown",
   "id": "0379410b",
   "metadata": {},
   "source": [
    "**Trips**"
   ]
  },
  {
   "cell_type": "code",
   "execution_count": null,
   "id": "89967f8b",
   "metadata": {},
   "outputs": [],
   "source": []
  },
  {
   "cell_type": "markdown",
   "id": "46223a58",
   "metadata": {},
   "source": [
    "**Drivers**\n",
    "\n",
    "*Leer dataset con el parametro delimiter=\";\"*"
   ]
  },
  {
   "cell_type": "code",
   "execution_count": null,
   "id": "e9d6f2e5",
   "metadata": {},
   "outputs": [],
   "source": []
  },
  {
   "cell_type": "markdown",
   "id": "4a79be8a",
   "metadata": {},
   "source": [
    "### 1. Sanity check de los datos."
   ]
  },
  {
   "cell_type": "markdown",
   "id": "1fbcd478",
   "metadata": {},
   "source": [
    "#### 1.1 Inspeccionar datasets con head()"
   ]
  },
  {
   "cell_type": "code",
   "execution_count": null,
   "id": "e3b973dd",
   "metadata": {},
   "outputs": [],
   "source": []
  },
  {
   "cell_type": "code",
   "execution_count": null,
   "id": "1c11f172",
   "metadata": {},
   "outputs": [],
   "source": []
  },
  {
   "cell_type": "markdown",
   "id": "f52bda7a",
   "metadata": {},
   "source": [
    "#### 1.2 Chequear shape de datasets\n",
    "\n",
    "Utilizar print statements avanzados para que quede un output del estilo:\n",
    "\n",
    "\"El dataset correspondiente a trips tiene la forma:    ; y el dataset drivers tiene la forma:    ...\""
   ]
  },
  {
   "cell_type": "code",
   "execution_count": null,
   "id": "45def9bf",
   "metadata": {},
   "outputs": [],
   "source": []
  },
  {
   "cell_type": "markdown",
   "id": "bd033e17",
   "metadata": {},
   "source": [
    "#### 1.3 Inspeccionar columnas y dtypes.\n",
    "\n",
    "Imprimir columnas de cada dataset."
   ]
  },
  {
   "cell_type": "code",
   "execution_count": null,
   "id": "87ec4cb9",
   "metadata": {},
   "outputs": [],
   "source": []
  },
  {
   "cell_type": "code",
   "execution_count": null,
   "id": "a2e003ee",
   "metadata": {},
   "outputs": [],
   "source": []
  },
  {
   "cell_type": "markdown",
   "id": "4a99fa05",
   "metadata": {},
   "source": [
    "### 2. Joinear ambas bases para continuar con el chequeo de valores nulos. \n",
    "\n",
    "Utilizar la funcion merge de pandas y llamar al nuevo dataframe df_final. La idea es usar el dataframe trips como table madre, y traer la información de los drivers del dataframe de conduntores/as.\n",
    "\n",
    "**No debemos perder datos de la tabla de trips.**\n",
    "\n",
    "**Pista:** Las variables para joinear, son del mismo dtype? En caso que no lo sean, conviertan la columna en el mismo dtype que el dataset madre para que funcione el merge. "
   ]
  },
  {
   "cell_type": "markdown",
   "id": "2ce4d93e",
   "metadata": {},
   "source": [
    "**2.1 Modificar la columna Driver id del dataset de drivers a float**\n",
    "\n",
    "Vemos que en la columna Driver id del dataset de drivers, tenemos una \",\", la cual no nos va a permitir convertir el string a float.\n",
    "\n",
    "1. Cambiar la coma por . utilizando .replace() sobre la columna Driver id\n",
    "2. Modificar el dtype de la columna y pasarlo a float."
   ]
  },
  {
   "cell_type": "code",
   "execution_count": null,
   "id": "78ca12e8",
   "metadata": {},
   "outputs": [],
   "source": []
  },
  {
   "cell_type": "code",
   "execution_count": null,
   "id": "564660de",
   "metadata": {},
   "outputs": [],
   "source": []
  },
  {
   "cell_type": "markdown",
   "id": "70dd7d6e",
   "metadata": {},
   "source": [
    "**2.2 Joinear datasets y obtener el df_final**"
   ]
  },
  {
   "cell_type": "code",
   "execution_count": null,
   "id": "02229be1",
   "metadata": {},
   "outputs": [],
   "source": []
  },
  {
   "cell_type": "markdown",
   "id": "2afe3bbf",
   "metadata": {},
   "source": [
    "**2.3 Chequear shape del dataset madre y el dataset nuevo**\n",
    "\n",
    "Debemos tener la misma cantidad de filas para asegurarnos que el merge se hizo correctamente."
   ]
  },
  {
   "cell_type": "code",
   "execution_count": null,
   "id": "6b1d8278",
   "metadata": {},
   "outputs": [],
   "source": []
  },
  {
   "cell_type": "markdown",
   "id": "b2c0fde9",
   "metadata": {},
   "source": [
    "### 3. Analizar valores nulos del dataset mergeado."
   ]
  },
  {
   "cell_type": "code",
   "execution_count": null,
   "id": "f04849ed",
   "metadata": {},
   "outputs": [],
   "source": []
  },
  {
   "cell_type": "markdown",
   "id": "400d7a90",
   "metadata": {},
   "source": [
    "### 4. Analizar valores unicos para las distintas variables"
   ]
  },
  {
   "cell_type": "markdown",
   "id": "033c01fa",
   "metadata": {},
   "source": [
    "**4.1 Variables categoricas**\n",
    "\n",
    "- Realizar este procedimiento solo para las columnas Pickup point y Status. Usar print avanzado con .format()."
   ]
  },
  {
   "cell_type": "code",
   "execution_count": null,
   "id": "945ac7dd",
   "metadata": {},
   "outputs": [],
   "source": []
  },
  {
   "cell_type": "markdown",
   "id": "74f098e2",
   "metadata": {},
   "source": [
    "### 5. Feature engineering"
   ]
  },
  {
   "cell_type": "markdown",
   "id": "a7d42bdd",
   "metadata": {},
   "source": [
    "#### 5.1 Corregir las columnas request timestamp y drop timestamp.\n",
    "\n",
    "*Observemos que en request timestamp, tenemos algunas fechas separadas con \"/\" y otras separadas con \"-\". \n",
    "Estandarizemos dicho problema y dejemos solo \"/\" tanto para las columnas request timestamp y drop timestamp."
   ]
  },
  {
   "cell_type": "code",
   "execution_count": null,
   "id": "e1d800a2",
   "metadata": {},
   "outputs": [],
   "source": []
  },
  {
   "cell_type": "markdown",
   "id": "4b79ea09",
   "metadata": {},
   "source": [
    "**5.2 Convertir las columnas request timestamp y drop timestamp en formato datetime**"
   ]
  },
  {
   "cell_type": "code",
   "execution_count": null,
   "id": "1df01b79",
   "metadata": {},
   "outputs": [],
   "source": []
  },
  {
   "cell_type": "code",
   "execution_count": null,
   "id": "d5444b5e",
   "metadata": {
    "scrolled": true
   },
   "outputs": [],
   "source": []
  },
  {
   "cell_type": "markdown",
   "id": "2dd7454b",
   "metadata": {},
   "source": [
    "**5.3 Crear las columnas year, month y hour para cada columna datetime**\n",
    "\n",
    "La idea es tener una columna que sea \"request_**col**\" y \"drop_**col**\"; siendo **col**: {year, month, hour}."
   ]
  },
  {
   "cell_type": "markdown",
   "id": "6b4ab587",
   "metadata": {},
   "source": [
    "**Year**"
   ]
  },
  {
   "cell_type": "code",
   "execution_count": null,
   "id": "4c0acf1d",
   "metadata": {},
   "outputs": [],
   "source": []
  },
  {
   "cell_type": "markdown",
   "id": "445fc851",
   "metadata": {},
   "source": [
    "**Month** "
   ]
  },
  {
   "cell_type": "code",
   "execution_count": null,
   "id": "4e207420",
   "metadata": {},
   "outputs": [],
   "source": []
  },
  {
   "cell_type": "markdown",
   "id": "52eeea41",
   "metadata": {},
   "source": [
    "**Hour**"
   ]
  },
  {
   "cell_type": "code",
   "execution_count": null,
   "id": "f0002f29",
   "metadata": {
    "scrolled": true
   },
   "outputs": [],
   "source": []
  },
  {
   "cell_type": "markdown",
   "id": "4e463194",
   "metadata": {},
   "source": [
    "### 6. Duración de los viajes.\n",
    "\n",
    "Chequear la duración de los viajes calculando la diferencia entre las columnas request_timestamp_corrected y drop_timestamp_corrected.\n",
    "\n",
    "Lastly what I will do is check if the duration of the trips are coherent or not. By coherent I mean that we have some \"NORMAL\" duration of trips. If I found some trip that lasted more than 8 hs or it's negative, it should be considered an outlier or maybe an error of the data. That is the purpose of this task.\n",
    "\n",
    "The duration will be calculated in mins and using the columns request_timestamp_corrected and drop_timestamp_corrected.\n",
    "\n",
    "**Ayuda:** Para obtenerlo en minutos, debemos usar la siguiente sintaxis. \n",
    "\n",
    "```df_final[\"trip_duration_mins\"] = (df_final[\"drop_timestamp_corrected\"] - df_final[\"request_timestamp_corrected\"]).astype('timedelta64[m]').astype(\"float\")```\n"
   ]
  },
  {
   "cell_type": "markdown",
   "id": "07da80bc",
   "metadata": {},
   "source": [
    "**6.1 Crear la columna \"trip_duration_mins\" con lo comentado arriba**."
   ]
  },
  {
   "cell_type": "code",
   "execution_count": null,
   "id": "f73235b0",
   "metadata": {
    "scrolled": false
   },
   "outputs": [],
   "source": []
  },
  {
   "cell_type": "markdown",
   "id": "cacf9425",
   "metadata": {},
   "source": [
    "**6.2 Realizar un sanity check sobre las duraciones**\n",
    "\n",
    "- Chequear distirbucin utilizando .describe()\n",
    "- Plotear un boxplot y un histograma.\n",
    "\n",
    "**Tener en cuenta de realizar el describe solo para la columna trip_duration_mins, donde esa columna NO es nula**"
   ]
  },
  {
   "cell_type": "markdown",
   "id": "4fc780f5",
   "metadata": {},
   "source": [
    "**Describe()**"
   ]
  },
  {
   "cell_type": "code",
   "execution_count": null,
   "id": "27d5be13",
   "metadata": {
    "scrolled": true
   },
   "outputs": [],
   "source": []
  },
  {
   "cell_type": "markdown",
   "id": "787c84b9",
   "metadata": {},
   "source": [
    "**Boxplot**"
   ]
  },
  {
   "cell_type": "code",
   "execution_count": null,
   "id": "06e5c00f",
   "metadata": {
    "scrolled": true
   },
   "outputs": [],
   "source": []
  },
  {
   "cell_type": "markdown",
   "id": "0ac15725",
   "metadata": {},
   "source": [
    "**Histograma**"
   ]
  },
  {
   "cell_type": "code",
   "execution_count": null,
   "id": "78313e23",
   "metadata": {},
   "outputs": [],
   "source": []
  },
  {
   "cell_type": "markdown",
   "id": "52e16f7b",
   "metadata": {},
   "source": [
    "Se ve raro no? Si observamos el describe y el histograma, vemos que tenemos valores concentrados cercanos entre 0 y 100 aproximadamente, y algunos valores extraños (outliers)."
   ]
  },
  {
   "cell_type": "markdown",
   "id": "1c45f97e",
   "metadata": {},
   "source": [
    "**6.3 Topear la columna trip_duration_mins**\n",
    "\n",
    "Aquellos valores mayores a 83 en la columna trip_duration_mins deben ser topeados en 83; y aquellos valores menores a 5 minutos, deben ser topeados en 5.\n",
    "\n",
    "**Nota:** El motivo real por el que sucede esto es porque algunas entradas de datos estan erroneas. El problema es que hay ciertos registros de fecha que estan al revés, en donde el mes esta como el día y viceversa. La solución de este problema no será requerida en este trabajo, pero en caso que esten interesados en ver cómo solucionamos este tema, nos pueden escribir y les enviamos la solución. **Por el momento, solo topeen los valores como se menciona en la consigna**."
   ]
  },
  {
   "cell_type": "code",
   "execution_count": null,
   "id": "96959bde",
   "metadata": {},
   "outputs": [],
   "source": []
  },
  {
   "cell_type": "markdown",
   "id": "1db2423e",
   "metadata": {},
   "source": [
    "Chequear nuevamente la distribución graficando el boxplot."
   ]
  },
  {
   "cell_type": "code",
   "execution_count": null,
   "id": "78363102",
   "metadata": {},
   "outputs": [],
   "source": []
  },
  {
   "cell_type": "markdown",
   "id": "f3c1d00f",
   "metadata": {},
   "source": [
    "### 7. Crear nueva columna \"part_of_the_day\" basandonos en la columna hora.\n",
    "\n",
    "\n",
    "Rangos a crear:\n",
    "- Morning: de 6 AM a 11 AM.\n",
    "- Mi-day: de 12 a 14.\n",
    "- Afternoon: de 15 a 17.\n",
    "- Evening: de 18 a 21.\n",
    "- Night: de 21 PM a 5 AM.\n",
    "\n",
    "**Recomendación: Pueden usar la columna \"request_hour\" para crear dichas categorias en la nueva columna.**\n",
    "\n",
    "**Pista:** Usar la funcion pd.cut con el siguiente formato:\n",
    "```df_final[\"part_of_the_day\"] = pd.cut(columna_hora,\n",
    "[[0, 5, 11, 14, 17, 21, 24],\n",
    "labels = [Categorias correspondientes a cada bucket (\"night\", \"morning\", ...,\n",
    "right=True,\n",
    "include_lowest=True)\n",
    "```\n",
    "\n",
    "Tener en cuenta que probablemente deban crear 2 categorias de night y luego reemplazarlas ya que sino no van a poder realizar los cortes."
   ]
  },
  {
   "cell_type": "code",
   "execution_count": null,
   "id": "9daa0df2",
   "metadata": {},
   "outputs": [],
   "source": []
  },
  {
   "cell_type": "markdown",
   "id": "1c5ac37b",
   "metadata": {},
   "source": [
    "\n",
    "**7.1 Chequear con un groupby o un pivot_table los valores máximos y minimos de la columna request_hour, agrupando por la columna part_of_the_day**"
   ]
  },
  {
   "cell_type": "code",
   "execution_count": null,
   "id": "aef95784",
   "metadata": {},
   "outputs": [],
   "source": []
  },
  {
   "cell_type": "markdown",
   "id": "6f8cfb6d",
   "metadata": {},
   "source": [
    "### 8. Análisis Exploratorio de datos"
   ]
  },
  {
   "cell_type": "markdown",
   "id": "31cac9cd",
   "metadata": {},
   "source": [
    "#### 8.1. Analizar las horas más populares en que los viajes son solicitados (no importa el status de request o trip).\n",
    "\n",
    "**Graficar:**\n",
    "\n",
    "Pueden usar sns.countplot() tanto para la columna part_of_the_day o request_hour."
   ]
  },
  {
   "cell_type": "code",
   "execution_count": null,
   "id": "f52e3e18",
   "metadata": {
    "scrolled": true
   },
   "outputs": [],
   "source": []
  },
  {
   "cell_type": "markdown",
   "id": "e256f62f",
   "metadata": {},
   "source": [
    "**Insighs**\n",
    "\n",
    "Comente brevemente los insights del analisis previo."
   ]
  },
  {
   "cell_type": "markdown",
   "id": "46cb271e",
   "metadata": {},
   "source": [
    "### 8.2. Distribución del estado de todos los viajes.\n",
    "\n",
    "Analizar la distribución de la columna \"Status\".\n",
    "\n",
    "**Graficar un barplot y calcular utilizando la value_counts() sobre la columna**"
   ]
  },
  {
   "cell_type": "markdown",
   "id": "70b18cda",
   "metadata": {},
   "source": [
    "**Barplot**"
   ]
  },
  {
   "cell_type": "code",
   "execution_count": null,
   "id": "3c9816d0",
   "metadata": {
    "scrolled": false
   },
   "outputs": [],
   "source": []
  },
  {
   "cell_type": "markdown",
   "id": "78bc68cb",
   "metadata": {},
   "source": [
    "**Value_counts**"
   ]
  },
  {
   "cell_type": "code",
   "execution_count": null,
   "id": "5f7fb6ae",
   "metadata": {
    "scrolled": true
   },
   "outputs": [],
   "source": []
  },
  {
   "cell_type": "markdown",
   "id": "ed2e4ff1",
   "metadata": {},
   "source": [
    "**Insights**\n",
    "\n",
    "Comente brevemente los insights."
   ]
  },
  {
   "cell_type": "markdown",
   "id": "056fc87b",
   "metadata": {},
   "source": [
    "### 8.3.  Distribucion de viajes (trips) por parte del dia y status.\n",
    "\n",
    "El proposito de este grafico es chequear la demanda de viajes por hora del dia, y chequear el status de esos viajes, para chequear donde tenemos problemas."
   ]
  },
  {
   "cell_type": "code",
   "execution_count": null,
   "id": "816dde3c",
   "metadata": {},
   "outputs": [],
   "source": []
  },
  {
   "cell_type": "code",
   "execution_count": null,
   "id": "04972d32",
   "metadata": {
    "scrolled": true
   },
   "outputs": [],
   "source": []
  },
  {
   "cell_type": "markdown",
   "id": "8e800fd5",
   "metadata": {},
   "source": [
    "**Insights**\n",
    "\n",
    "Comentar brevemente insights de los resultados obtenidos."
   ]
  },
  {
   "cell_type": "markdown",
   "id": "1be9bf04",
   "metadata": {},
   "source": [
    "### 8.4 Distribucion de pick up point por parte del dia.\n",
    "\n",
    "La idea es obtener un por parte del dia, como se distribuyen los viajes respecto al pickup point."
   ]
  },
  {
   "cell_type": "code",
   "execution_count": null,
   "id": "5a47f8ae",
   "metadata": {},
   "outputs": [],
   "source": []
  },
  {
   "cell_type": "markdown",
   "id": "44a99eb6",
   "metadata": {},
   "source": [
    "**Insights**\n",
    "\n",
    "Comente brevemente los insights."
   ]
  },
  {
   "cell_type": "markdown",
   "id": "c2cb085b",
   "metadata": {},
   "source": [
    "### 8.5  Obtener el top 10 de conductores con mayores viajes.\n",
    "\n",
    "El output esperado es el nombre de los 10 conductores con más viajes, junto a la cantidad de viajes de cada uno."
   ]
  },
  {
   "cell_type": "code",
   "execution_count": null,
   "id": "746310d4",
   "metadata": {
    "scrolled": true
   },
   "outputs": [],
   "source": []
  },
  {
   "cell_type": "markdown",
   "id": "2ddcd73e",
   "metadata": {},
   "source": [
    "### 8.6  Obtener la distribución por genero\n",
    "\n",
    "- Qué genero es más popular entre los conductores?\n",
    "- Obtener la parte del dia más popular para el género femenino."
   ]
  },
  {
   "cell_type": "markdown",
   "id": "35c5c437",
   "metadata": {},
   "source": [
    "**Distribución de géneros**\n",
    "\n",
    "Usar value_counts y tener en cuenta dropna."
   ]
  },
  {
   "cell_type": "code",
   "execution_count": null,
   "id": "26db7378",
   "metadata": {},
   "outputs": [],
   "source": []
  },
  {
   "cell_type": "markdown",
   "id": "b21044e4",
   "metadata": {},
   "source": [
    "**Parte del dia más popular para el genero femenino**"
   ]
  },
  {
   "cell_type": "code",
   "execution_count": null,
   "id": "594dddf2",
   "metadata": {},
   "outputs": [],
   "source": []
  }
 ],
 "metadata": {
  "kernelspec": {
   "display_name": "Python 3 (ipykernel)",
   "language": "python",
   "name": "python3"
  },
  "language_info": {
   "codemirror_mode": {
    "name": "ipython",
    "version": 3
   },
   "file_extension": ".py",
   "mimetype": "text/x-python",
   "name": "python",
   "nbconvert_exporter": "python",
   "pygments_lexer": "ipython3",
   "version": "3.9.12"
  }
 },
 "nbformat": 4,
 "nbformat_minor": 5
}
