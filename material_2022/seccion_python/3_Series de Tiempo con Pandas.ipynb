{
 "cells": [
  {
   "cell_type": "markdown",
   "metadata": {
    "colab_type": "text",
    "id": "5V1Er69V2w2c"
   },
   "source": [
    "# 📈 Series de Tiempo con Pandas\n",
    "---"
   ]
  },
  {
   "cell_type": "markdown",
   "metadata": {
    "colab_type": "text",
    "id": "ayUnV0Mw3rH6"
   },
   "source": [
    "## Librerias\n",
    "---"
   ]
  },
  {
   "cell_type": "code",
   "execution_count": 2,
   "metadata": {
    "colab": {},
    "colab_type": "code",
    "id": "8LjQQv2c2w2d"
   },
   "outputs": [],
   "source": [
    "import pandas as pd\n",
    "import numpy as np\n",
    "import matplotlib.pyplot as plt"
   ]
  },
  {
   "cell_type": "markdown",
   "metadata": {
    "colab_type": "text",
    "id": "PAgusiFG3tZv"
   },
   "source": [
    "## Data Set\n",
    "---"
   ]
  },
  {
   "cell_type": "code",
   "execution_count": 3,
   "metadata": {
    "colab": {
     "base_uri": "https://localhost:8080/",
     "height": 413
    },
    "colab_type": "code",
    "executionInfo": {
     "elapsed": 722,
     "status": "error",
     "timestamp": 1593993359114,
     "user": {
      "displayName": "Matias Sanchez Gavier",
      "photoUrl": "https://lh3.googleusercontent.com/a-/AOh14GjD7hZiO5eInT5MTbCuYg7k5GwpkxEcRQM1Y9NQ2g=s64",
      "userId": "12001148323871082461"
     },
     "user_tz": 180
    },
    "id": "cElIRy2r2w2h",
    "outputId": "b8ac8499-b855-48ff-fe1f-6141b6e10f9c"
   },
   "outputs": [
    {
     "data": {
      "text/html": [
       "<div>\n",
       "<style scoped>\n",
       "    .dataframe tbody tr th:only-of-type {\n",
       "        vertical-align: middle;\n",
       "    }\n",
       "\n",
       "    .dataframe tbody tr th {\n",
       "        vertical-align: top;\n",
       "    }\n",
       "\n",
       "    .dataframe thead th {\n",
       "        text-align: right;\n",
       "    }\n",
       "</style>\n",
       "<table border=\"1\" class=\"dataframe\">\n",
       "  <thead>\n",
       "    <tr style=\"text-align: right;\">\n",
       "      <th></th>\n",
       "      <th>Fecha Cotización</th>\n",
       "      <th>Apertura</th>\n",
       "      <th>Máximo</th>\n",
       "      <th>Mínimo</th>\n",
       "      <th>Cierre</th>\n",
       "      <th>Cierre ajustado</th>\n",
       "      <th>Volumen Monto</th>\n",
       "      <th>Volumen Nominal</th>\n",
       "    </tr>\n",
       "  </thead>\n",
       "  <tbody>\n",
       "    <tr>\n",
       "      <th>0</th>\n",
       "      <td>06/26/2020</td>\n",
       "      <td>619.00</td>\n",
       "      <td>622.95</td>\n",
       "      <td>600.00</td>\n",
       "      <td>608.85</td>\n",
       "      <td>608.85</td>\n",
       "      <td>64,246,839.75</td>\n",
       "      <td>104,830.00</td>\n",
       "    </tr>\n",
       "    <tr>\n",
       "      <th>1</th>\n",
       "      <td>06/25/2020</td>\n",
       "      <td>605.05</td>\n",
       "      <td>625.00</td>\n",
       "      <td>600.15</td>\n",
       "      <td>618.45</td>\n",
       "      <td>618.45</td>\n",
       "      <td>62,791,109.15</td>\n",
       "      <td>102,732.00</td>\n",
       "    </tr>\n",
       "    <tr>\n",
       "      <th>2</th>\n",
       "      <td>06/24/2020</td>\n",
       "      <td>608.95</td>\n",
       "      <td>611.00</td>\n",
       "      <td>591.00</td>\n",
       "      <td>597.90</td>\n",
       "      <td>597.90</td>\n",
       "      <td>66,405,588.45</td>\n",
       "      <td>110,467.00</td>\n",
       "    </tr>\n",
       "    <tr>\n",
       "      <th>3</th>\n",
       "      <td>06/23/2020</td>\n",
       "      <td>613.05</td>\n",
       "      <td>624.90</td>\n",
       "      <td>608.65</td>\n",
       "      <td>611.10</td>\n",
       "      <td>611.10</td>\n",
       "      <td>125,013,430.75</td>\n",
       "      <td>202,079.00</td>\n",
       "    </tr>\n",
       "    <tr>\n",
       "      <th>4</th>\n",
       "      <td>06/22/2020</td>\n",
       "      <td>618.00</td>\n",
       "      <td>618.00</td>\n",
       "      <td>588.00</td>\n",
       "      <td>608.65</td>\n",
       "      <td>608.65</td>\n",
       "      <td>207,277,304.60</td>\n",
       "      <td>343,731.00</td>\n",
       "    </tr>\n",
       "  </tbody>\n",
       "</table>\n",
       "</div>"
      ],
      "text/plain": [
       "  Fecha Cotización  Apertura  Máximo  Mínimo  Cierre  Cierre ajustado  \\\n",
       "0       06/26/2020    619.00  622.95  600.00  608.85           608.85   \n",
       "1       06/25/2020    605.05  625.00  600.15  618.45           618.45   \n",
       "2       06/24/2020    608.95  611.00  591.00  597.90           597.90   \n",
       "3       06/23/2020    613.05  624.90  608.65  611.10           611.10   \n",
       "4       06/22/2020    618.00  618.00  588.00  608.65           608.65   \n",
       "\n",
       "    Volumen Monto Volumen Nominal  \n",
       "0   64,246,839.75      104,830.00  \n",
       "1   62,791,109.15      102,732.00  \n",
       "2   66,405,588.45      110,467.00  \n",
       "3  125,013,430.75      202,079.00  \n",
       "4  207,277,304.60      343,731.00  "
      ]
     },
     "execution_count": 3,
     "metadata": {},
     "output_type": "execute_result"
    }
   ],
   "source": [
    "ypf = pd.read_csv(\"YPF.csv\", skiprows=2, sep=\";\")\n",
    "ypf.head()"
   ]
  },
  {
   "cell_type": "markdown",
   "metadata": {
    "colab_type": "text",
    "id": "wlADo-SH3yvT"
   },
   "source": [
    "##  Date Time Object\n",
    "---"
   ]
  },
  {
   "cell_type": "code",
   "execution_count": 4,
   "metadata": {
    "colab": {},
    "colab_type": "code",
    "id": "Lcv7P8G42w2l"
   },
   "outputs": [
    {
     "data": {
      "text/plain": [
       "0       06/26/2020\n",
       "1       06/25/2020\n",
       "2       06/24/2020\n",
       "3       06/23/2020\n",
       "4       06/22/2020\n",
       "           ...    \n",
       "4592     12/7/2001\n",
       "4593     12/6/2001\n",
       "4594     12/5/2001\n",
       "4595     12/4/2001\n",
       "4596     12/3/2001\n",
       "Name: Fecha Cotización, Length: 4597, dtype: object"
      ]
     },
     "execution_count": 4,
     "metadata": {},
     "output_type": "execute_result"
    }
   ],
   "source": [
    "ypf[\"Fecha Cotización\"]"
   ]
  },
  {
   "cell_type": "markdown",
   "metadata": {
    "colab_type": "text",
    "id": "kshOJbI22w2q"
   },
   "source": [
    "Es importante usar el tipo de objeto **DatTime**. \n",
    "\n",
    "Para esto  usamos la funcion **.to_datetime()**"
   ]
  },
  {
   "cell_type": "code",
   "execution_count": 11,
   "metadata": {
    "colab": {},
    "colab_type": "code",
    "id": "BB_Ib7Oo2w2r"
   },
   "outputs": [
    {
     "data": {
      "text/plain": [
       "0      2020-06-26\n",
       "1      2020-06-25\n",
       "2      2020-06-24\n",
       "3      2020-06-23\n",
       "4      2020-06-22\n",
       "          ...    \n",
       "4592   2001-12-07\n",
       "4593   2001-12-06\n",
       "4594   2001-12-05\n",
       "4595   2001-12-04\n",
       "4596   2001-12-03\n",
       "Name: Fecha Cotización, Length: 4597, dtype: datetime64[ns]"
      ]
     },
     "execution_count": 11,
     "metadata": {},
     "output_type": "execute_result"
    }
   ],
   "source": [
    "pd.to_datetime(ypf[\"Fecha Cotización\"], format=\"%m/%d/%Y\")"
   ]
  },
  {
   "cell_type": "markdown",
   "metadata": {
    "colab_type": "text",
    "id": "LtfLpFva2w2u"
   },
   "source": [
    "Pandas trata de inferir el formato de la Serie, pero puede fallar. Se puede entonces espceificar manualmente con el parámetro **format=**\n",
    "\n",
    "- [info sobre códgio de strings](https://docs.python.org/3/library/datetime.html#strftime-and-strptime-behavior)"
   ]
  },
  {
   "cell_type": "code",
   "execution_count": 6,
   "metadata": {
    "colab": {},
    "colab_type": "code",
    "id": "C7O5k7_M2w2u"
   },
   "outputs": [
    {
     "data": {
      "text/plain": [
       "0       06/26/2020\n",
       "1       06/25/2020\n",
       "2       06/24/2020\n",
       "3       06/23/2020\n",
       "4       06/22/2020\n",
       "           ...    \n",
       "4592     12/7/2001\n",
       "4593     12/6/2001\n",
       "4594     12/5/2001\n",
       "4595     12/4/2001\n",
       "4596     12/3/2001\n",
       "Name: Fecha Cotización, Length: 4597, dtype: object"
      ]
     },
     "execution_count": 6,
     "metadata": {},
     "output_type": "execute_result"
    }
   ],
   "source": [
    "ypf[\"Fecha Cotización\"]"
   ]
  },
  {
   "cell_type": "markdown",
   "metadata": {
    "colab_type": "text",
    "id": "XGeZpC2y4McR"
   },
   "source": [
    "##  Método Transformar Series de Tiempo\n",
    "---\n",
    "\n"
   ]
  },
  {
   "cell_type": "code",
   "execution_count": 14,
   "metadata": {
    "colab": {},
    "colab_type": "code",
    "id": "EyOvCLwM4McW"
   },
   "outputs": [],
   "source": [
    "ypf = pd.read_csv(\"YPF.csv\", skiprows=2, sep=\";\", index_col=\"Fecha Cotización\", parse_dates=True)"
   ]
  },
  {
   "cell_type": "code",
   "execution_count": 15,
   "metadata": {
    "colab": {},
    "colab_type": "code",
    "id": "yVOw_CRf4Mcm"
   },
   "outputs": [
    {
     "data": {
      "text/plain": [
       "DatetimeIndex(['2020-06-26', '2020-06-25', '2020-06-24', '2020-06-23',\n",
       "               '2020-06-22', '2020-06-19', '2020-06-18', '2020-06-17',\n",
       "               '2020-06-16', '2020-06-12',\n",
       "               ...\n",
       "               '2001-12-14', '2001-12-13', '2001-12-12', '2001-12-11',\n",
       "               '2001-12-10', '2001-12-07', '2001-12-06', '2001-12-05',\n",
       "               '2001-12-04', '2001-12-03'],\n",
       "              dtype='datetime64[ns]', name='Fecha Cotización', length=4597, freq=None)"
      ]
     },
     "execution_count": 15,
     "metadata": {},
     "output_type": "execute_result"
    }
   ],
   "source": [
    "ypf.index"
   ]
  },
  {
   "cell_type": "markdown",
   "metadata": {
    "colab_type": "text",
    "id": "Z3PLCReQ2w2x"
   },
   "source": [
    "## Reoredenando en base al ínidice\n",
    "---"
   ]
  },
  {
   "cell_type": "code",
   "execution_count": 20,
   "metadata": {
    "colab": {},
    "colab_type": "code",
    "id": "Hpiphlgq2w2x"
   },
   "outputs": [
    {
     "data": {
      "text/html": [
       "<div>\n",
       "<style scoped>\n",
       "    .dataframe tbody tr th:only-of-type {\n",
       "        vertical-align: middle;\n",
       "    }\n",
       "\n",
       "    .dataframe tbody tr th {\n",
       "        vertical-align: top;\n",
       "    }\n",
       "\n",
       "    .dataframe thead th {\n",
       "        text-align: right;\n",
       "    }\n",
       "</style>\n",
       "<table border=\"1\" class=\"dataframe\">\n",
       "  <thead>\n",
       "    <tr style=\"text-align: right;\">\n",
       "      <th></th>\n",
       "      <th>Apertura</th>\n",
       "      <th>Máximo</th>\n",
       "      <th>Mínimo</th>\n",
       "      <th>Cierre</th>\n",
       "      <th>Cierre ajustado</th>\n",
       "      <th>Volumen Monto</th>\n",
       "      <th>Volumen Nominal</th>\n",
       "    </tr>\n",
       "    <tr>\n",
       "      <th>Fecha Cotización</th>\n",
       "      <th></th>\n",
       "      <th></th>\n",
       "      <th></th>\n",
       "      <th></th>\n",
       "      <th></th>\n",
       "      <th></th>\n",
       "      <th></th>\n",
       "    </tr>\n",
       "  </thead>\n",
       "  <tbody>\n",
       "    <tr>\n",
       "      <th>2001-12-03</th>\n",
       "      <td>15.50</td>\n",
       "      <td>16.00</td>\n",
       "      <td>15.50</td>\n",
       "      <td>16.00</td>\n",
       "      <td>0.00</td>\n",
       "      <td>0.00</td>\n",
       "      <td>0.00</td>\n",
       "    </tr>\n",
       "    <tr>\n",
       "      <th>2001-12-04</th>\n",
       "      <td>16.00</td>\n",
       "      <td>16.50</td>\n",
       "      <td>16.00</td>\n",
       "      <td>16.50</td>\n",
       "      <td>0.00</td>\n",
       "      <td>9,567.00</td>\n",
       "      <td>585.00</td>\n",
       "    </tr>\n",
       "    <tr>\n",
       "      <th>2001-12-05</th>\n",
       "      <td>17.00</td>\n",
       "      <td>18.00</td>\n",
       "      <td>17.00</td>\n",
       "      <td>18.00</td>\n",
       "      <td>0.00</td>\n",
       "      <td>6,073.00</td>\n",
       "      <td>349.00</td>\n",
       "    </tr>\n",
       "    <tr>\n",
       "      <th>2001-12-06</th>\n",
       "      <td>18.00</td>\n",
       "      <td>19.00</td>\n",
       "      <td>17.00</td>\n",
       "      <td>19.00</td>\n",
       "      <td>0.00</td>\n",
       "      <td>491,641.00</td>\n",
       "      <td>28,568.00</td>\n",
       "    </tr>\n",
       "    <tr>\n",
       "      <th>2001-12-07</th>\n",
       "      <td>19.50</td>\n",
       "      <td>20.90</td>\n",
       "      <td>19.50</td>\n",
       "      <td>20.90</td>\n",
       "      <td>0.00</td>\n",
       "      <td>249,645.00</td>\n",
       "      <td>12,131.00</td>\n",
       "    </tr>\n",
       "    <tr>\n",
       "      <th>...</th>\n",
       "      <td>...</td>\n",
       "      <td>...</td>\n",
       "      <td>...</td>\n",
       "      <td>...</td>\n",
       "      <td>...</td>\n",
       "      <td>...</td>\n",
       "      <td>...</td>\n",
       "    </tr>\n",
       "    <tr>\n",
       "      <th>2020-06-22</th>\n",
       "      <td>618.00</td>\n",
       "      <td>618.00</td>\n",
       "      <td>588.00</td>\n",
       "      <td>608.65</td>\n",
       "      <td>608.65</td>\n",
       "      <td>207,277,304.60</td>\n",
       "      <td>343,731.00</td>\n",
       "    </tr>\n",
       "    <tr>\n",
       "      <th>2020-06-23</th>\n",
       "      <td>613.05</td>\n",
       "      <td>624.90</td>\n",
       "      <td>608.65</td>\n",
       "      <td>611.10</td>\n",
       "      <td>611.10</td>\n",
       "      <td>125,013,430.75</td>\n",
       "      <td>202,079.00</td>\n",
       "    </tr>\n",
       "    <tr>\n",
       "      <th>2020-06-24</th>\n",
       "      <td>608.95</td>\n",
       "      <td>611.00</td>\n",
       "      <td>591.00</td>\n",
       "      <td>597.90</td>\n",
       "      <td>597.90</td>\n",
       "      <td>66,405,588.45</td>\n",
       "      <td>110,467.00</td>\n",
       "    </tr>\n",
       "    <tr>\n",
       "      <th>2020-06-25</th>\n",
       "      <td>605.05</td>\n",
       "      <td>625.00</td>\n",
       "      <td>600.15</td>\n",
       "      <td>618.45</td>\n",
       "      <td>618.45</td>\n",
       "      <td>62,791,109.15</td>\n",
       "      <td>102,732.00</td>\n",
       "    </tr>\n",
       "    <tr>\n",
       "      <th>2020-06-26</th>\n",
       "      <td>619.00</td>\n",
       "      <td>622.95</td>\n",
       "      <td>600.00</td>\n",
       "      <td>608.85</td>\n",
       "      <td>608.85</td>\n",
       "      <td>64,246,839.75</td>\n",
       "      <td>104,830.00</td>\n",
       "    </tr>\n",
       "  </tbody>\n",
       "</table>\n",
       "<p>4597 rows × 7 columns</p>\n",
       "</div>"
      ],
      "text/plain": [
       "                  Apertura  Máximo  Mínimo  Cierre  Cierre ajustado  \\\n",
       "Fecha Cotización                                                      \n",
       "2001-12-03           15.50   16.00   15.50   16.00             0.00   \n",
       "2001-12-04           16.00   16.50   16.00   16.50             0.00   \n",
       "2001-12-05           17.00   18.00   17.00   18.00             0.00   \n",
       "2001-12-06           18.00   19.00   17.00   19.00             0.00   \n",
       "2001-12-07           19.50   20.90   19.50   20.90             0.00   \n",
       "...                    ...     ...     ...     ...              ...   \n",
       "2020-06-22          618.00  618.00  588.00  608.65           608.65   \n",
       "2020-06-23          613.05  624.90  608.65  611.10           611.10   \n",
       "2020-06-24          608.95  611.00  591.00  597.90           597.90   \n",
       "2020-06-25          605.05  625.00  600.15  618.45           618.45   \n",
       "2020-06-26          619.00  622.95  600.00  608.85           608.85   \n",
       "\n",
       "                   Volumen Monto Volumen Nominal  \n",
       "Fecha Cotización                                  \n",
       "2001-12-03                  0.00            0.00  \n",
       "2001-12-04              9,567.00          585.00  \n",
       "2001-12-05              6,073.00          349.00  \n",
       "2001-12-06            491,641.00       28,568.00  \n",
       "2001-12-07            249,645.00       12,131.00  \n",
       "...                          ...             ...  \n",
       "2020-06-22        207,277,304.60      343,731.00  \n",
       "2020-06-23        125,013,430.75      202,079.00  \n",
       "2020-06-24         66,405,588.45      110,467.00  \n",
       "2020-06-25         62,791,109.15      102,732.00  \n",
       "2020-06-26         64,246,839.75      104,830.00  \n",
       "\n",
       "[4597 rows x 7 columns]"
      ]
     },
     "execution_count": 20,
     "metadata": {},
     "output_type": "execute_result"
    }
   ],
   "source": [
    "ypf = ypf.sort_index()\n",
    "ypf"
   ]
  },
  {
   "cell_type": "markdown",
   "metadata": {
    "colab_type": "text",
    "id": "ItM75OLj2w28"
   },
   "source": [
    "## El group by de Series de Tiempo \n",
    "\n",
    "Rule parámetro [Offsets signficado](https://pandas.pydata.org/pandas-docs/stable/user_guide/timeseries.html#offset-aliases)"
   ]
  },
  {
   "cell_type": "code",
   "execution_count": 21,
   "metadata": {
    "colab": {},
    "colab_type": "code",
    "id": "-rYDxcuC2w29"
   },
   "outputs": [
    {
     "data": {
      "text/html": [
       "<div>\n",
       "<style scoped>\n",
       "    .dataframe tbody tr th:only-of-type {\n",
       "        vertical-align: middle;\n",
       "    }\n",
       "\n",
       "    .dataframe tbody tr th {\n",
       "        vertical-align: top;\n",
       "    }\n",
       "\n",
       "    .dataframe thead th {\n",
       "        text-align: right;\n",
       "    }\n",
       "</style>\n",
       "<table border=\"1\" class=\"dataframe\">\n",
       "  <thead>\n",
       "    <tr style=\"text-align: right;\">\n",
       "      <th></th>\n",
       "      <th>Apertura</th>\n",
       "      <th>Máximo</th>\n",
       "      <th>Mínimo</th>\n",
       "      <th>Cierre</th>\n",
       "      <th>Cierre ajustado</th>\n",
       "    </tr>\n",
       "    <tr>\n",
       "      <th>Fecha Cotización</th>\n",
       "      <th></th>\n",
       "      <th></th>\n",
       "      <th></th>\n",
       "      <th></th>\n",
       "      <th></th>\n",
       "    </tr>\n",
       "  </thead>\n",
       "  <tbody>\n",
       "    <tr>\n",
       "      <th>2001-12-31</th>\n",
       "      <td>20.466667</td>\n",
       "      <td>21.319048</td>\n",
       "      <td>20.333333</td>\n",
       "      <td>21.266667</td>\n",
       "      <td>0.0</td>\n",
       "    </tr>\n",
       "    <tr>\n",
       "      <th>2002-12-31</th>\n",
       "      <td>43.049617</td>\n",
       "      <td>43.903448</td>\n",
       "      <td>42.732950</td>\n",
       "      <td>43.736782</td>\n",
       "      <td>0.0</td>\n",
       "    </tr>\n",
       "    <tr>\n",
       "      <th>2003-12-31</th>\n",
       "      <td>71.129310</td>\n",
       "      <td>71.835632</td>\n",
       "      <td>70.729502</td>\n",
       "      <td>71.505556</td>\n",
       "      <td>0.0</td>\n",
       "    </tr>\n",
       "    <tr>\n",
       "      <th>2004-12-31</th>\n",
       "      <td>117.298473</td>\n",
       "      <td>118.081107</td>\n",
       "      <td>116.618702</td>\n",
       "      <td>117.400382</td>\n",
       "      <td>0.0</td>\n",
       "    </tr>\n",
       "    <tr>\n",
       "      <th>2005-12-31</th>\n",
       "      <td>164.499231</td>\n",
       "      <td>165.890385</td>\n",
       "      <td>162.999038</td>\n",
       "      <td>164.457115</td>\n",
       "      <td>0.0</td>\n",
       "    </tr>\n",
       "  </tbody>\n",
       "</table>\n",
       "</div>"
      ],
      "text/plain": [
       "                    Apertura      Máximo      Mínimo      Cierre  \\\n",
       "Fecha Cotización                                                   \n",
       "2001-12-31         20.466667   21.319048   20.333333   21.266667   \n",
       "2002-12-31         43.049617   43.903448   42.732950   43.736782   \n",
       "2003-12-31         71.129310   71.835632   70.729502   71.505556   \n",
       "2004-12-31        117.298473  118.081107  116.618702  117.400382   \n",
       "2005-12-31        164.499231  165.890385  162.999038  164.457115   \n",
       "\n",
       "                  Cierre ajustado  \n",
       "Fecha Cotización                   \n",
       "2001-12-31                    0.0  \n",
       "2002-12-31                    0.0  \n",
       "2003-12-31                    0.0  \n",
       "2004-12-31                    0.0  \n",
       "2005-12-31                    0.0  "
      ]
     },
     "execution_count": 21,
     "metadata": {},
     "output_type": "execute_result"
    }
   ],
   "source": [
    "media_anual =ypf.resample(rule='A').mean() #anual\n",
    "media_anual.head()"
   ]
  },
  {
   "cell_type": "code",
   "execution_count": 22,
   "metadata": {
    "colab": {},
    "colab_type": "code",
    "id": "678n-2Oe2w3B"
   },
   "outputs": [
    {
     "data": {
      "text/plain": [
       "<matplotlib.axes._subplots.AxesSubplot at 0x277613ad588>"
      ]
     },
     "execution_count": 22,
     "metadata": {},
     "output_type": "execute_result"
    },
    {
     "data": {
      "image/png": "[encoded data removed]",
      "text/plain": [
       "<Figure size 1080x576 with 1 Axes>"
      ]
     },
     "metadata": {
      "needs_background": "light"
     },
     "output_type": "display_data"
    }
   ],
   "source": [
    "plt.figure(figsize=(15,8))\n",
    "media_anual[\"Cierre\"].plot(kind=\"bar\")"
   ]
  },
  {
   "cell_type": "code",
   "execution_count": 23,
   "metadata": {
    "colab": {},
    "colab_type": "code",
    "id": "ZbhhGLHH2w3K"
   },
   "outputs": [
    {
     "data": {
      "text/html": [
       "<div>\n",
       "<style scoped>\n",
       "    .dataframe tbody tr th:only-of-type {\n",
       "        vertical-align: middle;\n",
       "    }\n",
       "\n",
       "    .dataframe tbody tr th {\n",
       "        vertical-align: top;\n",
       "    }\n",
       "\n",
       "    .dataframe thead th {\n",
       "        text-align: right;\n",
       "    }\n",
       "</style>\n",
       "<table border=\"1\" class=\"dataframe\">\n",
       "  <thead>\n",
       "    <tr style=\"text-align: right;\">\n",
       "      <th></th>\n",
       "      <th>Apertura</th>\n",
       "      <th>Máximo</th>\n",
       "      <th>Mínimo</th>\n",
       "      <th>Cierre</th>\n",
       "      <th>Cierre ajustado</th>\n",
       "    </tr>\n",
       "    <tr>\n",
       "      <th>Fecha Cotización</th>\n",
       "      <th></th>\n",
       "      <th></th>\n",
       "      <th></th>\n",
       "      <th></th>\n",
       "      <th></th>\n",
       "    </tr>\n",
       "  </thead>\n",
       "  <tbody>\n",
       "    <tr>\n",
       "      <th>2001-12-31</th>\n",
       "      <td>429.80</td>\n",
       "      <td>447.70</td>\n",
       "      <td>427.00</td>\n",
       "      <td>446.60</td>\n",
       "      <td>0.00</td>\n",
       "    </tr>\n",
       "    <tr>\n",
       "      <th>2002-01-31</th>\n",
       "      <td>761.55</td>\n",
       "      <td>784.10</td>\n",
       "      <td>760.95</td>\n",
       "      <td>783.70</td>\n",
       "      <td>0.00</td>\n",
       "    </tr>\n",
       "    <tr>\n",
       "      <th>2002-02-28</th>\n",
       "      <td>860.75</td>\n",
       "      <td>868.55</td>\n",
       "      <td>857.70</td>\n",
       "      <td>866.10</td>\n",
       "      <td>0.00</td>\n",
       "    </tr>\n",
       "    <tr>\n",
       "      <th>2002-03-31</th>\n",
       "      <td>975.60</td>\n",
       "      <td>996.20</td>\n",
       "      <td>971.85</td>\n",
       "      <td>996.15</td>\n",
       "      <td>0.00</td>\n",
       "    </tr>\n",
       "    <tr>\n",
       "      <th>2002-04-30</th>\n",
       "      <td>1226.50</td>\n",
       "      <td>1258.00</td>\n",
       "      <td>1217.25</td>\n",
       "      <td>1258.00</td>\n",
       "      <td>0.00</td>\n",
       "    </tr>\n",
       "    <tr>\n",
       "      <th>...</th>\n",
       "      <td>...</td>\n",
       "      <td>...</td>\n",
       "      <td>...</td>\n",
       "      <td>...</td>\n",
       "      <td>...</td>\n",
       "    </tr>\n",
       "    <tr>\n",
       "      <th>2020-02-29</th>\n",
       "      <td>14063.30</td>\n",
       "      <td>14264.85</td>\n",
       "      <td>13761.85</td>\n",
       "      <td>13976.15</td>\n",
       "      <td>13976.15</td>\n",
       "    </tr>\n",
       "    <tr>\n",
       "      <th>2020-03-31</th>\n",
       "      <td>8686.95</td>\n",
       "      <td>8993.90</td>\n",
       "      <td>8121.70</td>\n",
       "      <td>8451.30</td>\n",
       "      <td>8451.30</td>\n",
       "    </tr>\n",
       "    <tr>\n",
       "      <th>2020-04-30</th>\n",
       "      <td>7959.95</td>\n",
       "      <td>8276.45</td>\n",
       "      <td>7680.05</td>\n",
       "      <td>8030.45</td>\n",
       "      <td>8030.45</td>\n",
       "    </tr>\n",
       "    <tr>\n",
       "      <th>2020-05-31</th>\n",
       "      <td>9690.70</td>\n",
       "      <td>10003.60</td>\n",
       "      <td>9418.75</td>\n",
       "      <td>9733.70</td>\n",
       "      <td>9733.70</td>\n",
       "    </tr>\n",
       "    <tr>\n",
       "      <th>2020-06-30</th>\n",
       "      <td>12301.10</td>\n",
       "      <td>12675.25</td>\n",
       "      <td>11894.00</td>\n",
       "      <td>12309.50</td>\n",
       "      <td>12309.50</td>\n",
       "    </tr>\n",
       "  </tbody>\n",
       "</table>\n",
       "<p>223 rows × 5 columns</p>\n",
       "</div>"
      ],
      "text/plain": [
       "                  Apertura    Máximo    Mínimo    Cierre  Cierre ajustado\n",
       "Fecha Cotización                                                         \n",
       "2001-12-31          429.80    447.70    427.00    446.60             0.00\n",
       "2002-01-31          761.55    784.10    760.95    783.70             0.00\n",
       "2002-02-28          860.75    868.55    857.70    866.10             0.00\n",
       "2002-03-31          975.60    996.20    971.85    996.15             0.00\n",
       "2002-04-30         1226.50   1258.00   1217.25   1258.00             0.00\n",
       "...                    ...       ...       ...       ...              ...\n",
       "2020-02-29        14063.30  14264.85  13761.85  13976.15         13976.15\n",
       "2020-03-31         8686.95   8993.90   8121.70   8451.30          8451.30\n",
       "2020-04-30         7959.95   8276.45   7680.05   8030.45          8030.45\n",
       "2020-05-31         9690.70  10003.60   9418.75   9733.70          9733.70\n",
       "2020-06-30        12301.10  12675.25  11894.00  12309.50         12309.50\n",
       "\n",
       "[223 rows x 5 columns]"
      ]
     },
     "execution_count": 23,
     "metadata": {},
     "output_type": "execute_result"
    }
   ],
   "source": [
    "ypf.resample(rule='M').sum() #mensual"
   ]
  },
  {
   "cell_type": "code",
   "execution_count": 24,
   "metadata": {
    "colab": {},
    "colab_type": "code",
    "id": "ZIq7RCh62w3T"
   },
   "outputs": [
    {
     "data": {
      "text/html": [
       "<div>\n",
       "<style scoped>\n",
       "    .dataframe tbody tr th:only-of-type {\n",
       "        vertical-align: middle;\n",
       "    }\n",
       "\n",
       "    .dataframe tbody tr th {\n",
       "        vertical-align: top;\n",
       "    }\n",
       "\n",
       "    .dataframe thead th {\n",
       "        text-align: right;\n",
       "    }\n",
       "</style>\n",
       "<table border=\"1\" class=\"dataframe\">\n",
       "  <thead>\n",
       "    <tr style=\"text-align: right;\">\n",
       "      <th></th>\n",
       "      <th>Apertura</th>\n",
       "      <th>Máximo</th>\n",
       "      <th>Mínimo</th>\n",
       "      <th>Cierre</th>\n",
       "      <th>Cierre ajustado</th>\n",
       "      <th>Volumen Monto</th>\n",
       "      <th>Volumen Nominal</th>\n",
       "    </tr>\n",
       "    <tr>\n",
       "      <th>Fecha Cotización</th>\n",
       "      <th></th>\n",
       "      <th></th>\n",
       "      <th></th>\n",
       "      <th></th>\n",
       "      <th></th>\n",
       "      <th></th>\n",
       "      <th></th>\n",
       "    </tr>\n",
       "  </thead>\n",
       "  <tbody>\n",
       "    <tr>\n",
       "      <th>2001-12-03</th>\n",
       "      <td>15.5</td>\n",
       "      <td>16.0</td>\n",
       "      <td>15.5</td>\n",
       "      <td>16.0</td>\n",
       "      <td>0.0</td>\n",
       "      <td>0.00</td>\n",
       "      <td>0.00</td>\n",
       "    </tr>\n",
       "    <tr>\n",
       "      <th>2001-12-04</th>\n",
       "      <td>16.0</td>\n",
       "      <td>16.5</td>\n",
       "      <td>16.0</td>\n",
       "      <td>16.5</td>\n",
       "      <td>0.0</td>\n",
       "      <td>9,567.00</td>\n",
       "      <td>585.00</td>\n",
       "    </tr>\n",
       "    <tr>\n",
       "      <th>2001-12-05</th>\n",
       "      <td>17.0</td>\n",
       "      <td>18.0</td>\n",
       "      <td>17.0</td>\n",
       "      <td>18.0</td>\n",
       "      <td>0.0</td>\n",
       "      <td>6,073.00</td>\n",
       "      <td>349.00</td>\n",
       "    </tr>\n",
       "    <tr>\n",
       "      <th>2001-12-06</th>\n",
       "      <td>18.0</td>\n",
       "      <td>19.0</td>\n",
       "      <td>17.0</td>\n",
       "      <td>19.0</td>\n",
       "      <td>0.0</td>\n",
       "      <td>491,641.00</td>\n",
       "      <td>28,568.00</td>\n",
       "    </tr>\n",
       "    <tr>\n",
       "      <th>2001-12-07</th>\n",
       "      <td>19.5</td>\n",
       "      <td>20.9</td>\n",
       "      <td>19.5</td>\n",
       "      <td>20.9</td>\n",
       "      <td>0.0</td>\n",
       "      <td>249,645.00</td>\n",
       "      <td>12,131.00</td>\n",
       "    </tr>\n",
       "  </tbody>\n",
       "</table>\n",
       "</div>"
      ],
      "text/plain": [
       "                  Apertura  Máximo  Mínimo  Cierre  Cierre ajustado  \\\n",
       "Fecha Cotización                                                      \n",
       "2001-12-03            15.5    16.0    15.5    16.0              0.0   \n",
       "2001-12-04            16.0    16.5    16.0    16.5              0.0   \n",
       "2001-12-05            17.0    18.0    17.0    18.0              0.0   \n",
       "2001-12-06            18.0    19.0    17.0    19.0              0.0   \n",
       "2001-12-07            19.5    20.9    19.5    20.9              0.0   \n",
       "\n",
       "                 Volumen Monto Volumen Nominal  \n",
       "Fecha Cotización                                \n",
       "2001-12-03                0.00            0.00  \n",
       "2001-12-04            9,567.00          585.00  \n",
       "2001-12-05            6,073.00          349.00  \n",
       "2001-12-06          491,641.00       28,568.00  \n",
       "2001-12-07          249,645.00       12,131.00  "
      ]
     },
     "execution_count": 24,
     "metadata": {},
     "output_type": "execute_result"
    }
   ],
   "source": [
    "ypf.head()"
   ]
  },
  {
   "cell_type": "code",
   "execution_count": 25,
   "metadata": {
    "colab": {},
    "colab_type": "code",
    "id": "jGvIQuNv2w3d"
   },
   "outputs": [
    {
     "data": {
      "text/html": [
       "<div>\n",
       "<style scoped>\n",
       "    .dataframe tbody tr th:only-of-type {\n",
       "        vertical-align: middle;\n",
       "    }\n",
       "\n",
       "    .dataframe tbody tr th {\n",
       "        vertical-align: top;\n",
       "    }\n",
       "\n",
       "    .dataframe thead th {\n",
       "        text-align: right;\n",
       "    }\n",
       "</style>\n",
       "<table border=\"1\" class=\"dataframe\">\n",
       "  <thead>\n",
       "    <tr style=\"text-align: right;\">\n",
       "      <th></th>\n",
       "      <th>Apertura</th>\n",
       "      <th>Máximo</th>\n",
       "      <th>Mínimo</th>\n",
       "      <th>Cierre</th>\n",
       "      <th>Cierre ajustado</th>\n",
       "      <th>Volumen Monto</th>\n",
       "      <th>Volumen Nominal</th>\n",
       "    </tr>\n",
       "    <tr>\n",
       "      <th>Fecha Cotización</th>\n",
       "      <th></th>\n",
       "      <th></th>\n",
       "      <th></th>\n",
       "      <th></th>\n",
       "      <th></th>\n",
       "      <th></th>\n",
       "      <th></th>\n",
       "    </tr>\n",
       "  </thead>\n",
       "  <tbody>\n",
       "    <tr>\n",
       "      <th>2001-12-03</th>\n",
       "      <td>NaN</td>\n",
       "      <td>NaN</td>\n",
       "      <td>NaN</td>\n",
       "      <td>NaN</td>\n",
       "      <td>NaN</td>\n",
       "      <td>NaN</td>\n",
       "      <td>NaN</td>\n",
       "    </tr>\n",
       "    <tr>\n",
       "      <th>2001-12-04</th>\n",
       "      <td>15.50</td>\n",
       "      <td>16.0</td>\n",
       "      <td>15.50</td>\n",
       "      <td>16.00</td>\n",
       "      <td>0.00</td>\n",
       "      <td>0.00</td>\n",
       "      <td>0.00</td>\n",
       "    </tr>\n",
       "    <tr>\n",
       "      <th>2001-12-05</th>\n",
       "      <td>16.00</td>\n",
       "      <td>16.5</td>\n",
       "      <td>16.00</td>\n",
       "      <td>16.50</td>\n",
       "      <td>0.00</td>\n",
       "      <td>9,567.00</td>\n",
       "      <td>585.00</td>\n",
       "    </tr>\n",
       "    <tr>\n",
       "      <th>2001-12-06</th>\n",
       "      <td>17.00</td>\n",
       "      <td>18.0</td>\n",
       "      <td>17.00</td>\n",
       "      <td>18.00</td>\n",
       "      <td>0.00</td>\n",
       "      <td>6,073.00</td>\n",
       "      <td>349.00</td>\n",
       "    </tr>\n",
       "    <tr>\n",
       "      <th>2001-12-07</th>\n",
       "      <td>18.00</td>\n",
       "      <td>19.0</td>\n",
       "      <td>17.00</td>\n",
       "      <td>19.00</td>\n",
       "      <td>0.00</td>\n",
       "      <td>491,641.00</td>\n",
       "      <td>28,568.00</td>\n",
       "    </tr>\n",
       "    <tr>\n",
       "      <th>...</th>\n",
       "      <td>...</td>\n",
       "      <td>...</td>\n",
       "      <td>...</td>\n",
       "      <td>...</td>\n",
       "      <td>...</td>\n",
       "      <td>...</td>\n",
       "      <td>...</td>\n",
       "    </tr>\n",
       "    <tr>\n",
       "      <th>2020-06-22</th>\n",
       "      <td>591.05</td>\n",
       "      <td>633.0</td>\n",
       "      <td>591.05</td>\n",
       "      <td>621.85</td>\n",
       "      <td>621.85</td>\n",
       "      <td>158,440,310.75</td>\n",
       "      <td>257,290.00</td>\n",
       "    </tr>\n",
       "    <tr>\n",
       "      <th>2020-06-23</th>\n",
       "      <td>618.00</td>\n",
       "      <td>618.0</td>\n",
       "      <td>588.00</td>\n",
       "      <td>608.65</td>\n",
       "      <td>608.65</td>\n",
       "      <td>207,277,304.60</td>\n",
       "      <td>343,731.00</td>\n",
       "    </tr>\n",
       "    <tr>\n",
       "      <th>2020-06-24</th>\n",
       "      <td>613.05</td>\n",
       "      <td>624.9</td>\n",
       "      <td>608.65</td>\n",
       "      <td>611.10</td>\n",
       "      <td>611.10</td>\n",
       "      <td>125,013,430.75</td>\n",
       "      <td>202,079.00</td>\n",
       "    </tr>\n",
       "    <tr>\n",
       "      <th>2020-06-25</th>\n",
       "      <td>608.95</td>\n",
       "      <td>611.0</td>\n",
       "      <td>591.00</td>\n",
       "      <td>597.90</td>\n",
       "      <td>597.90</td>\n",
       "      <td>66,405,588.45</td>\n",
       "      <td>110,467.00</td>\n",
       "    </tr>\n",
       "    <tr>\n",
       "      <th>2020-06-26</th>\n",
       "      <td>605.05</td>\n",
       "      <td>625.0</td>\n",
       "      <td>600.15</td>\n",
       "      <td>618.45</td>\n",
       "      <td>618.45</td>\n",
       "      <td>62,791,109.15</td>\n",
       "      <td>102,732.00</td>\n",
       "    </tr>\n",
       "  </tbody>\n",
       "</table>\n",
       "<p>4597 rows × 7 columns</p>\n",
       "</div>"
      ],
      "text/plain": [
       "                  Apertura  Máximo  Mínimo  Cierre  Cierre ajustado  \\\n",
       "Fecha Cotización                                                      \n",
       "2001-12-03             NaN     NaN     NaN     NaN              NaN   \n",
       "2001-12-04           15.50    16.0   15.50   16.00             0.00   \n",
       "2001-12-05           16.00    16.5   16.00   16.50             0.00   \n",
       "2001-12-06           17.00    18.0   17.00   18.00             0.00   \n",
       "2001-12-07           18.00    19.0   17.00   19.00             0.00   \n",
       "...                    ...     ...     ...     ...              ...   \n",
       "2020-06-22          591.05   633.0  591.05  621.85           621.85   \n",
       "2020-06-23          618.00   618.0  588.00  608.65           608.65   \n",
       "2020-06-24          613.05   624.9  608.65  611.10           611.10   \n",
       "2020-06-25          608.95   611.0  591.00  597.90           597.90   \n",
       "2020-06-26          605.05   625.0  600.15  618.45           618.45   \n",
       "\n",
       "                   Volumen Monto Volumen Nominal  \n",
       "Fecha Cotización                                  \n",
       "2001-12-03                   NaN             NaN  \n",
       "2001-12-04                  0.00            0.00  \n",
       "2001-12-05              9,567.00          585.00  \n",
       "2001-12-06              6,073.00          349.00  \n",
       "2001-12-07            491,641.00       28,568.00  \n",
       "...                          ...             ...  \n",
       "2020-06-22        158,440,310.75      257,290.00  \n",
       "2020-06-23        207,277,304.60      343,731.00  \n",
       "2020-06-24        125,013,430.75      202,079.00  \n",
       "2020-06-25         66,405,588.45      110,467.00  \n",
       "2020-06-26         62,791,109.15      102,732.00  \n",
       "\n",
       "[4597 rows x 7 columns]"
      ]
     },
     "execution_count": 25,
     "metadata": {},
     "output_type": "execute_result"
    }
   ],
   "source": [
    "ypf.shift(1)"
   ]
  },
  {
   "cell_type": "markdown",
   "metadata": {
    "colab_type": "text",
    "id": "2XXDO6Vi2w3m"
   },
   "source": [
    "## Media Movíl "
   ]
  },
  {
   "cell_type": "code",
   "execution_count": 26,
   "metadata": {
    "colab": {
     "base_uri": "https://localhost:8080/",
     "height": 225
    },
    "colab_type": "code",
    "executionInfo": {
     "elapsed": 721,
     "status": "error",
     "timestamp": 1593993353294,
     "user": {
      "displayName": "Matias Sanchez Gavier",
      "photoUrl": "https://lh3.googleusercontent.com/a-/AOh14GjD7hZiO5eInT5MTbCuYg7k5GwpkxEcRQM1Y9NQ2g=s64",
      "userId": "12001148323871082461"
     },
     "user_tz": 180
    },
    "id": "giEmihZy2w3m",
    "outputId": "3db851b7-34c8-4fd5-9f31-d4a594b3a78e"
   },
   "outputs": [
    {
     "data": {
      "image/png": "[encoded data removed]",
      "text/plain": [
       "<Figure size 936x648 with 1 Axes>"
      ]
     },
     "metadata": {
      "needs_background": "light"
     },
     "output_type": "display_data"
    }
   ],
   "source": [
    "plt.figure(figsize=(13,9))\n",
    "ypf[\"Cierre\"].plot(kind=\"line\")\n",
    "plt.title(\"Valor de Cierre - YPF\", pad=10, fontdict={'fontsize':20});"
   ]
  },
  {
   "cell_type": "code",
   "execution_count": 27,
   "metadata": {
    "colab": {},
    "colab_type": "code",
    "id": "9zu6emdz2w3p"
   },
   "outputs": [
    {
     "data": {
      "text/html": [
       "<div>\n",
       "<style scoped>\n",
       "    .dataframe tbody tr th:only-of-type {\n",
       "        vertical-align: middle;\n",
       "    }\n",
       "\n",
       "    .dataframe tbody tr th {\n",
       "        vertical-align: top;\n",
       "    }\n",
       "\n",
       "    .dataframe thead th {\n",
       "        text-align: right;\n",
       "    }\n",
       "</style>\n",
       "<table border=\"1\" class=\"dataframe\">\n",
       "  <thead>\n",
       "    <tr style=\"text-align: right;\">\n",
       "      <th></th>\n",
       "      <th>Apertura</th>\n",
       "      <th>Máximo</th>\n",
       "      <th>Mínimo</th>\n",
       "      <th>Cierre</th>\n",
       "      <th>Cierre ajustado</th>\n",
       "    </tr>\n",
       "    <tr>\n",
       "      <th>Fecha Cotización</th>\n",
       "      <th></th>\n",
       "      <th></th>\n",
       "      <th></th>\n",
       "      <th></th>\n",
       "      <th></th>\n",
       "    </tr>\n",
       "  </thead>\n",
       "  <tbody>\n",
       "    <tr>\n",
       "      <th>2001-12-03</th>\n",
       "      <td>NaN</td>\n",
       "      <td>NaN</td>\n",
       "      <td>NaN</td>\n",
       "      <td>NaN</td>\n",
       "      <td>NaN</td>\n",
       "    </tr>\n",
       "    <tr>\n",
       "      <th>2001-12-04</th>\n",
       "      <td>NaN</td>\n",
       "      <td>NaN</td>\n",
       "      <td>NaN</td>\n",
       "      <td>NaN</td>\n",
       "      <td>NaN</td>\n",
       "    </tr>\n",
       "    <tr>\n",
       "      <th>2001-12-05</th>\n",
       "      <td>NaN</td>\n",
       "      <td>NaN</td>\n",
       "      <td>NaN</td>\n",
       "      <td>NaN</td>\n",
       "      <td>NaN</td>\n",
       "    </tr>\n",
       "    <tr>\n",
       "      <th>2001-12-06</th>\n",
       "      <td>NaN</td>\n",
       "      <td>NaN</td>\n",
       "      <td>NaN</td>\n",
       "      <td>NaN</td>\n",
       "      <td>NaN</td>\n",
       "    </tr>\n",
       "    <tr>\n",
       "      <th>2001-12-07</th>\n",
       "      <td>NaN</td>\n",
       "      <td>NaN</td>\n",
       "      <td>NaN</td>\n",
       "      <td>NaN</td>\n",
       "      <td>NaN</td>\n",
       "    </tr>\n",
       "    <tr>\n",
       "      <th>2001-12-10</th>\n",
       "      <td>NaN</td>\n",
       "      <td>NaN</td>\n",
       "      <td>NaN</td>\n",
       "      <td>NaN</td>\n",
       "      <td>NaN</td>\n",
       "    </tr>\n",
       "    <tr>\n",
       "      <th>2001-12-11</th>\n",
       "      <td>18.071429</td>\n",
       "      <td>18.700000</td>\n",
       "      <td>17.842857</td>\n",
       "      <td>18.700000</td>\n",
       "      <td>0.0</td>\n",
       "    </tr>\n",
       "    <tr>\n",
       "      <th>2001-12-12</th>\n",
       "      <td>18.714286</td>\n",
       "      <td>19.271429</td>\n",
       "      <td>18.485714</td>\n",
       "      <td>19.271429</td>\n",
       "      <td>0.0</td>\n",
       "    </tr>\n",
       "  </tbody>\n",
       "</table>\n",
       "</div>"
      ],
      "text/plain": [
       "                   Apertura     Máximo     Mínimo     Cierre  Cierre ajustado\n",
       "Fecha Cotización                                                             \n",
       "2001-12-03              NaN        NaN        NaN        NaN              NaN\n",
       "2001-12-04              NaN        NaN        NaN        NaN              NaN\n",
       "2001-12-05              NaN        NaN        NaN        NaN              NaN\n",
       "2001-12-06              NaN        NaN        NaN        NaN              NaN\n",
       "2001-12-07              NaN        NaN        NaN        NaN              NaN\n",
       "2001-12-10              NaN        NaN        NaN        NaN              NaN\n",
       "2001-12-11        18.071429  18.700000  17.842857  18.700000              0.0\n",
       "2001-12-12        18.714286  19.271429  18.485714  19.271429              0.0"
      ]
     },
     "execution_count": 27,
     "metadata": {},
     "output_type": "execute_result"
    }
   ],
   "source": [
    "media_movil = ypf.rolling(window=7).mean()\n",
    "media_movil.head(8)"
   ]
  },
  {
   "cell_type": "code",
   "execution_count": 28,
   "metadata": {
    "colab": {},
    "colab_type": "code",
    "id": "Amhmj7o52w3r"
   },
   "outputs": [
    {
     "data": {
      "image/png": "[encoded data removed]",
      "text/plain": [
       "<Figure size 936x648 with 1 Axes>"
      ]
     },
     "metadata": {
      "needs_background": "light"
     },
     "output_type": "display_data"
    }
   ],
   "source": [
    "plt.figure(figsize=(13,9))\n",
    "ypf[\"Cierre\"].plot(kind=\"line\")\n",
    "media_movil[\"Cierre\"].plot(kind=\"line\")\n",
    "plt.title(\"Valor de Cierre - YPF\", pad=10, fontdict={'fontsize':20});"
   ]
  },
  {
   "cell_type": "code",
   "execution_count": 29,
   "metadata": {
    "colab": {},
    "colab_type": "code",
    "id": "tV3rppfW2w3t"
   },
   "outputs": [
    {
     "data": {
      "text/html": [
       "<div>\n",
       "<style scoped>\n",
       "    .dataframe tbody tr th:only-of-type {\n",
       "        vertical-align: middle;\n",
       "    }\n",
       "\n",
       "    .dataframe tbody tr th {\n",
       "        vertical-align: top;\n",
       "    }\n",
       "\n",
       "    .dataframe thead th {\n",
       "        text-align: right;\n",
       "    }\n",
       "</style>\n",
       "<table border=\"1\" class=\"dataframe\">\n",
       "  <thead>\n",
       "    <tr style=\"text-align: right;\">\n",
       "      <th></th>\n",
       "      <th>Apertura</th>\n",
       "      <th>Máximo</th>\n",
       "      <th>Mínimo</th>\n",
       "      <th>Cierre</th>\n",
       "      <th>Cierre ajustado</th>\n",
       "    </tr>\n",
       "    <tr>\n",
       "      <th>Fecha Cotización</th>\n",
       "      <th></th>\n",
       "      <th></th>\n",
       "      <th></th>\n",
       "      <th></th>\n",
       "      <th></th>\n",
       "    </tr>\n",
       "  </thead>\n",
       "  <tbody>\n",
       "    <tr>\n",
       "      <th>2001-12-03</th>\n",
       "      <td>NaN</td>\n",
       "      <td>NaN</td>\n",
       "      <td>NaN</td>\n",
       "      <td>NaN</td>\n",
       "      <td>NaN</td>\n",
       "    </tr>\n",
       "    <tr>\n",
       "      <th>2001-12-04</th>\n",
       "      <td>NaN</td>\n",
       "      <td>NaN</td>\n",
       "      <td>NaN</td>\n",
       "      <td>NaN</td>\n",
       "      <td>NaN</td>\n",
       "    </tr>\n",
       "    <tr>\n",
       "      <th>2001-12-05</th>\n",
       "      <td>NaN</td>\n",
       "      <td>NaN</td>\n",
       "      <td>NaN</td>\n",
       "      <td>NaN</td>\n",
       "      <td>NaN</td>\n",
       "    </tr>\n",
       "    <tr>\n",
       "      <th>2001-12-06</th>\n",
       "      <td>NaN</td>\n",
       "      <td>NaN</td>\n",
       "      <td>NaN</td>\n",
       "      <td>NaN</td>\n",
       "      <td>NaN</td>\n",
       "    </tr>\n",
       "    <tr>\n",
       "      <th>2001-12-07</th>\n",
       "      <td>NaN</td>\n",
       "      <td>NaN</td>\n",
       "      <td>NaN</td>\n",
       "      <td>NaN</td>\n",
       "      <td>NaN</td>\n",
       "    </tr>\n",
       "    <tr>\n",
       "      <th>2001-12-10</th>\n",
       "      <td>NaN</td>\n",
       "      <td>NaN</td>\n",
       "      <td>NaN</td>\n",
       "      <td>NaN</td>\n",
       "      <td>NaN</td>\n",
       "    </tr>\n",
       "    <tr>\n",
       "      <th>2001-12-11</th>\n",
       "      <td>NaN</td>\n",
       "      <td>NaN</td>\n",
       "      <td>NaN</td>\n",
       "      <td>NaN</td>\n",
       "      <td>NaN</td>\n",
       "    </tr>\n",
       "    <tr>\n",
       "      <th>2001-12-12</th>\n",
       "      <td>NaN</td>\n",
       "      <td>NaN</td>\n",
       "      <td>NaN</td>\n",
       "      <td>NaN</td>\n",
       "      <td>NaN</td>\n",
       "    </tr>\n",
       "    <tr>\n",
       "      <th>2001-12-13</th>\n",
       "      <td>NaN</td>\n",
       "      <td>NaN</td>\n",
       "      <td>NaN</td>\n",
       "      <td>NaN</td>\n",
       "      <td>NaN</td>\n",
       "    </tr>\n",
       "    <tr>\n",
       "      <th>2001-12-14</th>\n",
       "      <td>NaN</td>\n",
       "      <td>NaN</td>\n",
       "      <td>NaN</td>\n",
       "      <td>NaN</td>\n",
       "      <td>NaN</td>\n",
       "    </tr>\n",
       "    <tr>\n",
       "      <th>2001-12-17</th>\n",
       "      <td>NaN</td>\n",
       "      <td>NaN</td>\n",
       "      <td>NaN</td>\n",
       "      <td>NaN</td>\n",
       "      <td>NaN</td>\n",
       "    </tr>\n",
       "    <tr>\n",
       "      <th>2001-12-18</th>\n",
       "      <td>NaN</td>\n",
       "      <td>NaN</td>\n",
       "      <td>NaN</td>\n",
       "      <td>NaN</td>\n",
       "      <td>NaN</td>\n",
       "    </tr>\n",
       "    <tr>\n",
       "      <th>2001-12-19</th>\n",
       "      <td>NaN</td>\n",
       "      <td>NaN</td>\n",
       "      <td>NaN</td>\n",
       "      <td>NaN</td>\n",
       "      <td>NaN</td>\n",
       "    </tr>\n",
       "    <tr>\n",
       "      <th>2001-12-20</th>\n",
       "      <td>NaN</td>\n",
       "      <td>NaN</td>\n",
       "      <td>NaN</td>\n",
       "      <td>NaN</td>\n",
       "      <td>NaN</td>\n",
       "    </tr>\n",
       "    <tr>\n",
       "      <th>2001-12-21</th>\n",
       "      <td>NaN</td>\n",
       "      <td>NaN</td>\n",
       "      <td>NaN</td>\n",
       "      <td>NaN</td>\n",
       "      <td>NaN</td>\n",
       "    </tr>\n",
       "    <tr>\n",
       "      <th>2001-12-24</th>\n",
       "      <td>NaN</td>\n",
       "      <td>NaN</td>\n",
       "      <td>NaN</td>\n",
       "      <td>NaN</td>\n",
       "      <td>NaN</td>\n",
       "    </tr>\n",
       "    <tr>\n",
       "      <th>2001-12-25</th>\n",
       "      <td>NaN</td>\n",
       "      <td>NaN</td>\n",
       "      <td>NaN</td>\n",
       "      <td>NaN</td>\n",
       "      <td>NaN</td>\n",
       "    </tr>\n",
       "    <tr>\n",
       "      <th>2001-12-26</th>\n",
       "      <td>NaN</td>\n",
       "      <td>NaN</td>\n",
       "      <td>NaN</td>\n",
       "      <td>NaN</td>\n",
       "      <td>NaN</td>\n",
       "    </tr>\n",
       "    <tr>\n",
       "      <th>2001-12-27</th>\n",
       "      <td>NaN</td>\n",
       "      <td>NaN</td>\n",
       "      <td>NaN</td>\n",
       "      <td>NaN</td>\n",
       "      <td>NaN</td>\n",
       "    </tr>\n",
       "    <tr>\n",
       "      <th>2001-12-28</th>\n",
       "      <td>NaN</td>\n",
       "      <td>NaN</td>\n",
       "      <td>NaN</td>\n",
       "      <td>NaN</td>\n",
       "      <td>NaN</td>\n",
       "    </tr>\n",
       "    <tr>\n",
       "      <th>2001-12-31</th>\n",
       "      <td>NaN</td>\n",
       "      <td>NaN</td>\n",
       "      <td>NaN</td>\n",
       "      <td>NaN</td>\n",
       "      <td>NaN</td>\n",
       "    </tr>\n",
       "    <tr>\n",
       "      <th>2002-01-01</th>\n",
       "      <td>NaN</td>\n",
       "      <td>NaN</td>\n",
       "      <td>NaN</td>\n",
       "      <td>NaN</td>\n",
       "      <td>NaN</td>\n",
       "    </tr>\n",
       "    <tr>\n",
       "      <th>2002-01-02</th>\n",
       "      <td>NaN</td>\n",
       "      <td>NaN</td>\n",
       "      <td>NaN</td>\n",
       "      <td>NaN</td>\n",
       "      <td>NaN</td>\n",
       "    </tr>\n",
       "    <tr>\n",
       "      <th>2002-01-03</th>\n",
       "      <td>NaN</td>\n",
       "      <td>NaN</td>\n",
       "      <td>NaN</td>\n",
       "      <td>NaN</td>\n",
       "      <td>NaN</td>\n",
       "    </tr>\n",
       "    <tr>\n",
       "      <th>2002-01-04</th>\n",
       "      <td>NaN</td>\n",
       "      <td>NaN</td>\n",
       "      <td>NaN</td>\n",
       "      <td>NaN</td>\n",
       "      <td>NaN</td>\n",
       "    </tr>\n",
       "    <tr>\n",
       "      <th>2002-01-07</th>\n",
       "      <td>NaN</td>\n",
       "      <td>NaN</td>\n",
       "      <td>NaN</td>\n",
       "      <td>NaN</td>\n",
       "      <td>NaN</td>\n",
       "    </tr>\n",
       "    <tr>\n",
       "      <th>2002-01-08</th>\n",
       "      <td>NaN</td>\n",
       "      <td>NaN</td>\n",
       "      <td>NaN</td>\n",
       "      <td>NaN</td>\n",
       "      <td>NaN</td>\n",
       "    </tr>\n",
       "    <tr>\n",
       "      <th>2002-01-09</th>\n",
       "      <td>NaN</td>\n",
       "      <td>NaN</td>\n",
       "      <td>NaN</td>\n",
       "      <td>NaN</td>\n",
       "      <td>NaN</td>\n",
       "    </tr>\n",
       "    <tr>\n",
       "      <th>2002-01-10</th>\n",
       "      <td>NaN</td>\n",
       "      <td>NaN</td>\n",
       "      <td>NaN</td>\n",
       "      <td>NaN</td>\n",
       "      <td>NaN</td>\n",
       "    </tr>\n",
       "    <tr>\n",
       "      <th>2002-01-11</th>\n",
       "      <td>22.198333</td>\n",
       "      <td>23.090000</td>\n",
       "      <td>22.105000</td>\n",
       "      <td>23.053333</td>\n",
       "      <td>0.0</td>\n",
       "    </tr>\n",
       "    <tr>\n",
       "      <th>2002-01-14</th>\n",
       "      <td>22.581667</td>\n",
       "      <td>23.490000</td>\n",
       "      <td>22.488333</td>\n",
       "      <td>23.453333</td>\n",
       "      <td>0.0</td>\n",
       "    </tr>\n",
       "    <tr>\n",
       "      <th>2002-01-15</th>\n",
       "      <td>22.948333</td>\n",
       "      <td>23.873333</td>\n",
       "      <td>22.855000</td>\n",
       "      <td>23.836667</td>\n",
       "      <td>0.0</td>\n",
       "    </tr>\n",
       "    <tr>\n",
       "      <th>2002-01-16</th>\n",
       "      <td>23.281667</td>\n",
       "      <td>24.206667</td>\n",
       "      <td>23.188333</td>\n",
       "      <td>24.170000</td>\n",
       "      <td>0.0</td>\n",
       "    </tr>\n",
       "    <tr>\n",
       "      <th>2002-01-17</th>\n",
       "      <td>23.681667</td>\n",
       "      <td>24.740000</td>\n",
       "      <td>23.621667</td>\n",
       "      <td>24.703333</td>\n",
       "      <td>0.0</td>\n",
       "    </tr>\n",
       "    <tr>\n",
       "      <th>2002-01-18</th>\n",
       "      <td>24.298333</td>\n",
       "      <td>25.443333</td>\n",
       "      <td>24.238333</td>\n",
       "      <td>25.406667</td>\n",
       "      <td>0.0</td>\n",
       "    </tr>\n",
       "  </tbody>\n",
       "</table>\n",
       "</div>"
      ],
      "text/plain": [
       "                   Apertura     Máximo     Mínimo     Cierre  Cierre ajustado\n",
       "Fecha Cotización                                                             \n",
       "2001-12-03              NaN        NaN        NaN        NaN              NaN\n",
       "2001-12-04              NaN        NaN        NaN        NaN              NaN\n",
       "2001-12-05              NaN        NaN        NaN        NaN              NaN\n",
       "2001-12-06              NaN        NaN        NaN        NaN              NaN\n",
       "2001-12-07              NaN        NaN        NaN        NaN              NaN\n",
       "2001-12-10              NaN        NaN        NaN        NaN              NaN\n",
       "2001-12-11              NaN        NaN        NaN        NaN              NaN\n",
       "2001-12-12              NaN        NaN        NaN        NaN              NaN\n",
       "2001-12-13              NaN        NaN        NaN        NaN              NaN\n",
       "2001-12-14              NaN        NaN        NaN        NaN              NaN\n",
       "2001-12-17              NaN        NaN        NaN        NaN              NaN\n",
       "2001-12-18              NaN        NaN        NaN        NaN              NaN\n",
       "2001-12-19              NaN        NaN        NaN        NaN              NaN\n",
       "2001-12-20              NaN        NaN        NaN        NaN              NaN\n",
       "2001-12-21              NaN        NaN        NaN        NaN              NaN\n",
       "2001-12-24              NaN        NaN        NaN        NaN              NaN\n",
       "2001-12-25              NaN        NaN        NaN        NaN              NaN\n",
       "2001-12-26              NaN        NaN        NaN        NaN              NaN\n",
       "2001-12-27              NaN        NaN        NaN        NaN              NaN\n",
       "2001-12-28              NaN        NaN        NaN        NaN              NaN\n",
       "2001-12-31              NaN        NaN        NaN        NaN              NaN\n",
       "2002-01-01              NaN        NaN        NaN        NaN              NaN\n",
       "2002-01-02              NaN        NaN        NaN        NaN              NaN\n",
       "2002-01-03              NaN        NaN        NaN        NaN              NaN\n",
       "2002-01-04              NaN        NaN        NaN        NaN              NaN\n",
       "2002-01-07              NaN        NaN        NaN        NaN              NaN\n",
       "2002-01-08              NaN        NaN        NaN        NaN              NaN\n",
       "2002-01-09              NaN        NaN        NaN        NaN              NaN\n",
       "2002-01-10              NaN        NaN        NaN        NaN              NaN\n",
       "2002-01-11        22.198333  23.090000  22.105000  23.053333              0.0\n",
       "2002-01-14        22.581667  23.490000  22.488333  23.453333              0.0\n",
       "2002-01-15        22.948333  23.873333  22.855000  23.836667              0.0\n",
       "2002-01-16        23.281667  24.206667  23.188333  24.170000              0.0\n",
       "2002-01-17        23.681667  24.740000  23.621667  24.703333              0.0\n",
       "2002-01-18        24.298333  25.443333  24.238333  25.406667              0.0"
      ]
     },
     "execution_count": 29,
     "metadata": {},
     "output_type": "execute_result"
    }
   ],
   "source": [
    "media_movil = ypf.rolling(window=30).mean()\n",
    "media_movil.head(35)"
   ]
  },
  {
   "cell_type": "code",
   "execution_count": 30,
   "metadata": {
    "colab": {},
    "colab_type": "code",
    "id": "KlXjxCPy2w3x"
   },
   "outputs": [
    {
     "data": {
      "text/plain": [
       "<matplotlib.legend.Legend at 0x27760dda388>"
      ]
     },
     "execution_count": 30,
     "metadata": {},
     "output_type": "execute_result"
    },
    {
     "data": {
      "image/png": "[encoded data removed]",
      "text/plain": [
       "<Figure size 936x648 with 1 Axes>"
      ]
     },
     "metadata": {
      "needs_background": "light"
     },
     "output_type": "display_data"
    }
   ],
   "source": [
    "plt.figure(figsize=(13,9))\n",
    "ypf[\"Cierre\"].plot(kind=\"line\", label=\"Verdadero\")\n",
    "media_movil[\"Cierre\"].plot(kind=\"line\", label=\"Media Movil\")\n",
    "plt.title(\"Valor de Cierre - YPF\", pad=10, fontdict={'fontsize':20});\n",
    "plt.legend()"
   ]
  },
  {
   "cell_type": "code",
   "execution_count": 31,
   "metadata": {
    "colab": {},
    "colab_type": "code",
    "id": "l9NwqjgC2w30"
   },
   "outputs": [
    {
     "data": {
      "text/plain": [
       "<matplotlib.axes._subplots.AxesSubplot at 0x27761a64b88>"
      ]
     },
     "execution_count": 31,
     "metadata": {},
     "output_type": "execute_result"
    },
    {
     "data": {
      "image/png": "[encoded data removed]",
      "text/plain": [
       "<Figure size 432x288 with 1 Axes>"
      ]
     },
     "metadata": {
      "needs_background": "light"
     },
     "output_type": "display_data"
    }
   ],
   "source": [
    "ypf[\"Cierre\"].expanding().mean().plot(kind=\"line\")\n"
   ]
  },
  {
   "cell_type": "markdown",
   "metadata": {
    "colab_type": "text",
    "id": "IG9Wg79J2w32"
   },
   "source": [
    "## Subselección  de TS\n",
    "---\n",
    "\n"
   ]
  },
  {
   "cell_type": "code",
   "execution_count": 32,
   "metadata": {
    "colab": {},
    "colab_type": "code",
    "id": "RfxSYWHK2w33"
   },
   "outputs": [
    {
     "data": {
      "text/plain": [
       "Fecha Cotización\n",
       "2005-11-25    184.0\n",
       "2005-11-28    180.0\n",
       "2005-11-29    177.5\n",
       "2005-11-30    176.0\n",
       "2005-12-01    175.0\n",
       "              ...  \n",
       "2006-11-20    132.0\n",
       "2006-11-21    131.0\n",
       "2006-11-22    140.0\n",
       "2006-11-23    140.0\n",
       "2006-11-24    140.0\n",
       "Name: Cierre, Length: 256, dtype: float64"
      ]
     },
     "execution_count": 32,
     "metadata": {},
     "output_type": "execute_result"
    }
   ],
   "source": [
    "ypf[\"Cierre\"][\"2005-11-25\": \"2006-11-25\"]"
   ]
  },
  {
   "cell_type": "code",
   "execution_count": 33,
   "metadata": {
    "colab": {},
    "colab_type": "code",
    "id": "oeqVHIyj2w35"
   },
   "outputs": [
    {
     "data": {
      "text/plain": [
       "<matplotlib.axes._subplots.AxesSubplot at 0x27761a66908>"
      ]
     },
     "execution_count": 33,
     "metadata": {},
     "output_type": "execute_result"
    },
    {
     "data": {
      "image/png": "[encoded data removed]",
      "text/plain": [
       "<Figure size 432x288 with 1 Axes>"
      ]
     },
     "metadata": {
      "needs_background": "light"
     },
     "output_type": "display_data"
    }
   ],
   "source": [
    "ypf.loc[\"2018-11-25\": \"2020-06-10\", \"Cierre\" ].plot(kind=\"line\", ls=\"--\", c=\"green\")"
   ]
  },
  {
   "cell_type": "markdown",
   "metadata": {
    "colab_type": "text",
    "id": "uMuMo4u24pne"
   },
   "source": [
    "## Gráfico con plotly"
   ]
  },
  {
   "cell_type": "code",
   "execution_count": 1,
   "metadata": {
    "colab": {
     "base_uri": "https://localhost:8080/",
     "height": 244
    },
    "colab_type": "code",
    "executionInfo": {
     "elapsed": 790,
     "status": "error",
     "timestamp": 1593993317883,
     "user": {
      "displayName": "Matias Sanchez Gavier",
      "photoUrl": "https://lh3.googleusercontent.com/a-/AOh14GjD7hZiO5eInT5MTbCuYg7k5GwpkxEcRQM1Y9NQ2g=s64",
      "userId": "12001148323871082461"
     },
     "user_tz": 180
    },
    "id": "TYCCI_AS2w38",
    "outputId": "78346564-69d4-4dcd-f19b-56e53fcbd302"
   },
   "outputs": [
    {
     "ename": "NameError",
     "evalue": "name 'ypf' is not defined",
     "output_type": "error",
     "traceback": [
      "\u001b[0;31m---------------------------------------------------------------------------\u001b[0m",
      "\u001b[0;31mNameError\u001b[0m                                 Traceback (most recent call last)",
      "Input \u001b[0;32mIn [1]\u001b[0m, in \u001b[0;36m<cell line: 3>\u001b[0;34m()\u001b[0m\n\u001b[1;32m      1\u001b[0m \u001b[38;5;28;01mimport\u001b[39;00m \u001b[38;5;21;01mplotly\u001b[39;00m\u001b[38;5;21;01m.\u001b[39;00m\u001b[38;5;21;01mexpress\u001b[39;00m \u001b[38;5;28;01mas\u001b[39;00m \u001b[38;5;21;01mpx\u001b[39;00m\n\u001b[0;32m----> 3\u001b[0m fig \u001b[38;5;241m=\u001b[39m px\u001b[38;5;241m.\u001b[39mline(\u001b[43mypf\u001b[49m, x\u001b[38;5;241m=\u001b[39mypf\u001b[38;5;241m.\u001b[39mindex , y\u001b[38;5;241m=\u001b[39m\u001b[38;5;124m\"\u001b[39m\u001b[38;5;124mCierre\u001b[39m\u001b[38;5;124m\"\u001b[39m, title\u001b[38;5;241m=\u001b[39m\u001b[38;5;124m'\u001b[39m\u001b[38;5;124mCierre 2002-2020 (YPF)\u001b[39m\u001b[38;5;124m'\u001b[39m )\n\u001b[1;32m      4\u001b[0m fig \u001b[38;5;241m=\u001b[39m px\u001b[38;5;241m.\u001b[39mline(media_movil, x\u001b[38;5;241m=\u001b[39mmedia_movil\u001b[38;5;241m.\u001b[39mindex , y\u001b[38;5;241m=\u001b[39m\u001b[38;5;124m\"\u001b[39m\u001b[38;5;124mCierre\u001b[39m\u001b[38;5;124m\"\u001b[39m, title\u001b[38;5;241m=\u001b[39m\u001b[38;5;124m'\u001b[39m\u001b[38;5;124mCierre 2002-2020 (YPF)\u001b[39m\u001b[38;5;124m'\u001b[39m )\n\u001b[1;32m      6\u001b[0m fig\u001b[38;5;241m.\u001b[39mshow()\n",
      "\u001b[0;31mNameError\u001b[0m: name 'ypf' is not defined"
     ]
    }
   ],
   "source": [
    "import plotly.express as px\n",
    "\n",
    "fig = px.line(ypf, x=ypf.index , y=\"Cierre\", title='Cierre 2002-2020 (YPF)' )\n",
    "fig = px.line(media_movil, x=media_movil.index , y=\"Cierre\", title='Cierre 2002-2020 (YPF)' )\n",
    "\n",
    "fig.show()"
   ]
  },
  {
   "cell_type": "code",
   "execution_count": 2,
   "metadata": {
    "colab": {},
    "colab_type": "code",
    "id": "Meh2YtLp2w3-"
   },
   "outputs": [
    {
     "ename": "NameError",
     "evalue": "name 'ypf' is not defined",
     "output_type": "error",
     "traceback": [
      "\u001b[0;31m---------------------------------------------------------------------------\u001b[0m",
      "\u001b[0;31mNameError\u001b[0m                                 Traceback (most recent call last)",
      "Input \u001b[0;32mIn [2]\u001b[0m, in \u001b[0;36m<cell line: 3>\u001b[0;34m()\u001b[0m\n\u001b[1;32m      1\u001b[0m \u001b[38;5;28;01mimport\u001b[39;00m \u001b[38;5;21;01mplotly\u001b[39;00m\u001b[38;5;21;01m.\u001b[39;00m\u001b[38;5;21;01mgraph_objects\u001b[39;00m \u001b[38;5;28;01mas\u001b[39;00m \u001b[38;5;21;01mgo\u001b[39;00m\n\u001b[1;32m      2\u001b[0m fig \u001b[38;5;241m=\u001b[39m go\u001b[38;5;241m.\u001b[39mFigure()\n\u001b[0;32m----> 3\u001b[0m fig\u001b[38;5;241m.\u001b[39madd_trace(go\u001b[38;5;241m.\u001b[39mScatter( x\u001b[38;5;241m=\u001b[39m\u001b[43mypf\u001b[49m\u001b[38;5;241m.\u001b[39mindex , y\u001b[38;5;241m=\u001b[39mypf[\u001b[38;5;124m\"\u001b[39m\u001b[38;5;124mCierre\u001b[39m\u001b[38;5;124m\"\u001b[39m] ))\n\u001b[1;32m      4\u001b[0m fig\u001b[38;5;241m.\u001b[39madd_trace(go\u001b[38;5;241m.\u001b[39mScatter( x\u001b[38;5;241m=\u001b[39mmedia_movil\u001b[38;5;241m.\u001b[39mindex , y\u001b[38;5;241m=\u001b[39mmedia_movil[\u001b[38;5;124m\"\u001b[39m\u001b[38;5;124mCierre\u001b[39m\u001b[38;5;124m\"\u001b[39m] ))\n\u001b[1;32m      5\u001b[0m fig\u001b[38;5;241m.\u001b[39mshow()\n",
      "\u001b[0;31mNameError\u001b[0m: name 'ypf' is not defined"
     ]
    }
   ],
   "source": [
    "import plotly.graph_objects as go\n",
    "fig = go.Figure()\n",
    "fig.add_trace(go.Scatter( x=ypf.index , y=ypf[\"Cierre\"] ))\n",
    "fig.add_trace(go.Scatter( x=media_movil.index , y=media_movil[\"Cierre\"] ))\n",
    "fig.show()"
   ]
  }
 ],
 "metadata": {
  "colab": {
   "collapsed_sections": [],
   "name": "(5) Series de Tiempo con Pandas.ipynb",
   "provenance": []
  },
  "kernelspec": {
   "display_name": "Python 3 (ipykernel)",
   "language": "python",
   "name": "python3"
  },
  "language_info": {
   "codemirror_mode": {
    "name": "ipython",
    "version": 3
   },
   "file_extension": ".py",
   "mimetype": "text/x-python",
   "name": "python",
   "nbconvert_exporter": "python",
   "pygments_lexer": "ipython3",
   "version": "3.9.12"
  }
 },
 "nbformat": 4,
 "nbformat_minor": 4
}
