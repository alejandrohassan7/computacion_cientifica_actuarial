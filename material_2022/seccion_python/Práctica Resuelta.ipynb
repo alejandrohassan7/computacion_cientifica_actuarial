{
 "cells": [
  {
   "cell_type": "markdown",
   "id": "ca540d8e",
   "metadata": {},
   "source": [
    "## Clase práctica 1 - Introducción a Python + Numpy"
   ]
  },
  {
   "cell_type": "markdown",
   "id": "19b1ee5c",
   "metadata": {},
   "source": [
    "La idea de esta notebook es que puedan utilizarla para prácticar los temas vistos en los primeros dos tópicos de la materia: Introduccion a Python, y Numpy. Cabe aclarar que puede que ciertos ejercicios tengan alguna vuelta de tuerca o no se hayan dado durante las clases, por lo que los alumnos deberan **GOOGLEAR** o encontrar la solución por su cuenta. Aunque no lo parezca, saber googlear. cómo solucionar errores o realizar ciertas tareas es sumamente importante la hora de trabajar con cualquier herramienta de programación."
   ]
  },
  {
   "cell_type": "markdown",
   "id": "a06b04b1",
   "metadata": {},
   "source": [
    "### Importar librerias necearias\n",
    "\n",
    "Por el momento sólo necesitaran importar Numpy.\n"
   ]
  },
  {
   "cell_type": "code",
   "execution_count": null,
   "id": "592d56a2",
   "metadata": {},
   "outputs": [],
   "source": [
    "import numpy as np"
   ]
  },
  {
   "cell_type": "markdown",
   "id": "cd4616b9",
   "metadata": {},
   "source": [
    "### 1) Listas"
   ]
  },
  {
   "cell_type": "markdown",
   "id": "e4ff26dd",
   "metadata": {},
   "source": [
    "#### 1.1. Crear una Lista que contenga los siguientes valores: 1,2,3,4,5,6,7,8. **Puede ser creada utilizando un codigo normal, o utilizando una funcion de numpy llamda np.arange**.\n",
    "\n",
    "Llamar a esta lista, lista1."
   ]
  },
  {
   "cell_type": "code",
   "execution_count": 46,
   "id": "cca68980",
   "metadata": {},
   "outputs": [
    {
     "data": {
      "text/plain": [
       "[1, 2, 3, 4, 5, 6, 7, 8]"
      ]
     },
     "execution_count": 46,
     "metadata": {},
     "output_type": "execute_result"
    }
   ],
   "source": [
    "lista1 = (1,2,3,4,5,6,7,8,9) #manera tradicional\n",
    "lista1 = np.arange(1,9).tolist() #con NumPy\n",
    "lista1"
   ]
  },
  {
   "cell_type": "markdown",
   "id": "950e138e",
   "metadata": {},
   "source": [
    "#### 1.2. Traer de la lista sólo los valores 5 y 6 utilizando slicing."
   ]
  },
  {
   "cell_type": "code",
   "execution_count": 47,
   "id": "c8af6132",
   "metadata": {},
   "outputs": [
    {
     "data": {
      "text/plain": [
       "[5, 6]"
      ]
     },
     "execution_count": 47,
     "metadata": {},
     "output_type": "execute_result"
    }
   ],
   "source": [
    "lista1[4:6]"
   ]
  },
  {
   "cell_type": "markdown",
   "id": "a3c9744d",
   "metadata": {},
   "source": [
    "#### 1.3 Agregar al final de la lista el valor 12."
   ]
  },
  {
   "cell_type": "code",
   "execution_count": 48,
   "id": "f684534f",
   "metadata": {},
   "outputs": [
    {
     "data": {
      "text/plain": [
       "[1, 2, 3, 4, 5, 6, 7, 8, 12]"
      ]
     },
     "execution_count": 48,
     "metadata": {},
     "output_type": "execute_result"
    }
   ],
   "source": [
    "lista1.append(12)\n",
    "lista1"
   ]
  },
  {
   "cell_type": "markdown",
   "id": "ab066018",
   "metadata": {},
   "source": [
    "#### 1.4 Agregar a la lista el valor 4.5 y ordenarla para que quede en la posición entre el valor 4 y 5. \n",
    "\n",
    "**Pista: Utilizar append y luego sortear la lista**"
   ]
  },
  {
   "cell_type": "code",
   "execution_count": 49,
   "id": "3946cee0",
   "metadata": {},
   "outputs": [
    {
     "data": {
      "text/plain": [
       "[1, 2, 3, 4, 4.5, 5, 6, 7, 8, 12]"
      ]
     },
     "execution_count": 49,
     "metadata": {},
     "output_type": "execute_result"
    }
   ],
   "source": [
    "lista1.append(4.5)\n",
    "lista2=sorted(lista1)\n",
    "lista2"
   ]
  },
  {
   "cell_type": "markdown",
   "id": "9b70afa2",
   "metadata": {},
   "source": [
    "#### 1.5 Crear una nueva lista llamada lista3 la cual contenga cada valor de la lista 2 multiplicado por 3.\n",
    "\n",
    "**Pista:** Se puede hacer con un for loop o utilizando **Listas de comprensión**"
   ]
  },
  {
   "cell_type": "code",
   "execution_count": 55,
   "id": "1ed640c2",
   "metadata": {},
   "outputs": [
    {
     "data": {
      "text/plain": [
       "[3, 6, 9, 12, 13.5, 15, 18, 21, 24, 36]"
      ]
     },
     "execution_count": 55,
     "metadata": {},
     "output_type": "execute_result"
    }
   ],
   "source": [
    "lista3 = [i *3 for i in lista2] #esto es lista de compresión"
   ]
  },
  {
   "cell_type": "code",
   "execution_count": 57,
   "id": "6f0d4c88",
   "metadata": {},
   "outputs": [
    {
     "data": {
      "text/plain": [
       "[3, 6, 9, 12, 13.5, 15, 18, 21, 24, 36]"
      ]
     },
     "execution_count": 57,
     "metadata": {},
     "output_type": "execute_result"
    }
   ],
   "source": [
    "#otro método:\n",
    "lista3 = []\n",
    "for i in lista2:\n",
    "    val = i*3\n",
    "    lista3.append(val)\n",
    "lista3"
   ]
  },
  {
   "cell_type": "markdown",
   "id": "48c773e3",
   "metadata": {},
   "source": [
    "#### 1.6 Obtener el valor máximo y minimo de la lista. \n",
    "\n",
    "Realizar un print que diga \"El valor maximo de la lista es: **valor máximo**, y el valor mínimo de la lista es: **valor mínimo**.\n",
    "\n",
    "**Pista:** Utilizar funciones de np (max y min para obtener dichos valores)."
   ]
  },
  {
   "cell_type": "code",
   "execution_count": 69,
   "id": "c1bb7a27",
   "metadata": {
    "scrolled": true
   },
   "outputs": [
    {
     "name": "stdout",
     "output_type": "stream",
     "text": [
      "El valor máximo de la lista es 36.0 , y el valor mínimo de la lista es 3.0\n"
     ]
    }
   ],
   "source": [
    "print(\"El valor máximo de la lista es\",np.max(lista3),\", y el valor mínimo de la lista es\",np.min(lista3))"
   ]
  },
  {
   "cell_type": "markdown",
   "id": "bf16cbdb",
   "metadata": {},
   "source": [
    "#### 1.7 For loop con condicionales.\n",
    "\n",
    "Crear una nueva lista llamada lista4, en donde si el número es par sea elevado al cuadrado, y si es impar que el número quede igual. Utilizar como input la lista3.\n",
    "\n",
    "Es decir, que si mi lista es [1,2,3,4], el output deberia ser [1, 4, 3, 16].\n",
    "\n",
    "**Usar un for loop**"
   ]
  },
  {
   "cell_type": "code",
   "execution_count": 70,
   "id": "249caf23",
   "metadata": {},
   "outputs": [
    {
     "data": {
      "text/plain": [
       "[3, 36, 9, 144, 13.5, 15, 324, 21, 576, 1296]"
      ]
     },
     "execution_count": 70,
     "metadata": {},
     "output_type": "execute_result"
    }
   ],
   "source": [
    "lista4 = []\n",
    "for i in lista3:\n",
    "    if (i%2==0):\n",
    "        val=i**2\n",
    "        lista4.append(val)\n",
    "    else:\n",
    "        val=i\n",
    "        lista4.append(val)\n",
    "lista4"
   ]
  },
  {
   "cell_type": "markdown",
   "id": "5c57c4e6",
   "metadata": {},
   "source": [
    "#### 1.8 For loop con más de un condicional. \n",
    "\n",
    "Crear una nueva lista llamada lista5 que sea identica a la lista4, sólo con 2 modificaciones:\n",
    "- Si el valor de la lista4 es igual a 21, que sea transformado por 100.\n",
    "- Si el valor de la lista4 es igual a 9, que sea transformado por 200.\n",
    "- Si el valor de la lista4 no es ni 21 ni 9, que se mantenga el mismo valor.\n",
    "\n",
    "**Pista:** Utilizar la funcion .index"
   ]
  },
  {
   "cell_type": "code",
   "execution_count": 72,
   "id": "c1066ee0",
   "metadata": {},
   "outputs": [
    {
     "data": {
      "text/plain": [
       "[3, 36, 200, 144, 13.5, 15, 324, 100, 576, 1296]"
      ]
     },
     "execution_count": 72,
     "metadata": {},
     "output_type": "execute_result"
    }
   ],
   "source": [
    "lista5 = []\n",
    "for i in lista4:\n",
    "    if (i==21):\n",
    "        lista5.append(100)\n",
    "    elif(i==9):\n",
    "        lista5.append(200)\n",
    "    else:\n",
    "        lista5.append(i)\n",
    "lista5"
   ]
  },
  {
   "cell_type": "markdown",
   "id": "fdf9fd5e",
   "metadata": {},
   "source": [
    "### 2) Diccionarios"
   ]
  },
  {
   "cell_type": "markdown",
   "id": "3c3eddcc",
   "metadata": {},
   "source": [
    "#### 2.1) Crear un diccionario con la siguiente información:\n",
    "- Carrera: Actuario (\"string\")\n",
    "- Materias: 34 (\"int\")\n",
    "- Tema: Python (\"string\")\n",
    "- Cursada: Distancia (\"string\")\n",
    "\n",
    "Llamarlo dict1.\n"
   ]
  },
  {
   "cell_type": "code",
   "execution_count": 75,
   "id": "2071cc21",
   "metadata": {},
   "outputs": [],
   "source": [
    "dict1 = {\"Carrera\":\"acturario\",\"Materias\":34,\"Tema\":\"Python\",\"Cursada\":\"distancia\"}"
   ]
  },
  {
   "cell_type": "markdown",
   "id": "de317def",
   "metadata": {},
   "source": [
    "#### 2.2) Realizar el siguiente print utilizando el diccionario:\n",
    "\n",
    "\"Estudio la carrera de Actuario la cual consta de 34 materias. Actualmente estoy aprendiendo Python a distancia. \"\n",
    "\n",
    "**Utilizar printing avanzado.**"
   ]
  },
  {
   "cell_type": "code",
   "execution_count": 76,
   "id": "172dfe52",
   "metadata": {},
   "outputs": [
    {
     "name": "stdout",
     "output_type": "stream",
     "text": [
      "Estudio la carrera de acturario la cual consta de 34 materias. Actualmente estoy aprendiendo Python a distancia\n"
     ]
    }
   ],
   "source": [
    "print(\"Estudio la carrera de {} la cual consta de {} materias. Actualmente estoy aprendiendo {} a {}\".format(dict1[\"Carrera\"],dict1[\"Materias\"],dict1[\"Tema\"],dict1[\"Cursada\"]))"
   ]
  },
  {
   "cell_type": "markdown",
   "id": "6bbdb728",
   "metadata": {},
   "source": [
    "#### 2.3) Agregar una nueva key que sea \"Facultad\" y contenga el valor \"UBA\""
   ]
  },
  {
   "cell_type": "code",
   "execution_count": 78,
   "id": "bc3e990f",
   "metadata": {},
   "outputs": [
    {
     "data": {
      "text/plain": [
       "{'Carrera': 'acturario',\n",
       " 'Materias': 34,\n",
       " 'Tema': 'Python',\n",
       " 'Cursada': 'distancia',\n",
       " 'Facultad': 'UBA'}"
      ]
     },
     "execution_count": 78,
     "metadata": {},
     "output_type": "execute_result"
    }
   ],
   "source": [
    "dict1[\"Facultad\"]=\"UBA\"\n",
    "dict1"
   ]
  },
  {
   "cell_type": "markdown",
   "id": "f0d15cb9",
   "metadata": {},
   "source": [
    "#### 2.4) Crear dos listas, una que contenga las keys y otra que contenga los valores.\n",
    "\n",
    "Las keys van a ser las mismas que dict1, pero los valores van a ser los siguientes:\n",
    "- Carrera: se mantiene igual en Actuario.\n",
    "- Materias: se modifica por el valor \"Dos optativas\".\n",
    "- Tema: se modifica por el valor \"R\".\n",
    "- Cursada: se modifica por el valor \"Virtual\".\n",
    "- Facultad: se mantiene igual.\n",
    "\n",
    "**Pista**: Para crear la lista de keys pueden utilizar dict.keys().tolist(). Luego creen la otra lista con los nuevos valores, y busquen como usar la funcion dict + zip.\n",
    "\n",
    "A est enuevo diccionario llamarlo dict2."
   ]
  },
  {
   "cell_type": "code",
   "execution_count": 82,
   "id": "060572fc",
   "metadata": {},
   "outputs": [
    {
     "data": {
      "text/plain": [
       "{'Carrera': 'Actuario',\n",
       " 'Materias': 'Dos optativas',\n",
       " 'Tema': 'R',\n",
       " 'Cursada': 'Virtual',\n",
       " 'Facultad': 'UBA'}"
      ]
     },
     "execution_count": 82,
     "metadata": {},
     "output_type": "execute_result"
    }
   ],
   "source": [
    "nuevas_keys = dict1.keys()\n",
    "nuevos_valores = [\"Actuario\",\"Dos optativas\",\"R\",\"Virtual\",\"UBA\"]\n",
    "\n",
    "dict2 = dict(zip(nuevas_keys, nuevos_valores))\n",
    "dict2"
   ]
  },
  {
   "cell_type": "markdown",
   "id": "b4921dce",
   "metadata": {},
   "source": [
    "### 3) Matrices y arrays"
   ]
  },
  {
   "cell_type": "markdown",
   "id": "e4d3d00e",
   "metadata": {},
   "source": [
    "#### 3.1) Crear un array que contenga valores desde 0 a 30, con steps de 2.\n",
    "\n",
    "Llamar al array array1."
   ]
  },
  {
   "cell_type": "code",
   "execution_count": 100,
   "id": "e9b615d8",
   "metadata": {},
   "outputs": [
    {
     "data": {
      "text/plain": [
       "array([ 0,  2,  4,  6,  8, 10, 12, 14, 16, 18, 20, 22, 24, 26, 28, 30])"
      ]
     },
     "execution_count": 100,
     "metadata": {},
     "output_type": "execute_result"
    }
   ],
   "source": [
    "array1 = np.arange(0,31,2)\n",
    "array1"
   ]
  },
  {
   "cell_type": "markdown",
   "id": "95c34ae7",
   "metadata": {},
   "source": [
    "#### 3.2) Crear una nuevo array llamado array2 en donde si el valor es mayor a 16, se modifique por 20."
   ]
  },
  {
   "cell_type": "code",
   "execution_count": 101,
   "id": "e860209a",
   "metadata": {},
   "outputs": [
    {
     "data": {
      "text/plain": [
       "array([ 0,  2,  4,  6,  8, 10, 12, 14, 16, 20, 20, 20, 20, 20, 20, 20])"
      ]
     },
     "execution_count": 101,
     "metadata": {},
     "output_type": "execute_result"
    }
   ],
   "source": [
    "array2=[]\n",
    "for i in array1:\n",
    "    if(i>16):\n",
    "        array2.append(20)\n",
    "    else:\n",
    "        array2.append(i)\n",
    "array2\n",
    "\n",
    "#otra manera más fácil:\n",
    "array2 = np.where(array1 > 16, 20, array1)\n",
    "array2"
   ]
  },
  {
   "cell_type": "markdown",
   "id": "e582860b",
   "metadata": {},
   "source": [
    "#### 3.3) Crear una matriz utilizando los array 1 y 2. La matriz debe ser de 2x5.\n",
    "\n",
    "**Las primera fila debe contener los primeros 5 valores del array 1, y la segunda fila los 5 valores del array2.**\n",
    "\n",
    "Output seria:\n",
    "\n",
    "[0, 2, 4, 6, 8]\n",
    "\n",
    "[20, 20, 20, 20, 20]\n",
    "\n",
    "Llamarla como matrix1.\n",
    "\n",
    "**Utilizar slicing de listas**"
   ]
  },
  {
   "cell_type": "code",
   "execution_count": 102,
   "id": "e38b6914",
   "metadata": {},
   "outputs": [
    {
     "data": {
      "text/plain": [
       "array([[ 0,  2,  4,  6,  8],\n",
       "       [20, 20, 20, 20, 20]])"
      ]
     },
     "execution_count": 102,
     "metadata": {},
     "output_type": "execute_result"
    }
   ],
   "source": [
    "array1_filtrado = array1[:5]\n",
    "array2_filtrado = array2[-5:]\n",
    "\n",
    "matrix1 = np.array([array1_filtrado,\n",
    "                  array2_filtrado])\n",
    "\n",
    "matrix1"
   ]
  },
  {
   "cell_type": "markdown",
   "id": "45ee6d62",
   "metadata": {},
   "source": [
    "#### 3.4) Para los valores de la primer fila, multiplicarlos por 3.  \n",
    "\n",
    "Para este ejercicio hay muchas formas de hacerlo. \n",
    "\n",
    "**Pista:** Crear un nuevo array con los valores de la primer fila multiplicados por 3, y luego reemplazar la primer fila (matrix[0,:]) por este nuevo array."
   ]
  },
  {
   "cell_type": "code",
   "execution_count": 103,
   "id": "f14331c2",
   "metadata": {},
   "outputs": [
    {
     "data": {
      "text/plain": [
       "array([[ 0,  6, 12, 18, 24],\n",
       "       [20, 20, 20, 20, 20]])"
      ]
     },
     "execution_count": 103,
     "metadata": {},
     "output_type": "execute_result"
    }
   ],
   "source": [
    "matrix1[0,:]*=3\n",
    "matrix1"
   ]
  },
  {
   "cell_type": "markdown",
   "id": "dfeea6a2",
   "metadata": {},
   "source": [
    "#### 3.5) Obtener el valor máximo de cada columna.\n",
    "\n",
    "Utilizar un for loop e imprimir el valor máximo de cada columna."
   ]
  },
  {
   "cell_type": "code",
   "execution_count": 108,
   "id": "cee164c3",
   "metadata": {},
   "outputs": [
    {
     "name": "stdout",
     "output_type": "stream",
     "text": [
      "El valor máximo es 20\n",
      "El valor máximo es 20\n",
      "El valor máximo es 20\n",
      "El valor máximo es 24\n"
     ]
    }
   ],
   "source": [
    "for i in np.arange(1, matrix1.shape[1]):\n",
    "    print(\"El valor máximo es\",max(matrix1[:,i]))"
   ]
  }
 ],
 "metadata": {
  "kernelspec": {
   "display_name": "Python 3 (ipykernel)",
   "language": "python",
   "name": "python3"
  },
  "language_info": {
   "codemirror_mode": {
    "name": "ipython",
    "version": 3
   },
   "file_extension": ".py",
   "mimetype": "text/x-python",
   "name": "python",
   "nbconvert_exporter": "python",
   "pygments_lexer": "ipython3",
   "version": "3.9.12"
  }
 },
 "nbformat": 4,
 "nbformat_minor": 5
}
