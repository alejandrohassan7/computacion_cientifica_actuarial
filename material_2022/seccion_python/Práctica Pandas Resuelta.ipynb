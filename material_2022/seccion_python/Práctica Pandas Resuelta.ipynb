{
 "cells": [
  {
   "cell_type": "markdown",
   "id": "e71b0ebe",
   "metadata": {},
   "source": [
    "## 2. Clase práctica - Análisis de datos con Pandas - Parte 1\n",
    "\n",
    "## Para realizar esta NB deben tener los datasets data1 y data2 en formato csv.\n",
    "\n",
    "**Importamos librerias que vamos a usar en toda la NB**"
   ]
  },
  {
   "cell_type": "code",
   "execution_count": 1,
   "id": "3beabc1d",
   "metadata": {
    "scrolled": true
   },
   "outputs": [],
   "source": [
    "import pandas as pd\n",
    "import numpy as np\n",
    "import os"
   ]
  },
  {
   "cell_type": "markdown",
   "id": "3ca4e2b2",
   "metadata": {},
   "source": [
    "### Importar los dataframes.\n",
    "\n",
    "**Llamar al data1.csv \"df\" y al data2 \"df_variables\"**. "
   ]
  },
  {
   "cell_type": "code",
   "execution_count": 2,
   "id": "3da67acc",
   "metadata": {
    "scrolled": false
   },
   "outputs": [
    {
     "name": "stdout",
     "output_type": "stream",
     "text": [
      "/Users/mati/Desktop/Personal/UBA/Ciclo Profesional/Compu Científica Actuarial/Python/Prácticas/Pandas\n"
     ]
    }
   ],
   "source": [
    "print(os.getcwd()) #chequear que el archivo se encuentre guardado en el directorio actual\n",
    "df = pd.read_csv(\"data1.csv\", delimiter=\",\") \n",
    "df_variables = pd.read_csv(\"data2.csv\", delimiter=\",\")"
   ]
  },
  {
   "cell_type": "code",
   "execution_count": 3,
   "id": "f6bdd1d6",
   "metadata": {},
   "outputs": [
    {
     "data": {
      "text/plain": [
       "['Unnamed: 0',\n",
       " 'rut',\n",
       " 'periodo',\n",
       " 'archive',\n",
       " 'ind_activo',\n",
       " 'estado_solicitud',\n",
       " 'captacion',\n",
       " 'cant_tel',\n",
       " 'predictor1_6',\n",
       " 'marca_60d_6m_final']"
      ]
     },
     "execution_count": 3,
     "metadata": {},
     "output_type": "execute_result"
    }
   ],
   "source": [
    "df.columns.tolist()"
   ]
  },
  {
   "cell_type": "code",
   "execution_count": 4,
   "id": "fbe4864c",
   "metadata": {},
   "outputs": [
    {
     "data": {
      "text/plain": [
       "['Unnamed: 0',\n",
       " 'rut',\n",
       " 'periodo',\n",
       " 'archive',\n",
       " 'predictor1_7',\n",
       " 'predictor1_8',\n",
       " 'predictor1_9',\n",
       " 'predictor1_10',\n",
       " 'predictor1_11',\n",
       " 'predictor1_12',\n",
       " 'ignite_ise',\n",
       " 'ind_compra_paga']"
      ]
     },
     "execution_count": 4,
     "metadata": {},
     "output_type": "execute_result"
    }
   ],
   "source": [
    "df_variables.columns.tolist()"
   ]
  },
  {
   "cell_type": "markdown",
   "id": "98c4a4a2",
   "metadata": {},
   "source": [
    "### Detalles de la data:\n",
    "\n",
    "**Es importante destacar que no importa mucho que significa cada variable en esta NB, ya que el objetivo principal es que puedan realizar los ejercicios y entender cómo funciona pandas**.\n",
    "\n",
    "No obstante, les dejamos una breve descripción de algunos atributos en caso que lo necesiten.\n",
    "\n",
    "- rut = ID de cada observación.\n",
    "- Periodo = periodo de cada observación.\n",
    "- Los campos rut y periodo son las claves por las cuales los registros son únicos, es decir que no hay duplicados con mismo rut y periodo.\n",
    "- ind_activo: Informacion si el cliente se encuentre activo.\n",
    "- estado_solicitud: estado en el que se encuentra la solcitud del cliente.\n",
    "- captacion: metodo de captacion por el cual fue captado el cliente.\n",
    "- marca_6m_60d_final: 1 si el cliente es malo y 0 si es bueno.\n",
    "- etc.\n",
    "\n",
    "#### Si importaron el dataset y les quedo la columna \"Unnamed: 0\". Eliminarla usando drop\n",
    "\n",
    "**Atentos a no olvidarse el inplace=True!!**"
   ]
  },
  {
   "cell_type": "code",
   "execution_count": 5,
   "id": "f9ddf0b7",
   "metadata": {
    "scrolled": true
   },
   "outputs": [],
   "source": [
    "df.drop(columns=\"Unnamed: 0\", inplace=True)\n",
    "df_variables.drop(columns=\"Unnamed: 0\",inplace=True)"
   ]
  },
  {
   "cell_type": "markdown",
   "id": "9ed2b432",
   "metadata": {},
   "source": [
    "### 1) Realizar Sanity check de la data.\n",
    "\n",
    "Para este primer punto, utilizar el dataset df que hace referencia al **data1.csv.** No obstante, si quieren realizarlo en ambos, nunca esta demás.\n",
    "\n",
    "**Funciones Útiles**\n",
    "\n",
    "* .head()\n",
    "* .info()\n",
    "* .shape\n",
    "* .dtypes\n",
    "* .describe\n",
    "* .isna()\n",
    "* .sum()\n",
    "* .unique()\n",
    "* .nunique()\n",
    "* .value_counts()\n",
    "\n",
    "#### 1.1) Observar las primeras 5 filas del dataset \"df\"."
   ]
  },
  {
   "cell_type": "code",
   "execution_count": 6,
   "id": "7cd7ed87",
   "metadata": {
    "scrolled": true
   },
   "outputs": [
    {
     "data": {
      "text/html": [
       "<div>\n",
       "<style scoped>\n",
       "    .dataframe tbody tr th:only-of-type {\n",
       "        vertical-align: middle;\n",
       "    }\n",
       "\n",
       "    .dataframe tbody tr th {\n",
       "        vertical-align: top;\n",
       "    }\n",
       "\n",
       "    .dataframe thead th {\n",
       "        text-align: right;\n",
       "    }\n",
       "</style>\n",
       "<table border=\"1\" class=\"dataframe\">\n",
       "  <thead>\n",
       "    <tr style=\"text-align: right;\">\n",
       "      <th></th>\n",
       "      <th>rut</th>\n",
       "      <th>periodo</th>\n",
       "      <th>archive</th>\n",
       "      <th>ind_activo</th>\n",
       "      <th>estado_solicitud</th>\n",
       "      <th>captacion</th>\n",
       "      <th>cant_tel</th>\n",
       "      <th>predictor1_6</th>\n",
       "      <th>marca_60d_6m_final</th>\n",
       "    </tr>\n",
       "  </thead>\n",
       "  <tbody>\n",
       "    <tr>\n",
       "      <th>0</th>\n",
       "      <td>PlDKtWGFBg</td>\n",
       "      <td>201909.0</td>\n",
       "      <td>20190930.0</td>\n",
       "      <td>0.0</td>\n",
       "      <td>Rechazado</td>\n",
       "      <td>NORMAL</td>\n",
       "      <td>1.0</td>\n",
       "      <td>596.0</td>\n",
       "      <td>1.0</td>\n",
       "    </tr>\n",
       "    <tr>\n",
       "      <th>1</th>\n",
       "      <td>MOAbr9v9ac</td>\n",
       "      <td>201810.0</td>\n",
       "      <td>20181031.0</td>\n",
       "      <td>1.0</td>\n",
       "      <td>Aprobado</td>\n",
       "      <td>EXPRESS</td>\n",
       "      <td>4.0</td>\n",
       "      <td>NaN</td>\n",
       "      <td>0.0</td>\n",
       "    </tr>\n",
       "    <tr>\n",
       "      <th>2</th>\n",
       "      <td>49L1vb3c2I</td>\n",
       "      <td>201909.0</td>\n",
       "      <td>20190930.0</td>\n",
       "      <td>1.0</td>\n",
       "      <td>Aprobado</td>\n",
       "      <td>NORMAL</td>\n",
       "      <td>3.0</td>\n",
       "      <td>633.0</td>\n",
       "      <td>0.0</td>\n",
       "    </tr>\n",
       "    <tr>\n",
       "      <th>3</th>\n",
       "      <td>7xM1iIFNCb</td>\n",
       "      <td>201812.0</td>\n",
       "      <td>20181231.0</td>\n",
       "      <td>1.0</td>\n",
       "      <td>Aprobado</td>\n",
       "      <td>EXPRESS</td>\n",
       "      <td>4.0</td>\n",
       "      <td>NaN</td>\n",
       "      <td>0.0</td>\n",
       "    </tr>\n",
       "    <tr>\n",
       "      <th>4</th>\n",
       "      <td>e2ayZYSD59</td>\n",
       "      <td>201809.0</td>\n",
       "      <td>20180930.0</td>\n",
       "      <td>1.0</td>\n",
       "      <td>Aprobado</td>\n",
       "      <td>NORMAL</td>\n",
       "      <td>0.0</td>\n",
       "      <td>NaN</td>\n",
       "      <td>0.0</td>\n",
       "    </tr>\n",
       "  </tbody>\n",
       "</table>\n",
       "</div>"
      ],
      "text/plain": [
       "          rut   periodo     archive  ind_activo estado_solicitud captacion  \\\n",
       "0  PlDKtWGFBg  201909.0  20190930.0         0.0        Rechazado    NORMAL   \n",
       "1  MOAbr9v9ac  201810.0  20181031.0         1.0         Aprobado   EXPRESS   \n",
       "2  49L1vb3c2I  201909.0  20190930.0         1.0         Aprobado    NORMAL   \n",
       "3  7xM1iIFNCb  201812.0  20181231.0         1.0         Aprobado   EXPRESS   \n",
       "4  e2ayZYSD59  201809.0  20180930.0         1.0         Aprobado    NORMAL   \n",
       "\n",
       "   cant_tel  predictor1_6  marca_60d_6m_final  \n",
       "0       1.0         596.0                 1.0  \n",
       "1       4.0           NaN                 0.0  \n",
       "2       3.0         633.0                 0.0  \n",
       "3       4.0           NaN                 0.0  \n",
       "4       0.0           NaN                 0.0  "
      ]
     },
     "execution_count": 6,
     "metadata": {},
     "output_type": "execute_result"
    }
   ],
   "source": [
    "df.head()"
   ]
  },
  {
   "cell_type": "code",
   "execution_count": 7,
   "id": "f2fdbec1",
   "metadata": {},
   "outputs": [
    {
     "data": {
      "text/html": [
       "<div>\n",
       "<style scoped>\n",
       "    .dataframe tbody tr th:only-of-type {\n",
       "        vertical-align: middle;\n",
       "    }\n",
       "\n",
       "    .dataframe tbody tr th {\n",
       "        vertical-align: top;\n",
       "    }\n",
       "\n",
       "    .dataframe thead th {\n",
       "        text-align: right;\n",
       "    }\n",
       "</style>\n",
       "<table border=\"1\" class=\"dataframe\">\n",
       "  <thead>\n",
       "    <tr style=\"text-align: right;\">\n",
       "      <th></th>\n",
       "      <th>rut</th>\n",
       "      <th>periodo</th>\n",
       "      <th>archive</th>\n",
       "      <th>predictor1_7</th>\n",
       "      <th>predictor1_8</th>\n",
       "      <th>predictor1_9</th>\n",
       "      <th>predictor1_10</th>\n",
       "      <th>predictor1_11</th>\n",
       "      <th>predictor1_12</th>\n",
       "      <th>ignite_ise</th>\n",
       "      <th>ind_compra_paga</th>\n",
       "    </tr>\n",
       "  </thead>\n",
       "  <tbody>\n",
       "    <tr>\n",
       "      <th>0</th>\n",
       "      <td>PlDKtWGFBg</td>\n",
       "      <td>201909.0</td>\n",
       "      <td>20190930.0</td>\n",
       "      <td>551.0</td>\n",
       "      <td>506.0</td>\n",
       "      <td>506.0</td>\n",
       "      <td>640.0</td>\n",
       "      <td>681.0</td>\n",
       "      <td>640.0</td>\n",
       "      <td>D</td>\n",
       "      <td>0.0</td>\n",
       "    </tr>\n",
       "    <tr>\n",
       "      <th>1</th>\n",
       "      <td>MOAbr9v9ac</td>\n",
       "      <td>201810.0</td>\n",
       "      <td>20181031.0</td>\n",
       "      <td>NaN</td>\n",
       "      <td>NaN</td>\n",
       "      <td>NaN</td>\n",
       "      <td>NaN</td>\n",
       "      <td>NaN</td>\n",
       "      <td>NaN</td>\n",
       "      <td>C3</td>\n",
       "      <td>0.0</td>\n",
       "    </tr>\n",
       "    <tr>\n",
       "      <th>2</th>\n",
       "      <td>49L1vb3c2I</td>\n",
       "      <td>201909.0</td>\n",
       "      <td>20190930.0</td>\n",
       "      <td>544.0</td>\n",
       "      <td>675.0</td>\n",
       "      <td>675.0</td>\n",
       "      <td>749.0</td>\n",
       "      <td>749.0</td>\n",
       "      <td>749.0</td>\n",
       "      <td>D</td>\n",
       "      <td>0.0</td>\n",
       "    </tr>\n",
       "    <tr>\n",
       "      <th>3</th>\n",
       "      <td>7xM1iIFNCb</td>\n",
       "      <td>201812.0</td>\n",
       "      <td>20181231.0</td>\n",
       "      <td>NaN</td>\n",
       "      <td>NaN</td>\n",
       "      <td>NaN</td>\n",
       "      <td>NaN</td>\n",
       "      <td>NaN</td>\n",
       "      <td>NaN</td>\n",
       "      <td>E</td>\n",
       "      <td>0.0</td>\n",
       "    </tr>\n",
       "    <tr>\n",
       "      <th>4</th>\n",
       "      <td>e2ayZYSD59</td>\n",
       "      <td>201809.0</td>\n",
       "      <td>20180930.0</td>\n",
       "      <td>NaN</td>\n",
       "      <td>NaN</td>\n",
       "      <td>NaN</td>\n",
       "      <td>NaN</td>\n",
       "      <td>NaN</td>\n",
       "      <td>NaN</td>\n",
       "      <td>E</td>\n",
       "      <td>0.0</td>\n",
       "    </tr>\n",
       "  </tbody>\n",
       "</table>\n",
       "</div>"
      ],
      "text/plain": [
       "          rut   periodo     archive  predictor1_7  predictor1_8  predictor1_9  \\\n",
       "0  PlDKtWGFBg  201909.0  20190930.0         551.0         506.0         506.0   \n",
       "1  MOAbr9v9ac  201810.0  20181031.0           NaN           NaN           NaN   \n",
       "2  49L1vb3c2I  201909.0  20190930.0         544.0         675.0         675.0   \n",
       "3  7xM1iIFNCb  201812.0  20181231.0           NaN           NaN           NaN   \n",
       "4  e2ayZYSD59  201809.0  20180930.0           NaN           NaN           NaN   \n",
       "\n",
       "   predictor1_10  predictor1_11  predictor1_12 ignite_ise  ind_compra_paga  \n",
       "0          640.0          681.0          640.0          D              0.0  \n",
       "1            NaN            NaN            NaN         C3              0.0  \n",
       "2          749.0          749.0          749.0          D              0.0  \n",
       "3            NaN            NaN            NaN          E              0.0  \n",
       "4            NaN            NaN            NaN          E              0.0  "
      ]
     },
     "execution_count": 7,
     "metadata": {},
     "output_type": "execute_result"
    }
   ],
   "source": [
    "df_variables.head()"
   ]
  },
  {
   "cell_type": "markdown",
   "id": "437b989b",
   "metadata": {},
   "source": [
    "#### 1.2) Observar las últimas 5 filas del dataset \"df\"."
   ]
  },
  {
   "cell_type": "code",
   "execution_count": 8,
   "id": "b82ff087",
   "metadata": {
    "scrolled": true
   },
   "outputs": [
    {
     "data": {
      "text/html": [
       "<div>\n",
       "<style scoped>\n",
       "    .dataframe tbody tr th:only-of-type {\n",
       "        vertical-align: middle;\n",
       "    }\n",
       "\n",
       "    .dataframe tbody tr th {\n",
       "        vertical-align: top;\n",
       "    }\n",
       "\n",
       "    .dataframe thead th {\n",
       "        text-align: right;\n",
       "    }\n",
       "</style>\n",
       "<table border=\"1\" class=\"dataframe\">\n",
       "  <thead>\n",
       "    <tr style=\"text-align: right;\">\n",
       "      <th></th>\n",
       "      <th>rut</th>\n",
       "      <th>periodo</th>\n",
       "      <th>archive</th>\n",
       "      <th>ind_activo</th>\n",
       "      <th>estado_solicitud</th>\n",
       "      <th>captacion</th>\n",
       "      <th>cant_tel</th>\n",
       "      <th>predictor1_6</th>\n",
       "      <th>marca_60d_6m_final</th>\n",
       "    </tr>\n",
       "  </thead>\n",
       "  <tbody>\n",
       "    <tr>\n",
       "      <th>9995</th>\n",
       "      <td>aaoBjnEivN</td>\n",
       "      <td>201909.0</td>\n",
       "      <td>20190930.0</td>\n",
       "      <td>0.0</td>\n",
       "      <td>Rechazado</td>\n",
       "      <td>NORMAL</td>\n",
       "      <td>4.0</td>\n",
       "      <td>350.0</td>\n",
       "      <td>1.0</td>\n",
       "    </tr>\n",
       "    <tr>\n",
       "      <th>9996</th>\n",
       "      <td>ydTWpQrnQV</td>\n",
       "      <td>201912.0</td>\n",
       "      <td>20191231.0</td>\n",
       "      <td>1.0</td>\n",
       "      <td>Aprobado</td>\n",
       "      <td>NORMAL</td>\n",
       "      <td>3.0</td>\n",
       "      <td>605.0</td>\n",
       "      <td>0.0</td>\n",
       "    </tr>\n",
       "    <tr>\n",
       "      <th>9997</th>\n",
       "      <td>gE0FksUKBV</td>\n",
       "      <td>202003.0</td>\n",
       "      <td>20200331.0</td>\n",
       "      <td>1.0</td>\n",
       "      <td>Aprobado</td>\n",
       "      <td>EXPRESS</td>\n",
       "      <td>1.0</td>\n",
       "      <td>805.0</td>\n",
       "      <td>0.0</td>\n",
       "    </tr>\n",
       "    <tr>\n",
       "      <th>9998</th>\n",
       "      <td>5Vf8evWasd</td>\n",
       "      <td>201905.0</td>\n",
       "      <td>20190531.0</td>\n",
       "      <td>1.0</td>\n",
       "      <td>Aprobado</td>\n",
       "      <td>EXPRESS</td>\n",
       "      <td>5.0</td>\n",
       "      <td>387.0</td>\n",
       "      <td>0.0</td>\n",
       "    </tr>\n",
       "    <tr>\n",
       "      <th>9999</th>\n",
       "      <td>WP6QjuqjbW</td>\n",
       "      <td>201908.0</td>\n",
       "      <td>20190831.0</td>\n",
       "      <td>1.0</td>\n",
       "      <td>Aprobado</td>\n",
       "      <td>EXPRESS</td>\n",
       "      <td>8.0</td>\n",
       "      <td>410.0</td>\n",
       "      <td>0.0</td>\n",
       "    </tr>\n",
       "  </tbody>\n",
       "</table>\n",
       "</div>"
      ],
      "text/plain": [
       "             rut   periodo     archive  ind_activo estado_solicitud captacion  \\\n",
       "9995  aaoBjnEivN  201909.0  20190930.0         0.0        Rechazado    NORMAL   \n",
       "9996  ydTWpQrnQV  201912.0  20191231.0         1.0         Aprobado    NORMAL   \n",
       "9997  gE0FksUKBV  202003.0  20200331.0         1.0         Aprobado   EXPRESS   \n",
       "9998  5Vf8evWasd  201905.0  20190531.0         1.0         Aprobado   EXPRESS   \n",
       "9999  WP6QjuqjbW  201908.0  20190831.0         1.0         Aprobado   EXPRESS   \n",
       "\n",
       "      cant_tel  predictor1_6  marca_60d_6m_final  \n",
       "9995       4.0         350.0                 1.0  \n",
       "9996       3.0         605.0                 0.0  \n",
       "9997       1.0         805.0                 0.0  \n",
       "9998       5.0         387.0                 0.0  \n",
       "9999       8.0         410.0                 0.0  "
      ]
     },
     "execution_count": 8,
     "metadata": {},
     "output_type": "execute_result"
    }
   ],
   "source": [
    "df.tail()"
   ]
  },
  {
   "cell_type": "code",
   "execution_count": 9,
   "id": "65aa93ed",
   "metadata": {},
   "outputs": [
    {
     "data": {
      "text/html": [
       "<div>\n",
       "<style scoped>\n",
       "    .dataframe tbody tr th:only-of-type {\n",
       "        vertical-align: middle;\n",
       "    }\n",
       "\n",
       "    .dataframe tbody tr th {\n",
       "        vertical-align: top;\n",
       "    }\n",
       "\n",
       "    .dataframe thead th {\n",
       "        text-align: right;\n",
       "    }\n",
       "</style>\n",
       "<table border=\"1\" class=\"dataframe\">\n",
       "  <thead>\n",
       "    <tr style=\"text-align: right;\">\n",
       "      <th></th>\n",
       "      <th>rut</th>\n",
       "      <th>periodo</th>\n",
       "      <th>archive</th>\n",
       "      <th>predictor1_7</th>\n",
       "      <th>predictor1_8</th>\n",
       "      <th>predictor1_9</th>\n",
       "      <th>predictor1_10</th>\n",
       "      <th>predictor1_11</th>\n",
       "      <th>predictor1_12</th>\n",
       "      <th>ignite_ise</th>\n",
       "      <th>ind_compra_paga</th>\n",
       "    </tr>\n",
       "  </thead>\n",
       "  <tbody>\n",
       "    <tr>\n",
       "      <th>9995</th>\n",
       "      <td>aaoBjnEivN</td>\n",
       "      <td>201909.0</td>\n",
       "      <td>20190930.0</td>\n",
       "      <td>438.0</td>\n",
       "      <td>659.0</td>\n",
       "      <td>527.0</td>\n",
       "      <td>602.0</td>\n",
       "      <td>602.0</td>\n",
       "      <td>720.0</td>\n",
       "      <td>D</td>\n",
       "      <td>0.0</td>\n",
       "    </tr>\n",
       "    <tr>\n",
       "      <th>9996</th>\n",
       "      <td>ydTWpQrnQV</td>\n",
       "      <td>201912.0</td>\n",
       "      <td>20191231.0</td>\n",
       "      <td>605.0</td>\n",
       "      <td>605.0</td>\n",
       "      <td>605.0</td>\n",
       "      <td>605.0</td>\n",
       "      <td>648.0</td>\n",
       "      <td>648.0</td>\n",
       "      <td>D</td>\n",
       "      <td>0.0</td>\n",
       "    </tr>\n",
       "    <tr>\n",
       "      <th>9997</th>\n",
       "      <td>gE0FksUKBV</td>\n",
       "      <td>202003.0</td>\n",
       "      <td>20200331.0</td>\n",
       "      <td>805.0</td>\n",
       "      <td>805.0</td>\n",
       "      <td>805.0</td>\n",
       "      <td>805.0</td>\n",
       "      <td>805.0</td>\n",
       "      <td>805.0</td>\n",
       "      <td>C2</td>\n",
       "      <td>0.0</td>\n",
       "    </tr>\n",
       "    <tr>\n",
       "      <th>9998</th>\n",
       "      <td>5Vf8evWasd</td>\n",
       "      <td>201905.0</td>\n",
       "      <td>20190531.0</td>\n",
       "      <td>476.0</td>\n",
       "      <td>94.0</td>\n",
       "      <td>476.0</td>\n",
       "      <td>386.0</td>\n",
       "      <td>NaN</td>\n",
       "      <td>NaN</td>\n",
       "      <td>C1b</td>\n",
       "      <td>0.0</td>\n",
       "    </tr>\n",
       "    <tr>\n",
       "      <th>9999</th>\n",
       "      <td>WP6QjuqjbW</td>\n",
       "      <td>201908.0</td>\n",
       "      <td>20190831.0</td>\n",
       "      <td>746.0</td>\n",
       "      <td>746.0</td>\n",
       "      <td>799.0</td>\n",
       "      <td>569.0</td>\n",
       "      <td>569.0</td>\n",
       "      <td>569.0</td>\n",
       "      <td>D</td>\n",
       "      <td>0.0</td>\n",
       "    </tr>\n",
       "  </tbody>\n",
       "</table>\n",
       "</div>"
      ],
      "text/plain": [
       "             rut   periodo     archive  predictor1_7  predictor1_8  \\\n",
       "9995  aaoBjnEivN  201909.0  20190930.0         438.0         659.0   \n",
       "9996  ydTWpQrnQV  201912.0  20191231.0         605.0         605.0   \n",
       "9997  gE0FksUKBV  202003.0  20200331.0         805.0         805.0   \n",
       "9998  5Vf8evWasd  201905.0  20190531.0         476.0          94.0   \n",
       "9999  WP6QjuqjbW  201908.0  20190831.0         746.0         746.0   \n",
       "\n",
       "      predictor1_9  predictor1_10  predictor1_11  predictor1_12 ignite_ise  \\\n",
       "9995         527.0          602.0          602.0          720.0          D   \n",
       "9996         605.0          605.0          648.0          648.0          D   \n",
       "9997         805.0          805.0          805.0          805.0         C2   \n",
       "9998         476.0          386.0            NaN            NaN        C1b   \n",
       "9999         799.0          569.0          569.0          569.0          D   \n",
       "\n",
       "      ind_compra_paga  \n",
       "9995              0.0  \n",
       "9996              0.0  \n",
       "9997              0.0  \n",
       "9998              0.0  \n",
       "9999              0.0  "
      ]
     },
     "execution_count": 9,
     "metadata": {},
     "output_type": "execute_result"
    }
   ],
   "source": [
    "df_variables.tail()"
   ]
  },
  {
   "cell_type": "markdown",
   "id": "d80f34f3",
   "metadata": {},
   "source": [
    "#### 1.3) Obtener información general del dataframe utilizando .info()"
   ]
  },
  {
   "cell_type": "code",
   "execution_count": 10,
   "id": "3be6f02b",
   "metadata": {
    "scrolled": true
   },
   "outputs": [
    {
     "name": "stdout",
     "output_type": "stream",
     "text": [
      "<class 'pandas.core.frame.DataFrame'>\n",
      "RangeIndex: 10000 entries, 0 to 9999\n",
      "Data columns (total 9 columns):\n",
      " #   Column              Non-Null Count  Dtype  \n",
      "---  ------              --------------  -----  \n",
      " 0   rut                 10000 non-null  object \n",
      " 1   periodo             10000 non-null  float64\n",
      " 2   archive             10000 non-null  float64\n",
      " 3   ind_activo          10000 non-null  float64\n",
      " 4   estado_solicitud    10000 non-null  object \n",
      " 5   captacion           10000 non-null  object \n",
      " 6   cant_tel            10000 non-null  float64\n",
      " 7   predictor1_6        6904 non-null   float64\n",
      " 8   marca_60d_6m_final  10000 non-null  float64\n",
      "dtypes: float64(6), object(3)\n",
      "memory usage: 703.2+ KB\n"
     ]
    }
   ],
   "source": [
    "df.info()"
   ]
  },
  {
   "cell_type": "code",
   "execution_count": 11,
   "id": "61e54b93",
   "metadata": {},
   "outputs": [
    {
     "name": "stdout",
     "output_type": "stream",
     "text": [
      "<class 'pandas.core.frame.DataFrame'>\n",
      "RangeIndex: 10000 entries, 0 to 9999\n",
      "Data columns (total 11 columns):\n",
      " #   Column           Non-Null Count  Dtype  \n",
      "---  ------           --------------  -----  \n",
      " 0   rut              10000 non-null  object \n",
      " 1   periodo          10000 non-null  float64\n",
      " 2   archive          10000 non-null  float64\n",
      " 3   predictor1_7     6538 non-null   float64\n",
      " 4   predictor1_8     6143 non-null   float64\n",
      " 5   predictor1_9     5756 non-null   float64\n",
      " 6   predictor1_10    5329 non-null   float64\n",
      " 7   predictor1_11    4900 non-null   float64\n",
      " 8   predictor1_12    4421 non-null   float64\n",
      " 9   ignite_ise       9973 non-null   object \n",
      " 10  ind_compra_paga  10000 non-null  float64\n",
      "dtypes: float64(9), object(2)\n",
      "memory usage: 859.5+ KB\n"
     ]
    }
   ],
   "source": [
    "df_variables.info()"
   ]
  },
  {
   "cell_type": "markdown",
   "id": "095848cb",
   "metadata": {},
   "source": [
    "#### 1.4) Obtener dimensiones del dataframe (filas y columnas)."
   ]
  },
  {
   "cell_type": "code",
   "execution_count": 12,
   "id": "bca6fcea",
   "metadata": {
    "scrolled": true
   },
   "outputs": [
    {
     "data": {
      "text/plain": [
       "(10000, 9)"
      ]
     },
     "execution_count": 12,
     "metadata": {},
     "output_type": "execute_result"
    }
   ],
   "source": [
    "df.shape"
   ]
  },
  {
   "cell_type": "code",
   "execution_count": 13,
   "id": "0225daa6",
   "metadata": {},
   "outputs": [
    {
     "data": {
      "text/plain": [
       "(10000, 11)"
      ]
     },
     "execution_count": 13,
     "metadata": {},
     "output_type": "execute_result"
    }
   ],
   "source": [
    "df_variables.shape"
   ]
  },
  {
   "cell_type": "markdown",
   "id": "ff470f27",
   "metadata": {},
   "source": [
    "#### 1.5) Obtener tipo de datos de las columnas"
   ]
  },
  {
   "cell_type": "code",
   "execution_count": 14,
   "id": "0d5537ac",
   "metadata": {
    "scrolled": true
   },
   "outputs": [
    {
     "data": {
      "text/plain": [
       "rut                    object\n",
       "periodo               float64\n",
       "archive               float64\n",
       "ind_activo            float64\n",
       "estado_solicitud       object\n",
       "captacion              object\n",
       "cant_tel              float64\n",
       "predictor1_6          float64\n",
       "marca_60d_6m_final    float64\n",
       "dtype: object"
      ]
     },
     "execution_count": 14,
     "metadata": {},
     "output_type": "execute_result"
    }
   ],
   "source": [
    "df.dtypes"
   ]
  },
  {
   "cell_type": "code",
   "execution_count": 15,
   "id": "47ba2f1f",
   "metadata": {},
   "outputs": [
    {
     "data": {
      "text/plain": [
       "rut                 object\n",
       "periodo            float64\n",
       "archive            float64\n",
       "predictor1_7       float64\n",
       "predictor1_8       float64\n",
       "predictor1_9       float64\n",
       "predictor1_10      float64\n",
       "predictor1_11      float64\n",
       "predictor1_12      float64\n",
       "ignite_ise          object\n",
       "ind_compra_paga    float64\n",
       "dtype: object"
      ]
     },
     "execution_count": 15,
     "metadata": {},
     "output_type": "execute_result"
    }
   ],
   "source": [
    "df_variables.dtypes"
   ]
  },
  {
   "cell_type": "markdown",
   "id": "0fd192cd",
   "metadata": {},
   "source": [
    "#### 1.6) Seleccionar las columnas ind_activo, estado_solicitud y cant_tel y realizar un .head()"
   ]
  },
  {
   "cell_type": "code",
   "execution_count": 16,
   "id": "c50fddc3",
   "metadata": {
    "scrolled": true
   },
   "outputs": [
    {
     "data": {
      "text/html": [
       "<div>\n",
       "<style scoped>\n",
       "    .dataframe tbody tr th:only-of-type {\n",
       "        vertical-align: middle;\n",
       "    }\n",
       "\n",
       "    .dataframe tbody tr th {\n",
       "        vertical-align: top;\n",
       "    }\n",
       "\n",
       "    .dataframe thead th {\n",
       "        text-align: right;\n",
       "    }\n",
       "</style>\n",
       "<table border=\"1\" class=\"dataframe\">\n",
       "  <thead>\n",
       "    <tr style=\"text-align: right;\">\n",
       "      <th></th>\n",
       "      <th>ind_activo</th>\n",
       "      <th>estado_solicitud</th>\n",
       "      <th>cant_tel</th>\n",
       "    </tr>\n",
       "  </thead>\n",
       "  <tbody>\n",
       "    <tr>\n",
       "      <th>0</th>\n",
       "      <td>0.0</td>\n",
       "      <td>Rechazado</td>\n",
       "      <td>1.0</td>\n",
       "    </tr>\n",
       "    <tr>\n",
       "      <th>1</th>\n",
       "      <td>1.0</td>\n",
       "      <td>Aprobado</td>\n",
       "      <td>4.0</td>\n",
       "    </tr>\n",
       "    <tr>\n",
       "      <th>2</th>\n",
       "      <td>1.0</td>\n",
       "      <td>Aprobado</td>\n",
       "      <td>3.0</td>\n",
       "    </tr>\n",
       "    <tr>\n",
       "      <th>3</th>\n",
       "      <td>1.0</td>\n",
       "      <td>Aprobado</td>\n",
       "      <td>4.0</td>\n",
       "    </tr>\n",
       "    <tr>\n",
       "      <th>4</th>\n",
       "      <td>1.0</td>\n",
       "      <td>Aprobado</td>\n",
       "      <td>0.0</td>\n",
       "    </tr>\n",
       "  </tbody>\n",
       "</table>\n",
       "</div>"
      ],
      "text/plain": [
       "   ind_activo estado_solicitud  cant_tel\n",
       "0         0.0        Rechazado       1.0\n",
       "1         1.0         Aprobado       4.0\n",
       "2         1.0         Aprobado       3.0\n",
       "3         1.0         Aprobado       4.0\n",
       "4         1.0         Aprobado       0.0"
      ]
     },
     "execution_count": 16,
     "metadata": {},
     "output_type": "execute_result"
    }
   ],
   "source": [
    "df[[\"ind_activo\",\"estado_solicitud\",\"cant_tel\"]].head()"
   ]
  },
  {
   "cell_type": "markdown",
   "id": "46b8f34c",
   "metadata": {},
   "source": [
    "#### 1.7) Observar la distribucion de estas 3 variables utilizando el método describe()"
   ]
  },
  {
   "cell_type": "code",
   "execution_count": 17,
   "id": "a6375853",
   "metadata": {
    "scrolled": true
   },
   "outputs": [
    {
     "data": {
      "text/html": [
       "<div>\n",
       "<style scoped>\n",
       "    .dataframe tbody tr th:only-of-type {\n",
       "        vertical-align: middle;\n",
       "    }\n",
       "\n",
       "    .dataframe tbody tr th {\n",
       "        vertical-align: top;\n",
       "    }\n",
       "\n",
       "    .dataframe thead th {\n",
       "        text-align: right;\n",
       "    }\n",
       "</style>\n",
       "<table border=\"1\" class=\"dataframe\">\n",
       "  <thead>\n",
       "    <tr style=\"text-align: right;\">\n",
       "      <th></th>\n",
       "      <th>ind_activo</th>\n",
       "      <th>cant_tel</th>\n",
       "    </tr>\n",
       "  </thead>\n",
       "  <tbody>\n",
       "    <tr>\n",
       "      <th>count</th>\n",
       "      <td>10000.00000</td>\n",
       "      <td>10000.000000</td>\n",
       "    </tr>\n",
       "    <tr>\n",
       "      <th>mean</th>\n",
       "      <td>0.68600</td>\n",
       "      <td>2.680800</td>\n",
       "    </tr>\n",
       "    <tr>\n",
       "      <th>std</th>\n",
       "      <td>0.46414</td>\n",
       "      <td>2.132831</td>\n",
       "    </tr>\n",
       "    <tr>\n",
       "      <th>min</th>\n",
       "      <td>0.00000</td>\n",
       "      <td>0.000000</td>\n",
       "    </tr>\n",
       "    <tr>\n",
       "      <th>25%</th>\n",
       "      <td>0.00000</td>\n",
       "      <td>1.000000</td>\n",
       "    </tr>\n",
       "    <tr>\n",
       "      <th>50%</th>\n",
       "      <td>1.00000</td>\n",
       "      <td>2.000000</td>\n",
       "    </tr>\n",
       "    <tr>\n",
       "      <th>75%</th>\n",
       "      <td>1.00000</td>\n",
       "      <td>4.000000</td>\n",
       "    </tr>\n",
       "    <tr>\n",
       "      <th>max</th>\n",
       "      <td>1.00000</td>\n",
       "      <td>34.000000</td>\n",
       "    </tr>\n",
       "  </tbody>\n",
       "</table>\n",
       "</div>"
      ],
      "text/plain": [
       "        ind_activo      cant_tel\n",
       "count  10000.00000  10000.000000\n",
       "mean       0.68600      2.680800\n",
       "std        0.46414      2.132831\n",
       "min        0.00000      0.000000\n",
       "25%        0.00000      1.000000\n",
       "50%        1.00000      2.000000\n",
       "75%        1.00000      4.000000\n",
       "max        1.00000     34.000000"
      ]
     },
     "execution_count": 17,
     "metadata": {},
     "output_type": "execute_result"
    }
   ],
   "source": [
    "df[[\"ind_activo\",\"estado_solicitud\",\"cant_tel\"]].describe()"
   ]
  },
  {
   "cell_type": "markdown",
   "id": "f1349ee7",
   "metadata": {},
   "source": [
    "#### 1.8) Chequear cantidad de valores nulos por columna.\n",
    "\n",
    "**Pista:** Utilizar isna() y luego la suma de ello para obtener los valores por columna."
   ]
  },
  {
   "cell_type": "code",
   "execution_count": 18,
   "id": "9b9963d1",
   "metadata": {
    "scrolled": true
   },
   "outputs": [
    {
     "data": {
      "text/plain": [
       "rut                      0\n",
       "periodo                  0\n",
       "archive                  0\n",
       "ind_activo               0\n",
       "estado_solicitud         0\n",
       "captacion                0\n",
       "cant_tel                 0\n",
       "predictor1_6          3096\n",
       "marca_60d_6m_final       0\n",
       "dtype: int64"
      ]
     },
     "execution_count": 18,
     "metadata": {},
     "output_type": "execute_result"
    }
   ],
   "source": [
    "df.isna().sum()"
   ]
  },
  {
   "cell_type": "markdown",
   "id": "71b3c114",
   "metadata": {},
   "source": [
    "#### 1.9) Calcular el valor de nulos en %.\n",
    "\n",
    "**Pista:** Dividir el bloque de codigo anterior por la cantidad de filas en el dataframe."
   ]
  },
  {
   "cell_type": "code",
   "execution_count": 19,
   "id": "a213391a",
   "metadata": {
    "scrolled": true
   },
   "outputs": [
    {
     "data": {
      "text/plain": [
       "rut                    0.00\n",
       "periodo                0.00\n",
       "archive                0.00\n",
       "ind_activo             0.00\n",
       "estado_solicitud       0.00\n",
       "captacion              0.00\n",
       "cant_tel               0.00\n",
       "predictor1_6          30.96\n",
       "marca_60d_6m_final     0.00\n",
       "dtype: float64"
      ]
     },
     "execution_count": 19,
     "metadata": {},
     "output_type": "execute_result"
    }
   ],
   "source": [
    "df.isna().sum()/df.shape[0]*100"
   ]
  },
  {
   "cell_type": "markdown",
   "id": "cb98fb89",
   "metadata": {},
   "source": [
    "#### 1.9) Obtener la cantidad de valores únicos en las columnas categoricas.\n",
    "\n",
    "- Primero seleccionar las columnas categoricas\n",
    "- Luego correr nunique() en cada una **Fijarse de agregar el parametro dropna=False para tener en cuenta nulos**\n",
    "- Luego si quieren con unique() pueden ver cuales son aquellos valores únicos."
   ]
  },
  {
   "cell_type": "code",
   "execution_count": 20,
   "id": "d4e0fdb2",
   "metadata": {
    "scrolled": true
   },
   "outputs": [
    {
     "data": {
      "text/plain": [
       "rut                 9991\n",
       "estado_solicitud       2\n",
       "captacion              2\n",
       "dtype: int64"
      ]
     },
     "execution_count": 20,
     "metadata": {},
     "output_type": "execute_result"
    }
   ],
   "source": [
    "categóricas_df = df.select_dtypes(\"O\").columns\n",
    "\n",
    "df[categóricas_df].nunique(dropna=False)"
   ]
  },
  {
   "cell_type": "markdown",
   "id": "769ec86e",
   "metadata": {},
   "source": [
    "#### 1.10) Calcular la distirbución por la variable captacion (cuantos registros hay por cada valor unico de captacion).\n",
    "\n",
    "Utilizar la funcion value_counts() y tener en cuenta dropna."
   ]
  },
  {
   "cell_type": "code",
   "execution_count": 21,
   "id": "f0a53c53",
   "metadata": {
    "scrolled": true
   },
   "outputs": [
    {
     "data": {
      "text/plain": [
       "EXPRESS    5879\n",
       "NORMAL     4121\n",
       "Name: captacion, dtype: int64"
      ]
     },
     "execution_count": 21,
     "metadata": {},
     "output_type": "execute_result"
    }
   ],
   "source": [
    "df[\"captacion\"].value_counts(dropna=False)"
   ]
  },
  {
   "cell_type": "markdown",
   "id": "bbc186f0",
   "metadata": {},
   "source": [
    "Si lo queremos ver en %."
   ]
  },
  {
   "cell_type": "code",
   "execution_count": 22,
   "id": "bffe146c",
   "metadata": {
    "scrolled": true
   },
   "outputs": [
    {
     "data": {
      "text/plain": [
       "EXPRESS    0.5879\n",
       "NORMAL     0.4121\n",
       "Name: captacion, dtype: float64"
      ]
     },
     "execution_count": 22,
     "metadata": {},
     "output_type": "execute_result"
    }
   ],
   "source": [
    "df[\"captacion\"].value_counts(1,dropna=False)"
   ]
  },
  {
   "cell_type": "markdown",
   "id": "c7a7813c",
   "metadata": {},
   "source": [
    "### 2) Tratamiento de Datos\n",
    "\n",
    "#### 2.1) Imputacion de nulos \n",
    "\n",
    "Para esta parte vamos a usar el dataset \"df_variables\" que hace referencia al data2.csv\n",
    "\n",
    "#### Imputar las columnas predictor1_7 y predictor1_9 por el valor 100. \n",
    "\n",
    "Primero chequear que tengan nulos.\n",
    "\n",
    "**Pista:** Utilizar fillna()"
   ]
  },
  {
   "cell_type": "code",
   "execution_count": 23,
   "id": "a8c1de11",
   "metadata": {
    "scrolled": true
   },
   "outputs": [
    {
     "data": {
      "text/plain": [
       "predictor1_7    3462\n",
       "predictor1_9    4244\n",
       "dtype: int64"
      ]
     },
     "execution_count": 23,
     "metadata": {},
     "output_type": "execute_result"
    }
   ],
   "source": [
    "df_imputar = [\"predictor1_7\",\"predictor1_9\"]\n",
    "df_variables[df_imputar].isna().sum() # cantidad de NaN en cada variable"
   ]
  },
  {
   "cell_type": "code",
   "execution_count": 24,
   "id": "c189617f",
   "metadata": {
    "scrolled": true
   },
   "outputs": [
    {
     "data": {
      "text/plain": [
       "predictor1_7    0\n",
       "predictor1_9    0\n",
       "dtype: int64"
      ]
     },
     "execution_count": 24,
     "metadata": {},
     "output_type": "execute_result"
    }
   ],
   "source": [
    "df_variables[df_imputar] = df_variables[df_imputar].fillna(100)\n",
    "df_variables[df_imputar].isna().sum() # chequeamos que la cantidad de NaN en cada variable ahora sea 0"
   ]
  },
  {
   "cell_type": "markdown",
   "id": "50e96e9c",
   "metadata": {},
   "source": [
    "#### Imputar las columnas predictor1_10 y predictor1_11 por la media de cada columna.\n",
    "\n",
    "Primero chequear que tengan nulos.\n",
    "\n",
    "**Pista:** Utilizar fillna()"
   ]
  },
  {
   "cell_type": "code",
   "execution_count": 25,
   "id": "f1b80943",
   "metadata": {
    "scrolled": true
   },
   "outputs": [
    {
     "data": {
      "text/plain": [
       "predictor1_10    4671\n",
       "predictor1_11    5100\n",
       "dtype: int64"
      ]
     },
     "execution_count": 25,
     "metadata": {},
     "output_type": "execute_result"
    }
   ],
   "source": [
    "df_variables[[\"predictor1_10\",\"predictor1_11\"]].isna().sum()"
   ]
  },
  {
   "cell_type": "code",
   "execution_count": 26,
   "id": "193a50f1",
   "metadata": {},
   "outputs": [
    {
     "data": {
      "text/plain": [
       "predictor1_10    0\n",
       "predictor1_11    0\n",
       "dtype: int64"
      ]
     },
     "execution_count": 26,
     "metadata": {},
     "output_type": "execute_result"
    }
   ],
   "source": [
    "df_variables[\"predictor1_10\"].fillna(df_variables[\"predictor1_10\"].mean(),inplace=True)\n",
    "df_variables[\"predictor1_11\"].fillna(df_variables[\"predictor1_11\"].mean(),inplace=True)\n",
    "df_variables[[\"predictor1_10\",\"predictor1_11\"]].isna().sum()"
   ]
  },
  {
   "cell_type": "markdown",
   "id": "d580f07e",
   "metadata": {},
   "source": [
    "#### 2.2) Tratamiento strings: upper, lower, replace\n",
    "\n",
    "Para esta parte vamos a usar el dataset \"df\" que hace referencia al **data1.csv**\n",
    "\n",
    "Muchas veces hay que realizar cambios en variables que vienen como string, por ejemplo, llevar todo a mayúsculas, minúsculas, reemplazar un simbolo, dividir por algún valor (*split*), etc. Pandas trae incorporada distintas funciones que nos ayudan a cumplir estas tareas. La forma de acceder a estas funciones es la siguiente:\n",
    "\n",
    "``` pd.Series.str.#funcion```\n",
    "\n",
    "``` tu_df.tu_columna.str.upper()```\n"
   ]
  },
  {
   "cell_type": "markdown",
   "id": "f8a618fd",
   "metadata": {},
   "source": [
    "#### Convertir los valores de captacion a letra miniscula."
   ]
  },
  {
   "cell_type": "markdown",
   "id": "477fc37e",
   "metadata": {},
   "source": [
    "Se puede hacer con str.lower() o con una funcion lambda x luego de aplicar un apply."
   ]
  },
  {
   "cell_type": "code",
   "execution_count": 27,
   "id": "982127b0",
   "metadata": {
    "scrolled": true
   },
   "outputs": [
    {
     "data": {
      "text/html": [
       "<div>\n",
       "<style scoped>\n",
       "    .dataframe tbody tr th:only-of-type {\n",
       "        vertical-align: middle;\n",
       "    }\n",
       "\n",
       "    .dataframe tbody tr th {\n",
       "        vertical-align: top;\n",
       "    }\n",
       "\n",
       "    .dataframe thead th {\n",
       "        text-align: right;\n",
       "    }\n",
       "</style>\n",
       "<table border=\"1\" class=\"dataframe\">\n",
       "  <thead>\n",
       "    <tr style=\"text-align: right;\">\n",
       "      <th></th>\n",
       "      <th>rut</th>\n",
       "      <th>periodo</th>\n",
       "      <th>archive</th>\n",
       "      <th>ind_activo</th>\n",
       "      <th>estado_solicitud</th>\n",
       "      <th>captacion</th>\n",
       "      <th>cant_tel</th>\n",
       "      <th>predictor1_6</th>\n",
       "      <th>marca_60d_6m_final</th>\n",
       "    </tr>\n",
       "  </thead>\n",
       "  <tbody>\n",
       "    <tr>\n",
       "      <th>0</th>\n",
       "      <td>PlDKtWGFBg</td>\n",
       "      <td>201909.0</td>\n",
       "      <td>20190930.0</td>\n",
       "      <td>0.0</td>\n",
       "      <td>Rechazado</td>\n",
       "      <td>normal</td>\n",
       "      <td>1.0</td>\n",
       "      <td>596.0</td>\n",
       "      <td>1.0</td>\n",
       "    </tr>\n",
       "    <tr>\n",
       "      <th>1</th>\n",
       "      <td>MOAbr9v9ac</td>\n",
       "      <td>201810.0</td>\n",
       "      <td>20181031.0</td>\n",
       "      <td>1.0</td>\n",
       "      <td>Aprobado</td>\n",
       "      <td>express</td>\n",
       "      <td>4.0</td>\n",
       "      <td>NaN</td>\n",
       "      <td>0.0</td>\n",
       "    </tr>\n",
       "    <tr>\n",
       "      <th>2</th>\n",
       "      <td>49L1vb3c2I</td>\n",
       "      <td>201909.0</td>\n",
       "      <td>20190930.0</td>\n",
       "      <td>1.0</td>\n",
       "      <td>Aprobado</td>\n",
       "      <td>normal</td>\n",
       "      <td>3.0</td>\n",
       "      <td>633.0</td>\n",
       "      <td>0.0</td>\n",
       "    </tr>\n",
       "    <tr>\n",
       "      <th>3</th>\n",
       "      <td>7xM1iIFNCb</td>\n",
       "      <td>201812.0</td>\n",
       "      <td>20181231.0</td>\n",
       "      <td>1.0</td>\n",
       "      <td>Aprobado</td>\n",
       "      <td>express</td>\n",
       "      <td>4.0</td>\n",
       "      <td>NaN</td>\n",
       "      <td>0.0</td>\n",
       "    </tr>\n",
       "    <tr>\n",
       "      <th>4</th>\n",
       "      <td>e2ayZYSD59</td>\n",
       "      <td>201809.0</td>\n",
       "      <td>20180930.0</td>\n",
       "      <td>1.0</td>\n",
       "      <td>Aprobado</td>\n",
       "      <td>normal</td>\n",
       "      <td>0.0</td>\n",
       "      <td>NaN</td>\n",
       "      <td>0.0</td>\n",
       "    </tr>\n",
       "  </tbody>\n",
       "</table>\n",
       "</div>"
      ],
      "text/plain": [
       "          rut   periodo     archive  ind_activo estado_solicitud captacion  \\\n",
       "0  PlDKtWGFBg  201909.0  20190930.0         0.0        Rechazado    normal   \n",
       "1  MOAbr9v9ac  201810.0  20181031.0         1.0         Aprobado   express   \n",
       "2  49L1vb3c2I  201909.0  20190930.0         1.0         Aprobado    normal   \n",
       "3  7xM1iIFNCb  201812.0  20181231.0         1.0         Aprobado   express   \n",
       "4  e2ayZYSD59  201809.0  20180930.0         1.0         Aprobado    normal   \n",
       "\n",
       "   cant_tel  predictor1_6  marca_60d_6m_final  \n",
       "0       1.0         596.0                 1.0  \n",
       "1       4.0           NaN                 0.0  \n",
       "2       3.0         633.0                 0.0  \n",
       "3       4.0           NaN                 0.0  \n",
       "4       0.0           NaN                 0.0  "
      ]
     },
     "execution_count": 27,
     "metadata": {},
     "output_type": "execute_result"
    }
   ],
   "source": [
    "df.captacion = df.captacion.str.lower()\n",
    "df.head()"
   ]
  },
  {
   "cell_type": "markdown",
   "id": "ae2fec6f",
   "metadata": {},
   "source": [
    "#### Convertir los valores de vuelta a mayusculas"
   ]
  },
  {
   "cell_type": "code",
   "execution_count": 28,
   "id": "0b0967b8",
   "metadata": {
    "scrolled": true
   },
   "outputs": [
    {
     "data": {
      "text/html": [
       "<div>\n",
       "<style scoped>\n",
       "    .dataframe tbody tr th:only-of-type {\n",
       "        vertical-align: middle;\n",
       "    }\n",
       "\n",
       "    .dataframe tbody tr th {\n",
       "        vertical-align: top;\n",
       "    }\n",
       "\n",
       "    .dataframe thead th {\n",
       "        text-align: right;\n",
       "    }\n",
       "</style>\n",
       "<table border=\"1\" class=\"dataframe\">\n",
       "  <thead>\n",
       "    <tr style=\"text-align: right;\">\n",
       "      <th></th>\n",
       "      <th>rut</th>\n",
       "      <th>periodo</th>\n",
       "      <th>archive</th>\n",
       "      <th>ind_activo</th>\n",
       "      <th>estado_solicitud</th>\n",
       "      <th>captacion</th>\n",
       "      <th>cant_tel</th>\n",
       "      <th>predictor1_6</th>\n",
       "      <th>marca_60d_6m_final</th>\n",
       "    </tr>\n",
       "  </thead>\n",
       "  <tbody>\n",
       "    <tr>\n",
       "      <th>0</th>\n",
       "      <td>PlDKtWGFBg</td>\n",
       "      <td>201909.0</td>\n",
       "      <td>20190930.0</td>\n",
       "      <td>0.0</td>\n",
       "      <td>Rechazado</td>\n",
       "      <td>NORMAL</td>\n",
       "      <td>1.0</td>\n",
       "      <td>596.0</td>\n",
       "      <td>1.0</td>\n",
       "    </tr>\n",
       "    <tr>\n",
       "      <th>1</th>\n",
       "      <td>MOAbr9v9ac</td>\n",
       "      <td>201810.0</td>\n",
       "      <td>20181031.0</td>\n",
       "      <td>1.0</td>\n",
       "      <td>Aprobado</td>\n",
       "      <td>EXPRESS</td>\n",
       "      <td>4.0</td>\n",
       "      <td>NaN</td>\n",
       "      <td>0.0</td>\n",
       "    </tr>\n",
       "    <tr>\n",
       "      <th>2</th>\n",
       "      <td>49L1vb3c2I</td>\n",
       "      <td>201909.0</td>\n",
       "      <td>20190930.0</td>\n",
       "      <td>1.0</td>\n",
       "      <td>Aprobado</td>\n",
       "      <td>NORMAL</td>\n",
       "      <td>3.0</td>\n",
       "      <td>633.0</td>\n",
       "      <td>0.0</td>\n",
       "    </tr>\n",
       "    <tr>\n",
       "      <th>3</th>\n",
       "      <td>7xM1iIFNCb</td>\n",
       "      <td>201812.0</td>\n",
       "      <td>20181231.0</td>\n",
       "      <td>1.0</td>\n",
       "      <td>Aprobado</td>\n",
       "      <td>EXPRESS</td>\n",
       "      <td>4.0</td>\n",
       "      <td>NaN</td>\n",
       "      <td>0.0</td>\n",
       "    </tr>\n",
       "    <tr>\n",
       "      <th>4</th>\n",
       "      <td>e2ayZYSD59</td>\n",
       "      <td>201809.0</td>\n",
       "      <td>20180930.0</td>\n",
       "      <td>1.0</td>\n",
       "      <td>Aprobado</td>\n",
       "      <td>NORMAL</td>\n",
       "      <td>0.0</td>\n",
       "      <td>NaN</td>\n",
       "      <td>0.0</td>\n",
       "    </tr>\n",
       "  </tbody>\n",
       "</table>\n",
       "</div>"
      ],
      "text/plain": [
       "          rut   periodo     archive  ind_activo estado_solicitud captacion  \\\n",
       "0  PlDKtWGFBg  201909.0  20190930.0         0.0        Rechazado    NORMAL   \n",
       "1  MOAbr9v9ac  201810.0  20181031.0         1.0         Aprobado   EXPRESS   \n",
       "2  49L1vb3c2I  201909.0  20190930.0         1.0         Aprobado    NORMAL   \n",
       "3  7xM1iIFNCb  201812.0  20181231.0         1.0         Aprobado   EXPRESS   \n",
       "4  e2ayZYSD59  201809.0  20180930.0         1.0         Aprobado    NORMAL   \n",
       "\n",
       "   cant_tel  predictor1_6  marca_60d_6m_final  \n",
       "0       1.0         596.0                 1.0  \n",
       "1       4.0           NaN                 0.0  \n",
       "2       3.0         633.0                 0.0  \n",
       "3       4.0           NaN                 0.0  \n",
       "4       0.0           NaN                 0.0  "
      ]
     },
     "execution_count": 28,
     "metadata": {},
     "output_type": "execute_result"
    }
   ],
   "source": [
    "df.captacion = df.captacion.str.upper()\n",
    "df.head()"
   ]
  },
  {
   "cell_type": "markdown",
   "id": "a3d999e0",
   "metadata": {},
   "source": [
    "####  Ahora, si reemplazar algún simbolo por podemos usar la funcion ```str.replace```, la cual toma un substring y lo convierte en otro.\n",
    "Por ejemplo, reemplazar todas las \"ex\" por otro string en la columna ```captacion```"
   ]
  },
  {
   "cell_type": "code",
   "execution_count": 29,
   "id": "64ef9b67",
   "metadata": {
    "scrolled": true
   },
   "outputs": [
    {
     "data": {
      "text/html": [
       "<div>\n",
       "<style scoped>\n",
       "    .dataframe tbody tr th:only-of-type {\n",
       "        vertical-align: middle;\n",
       "    }\n",
       "\n",
       "    .dataframe tbody tr th {\n",
       "        vertical-align: top;\n",
       "    }\n",
       "\n",
       "    .dataframe thead th {\n",
       "        text-align: right;\n",
       "    }\n",
       "</style>\n",
       "<table border=\"1\" class=\"dataframe\">\n",
       "  <thead>\n",
       "    <tr style=\"text-align: right;\">\n",
       "      <th></th>\n",
       "      <th>rut</th>\n",
       "      <th>periodo</th>\n",
       "      <th>archive</th>\n",
       "      <th>ind_activo</th>\n",
       "      <th>estado_solicitud</th>\n",
       "      <th>captacion</th>\n",
       "      <th>cant_tel</th>\n",
       "      <th>predictor1_6</th>\n",
       "      <th>marca_60d_6m_final</th>\n",
       "    </tr>\n",
       "  </thead>\n",
       "  <tbody>\n",
       "    <tr>\n",
       "      <th>0</th>\n",
       "      <td>PlDKtWGFBg</td>\n",
       "      <td>201909.0</td>\n",
       "      <td>20190930.0</td>\n",
       "      <td>0.0</td>\n",
       "      <td>Rechazado</td>\n",
       "      <td>NORMAL</td>\n",
       "      <td>1.0</td>\n",
       "      <td>596.0</td>\n",
       "      <td>1.0</td>\n",
       "    </tr>\n",
       "    <tr>\n",
       "      <th>1</th>\n",
       "      <td>MOAbr9v9ac</td>\n",
       "      <td>201810.0</td>\n",
       "      <td>20181031.0</td>\n",
       "      <td>1.0</td>\n",
       "      <td>Aprobado</td>\n",
       "      <td>COMPRESS</td>\n",
       "      <td>4.0</td>\n",
       "      <td>NaN</td>\n",
       "      <td>0.0</td>\n",
       "    </tr>\n",
       "    <tr>\n",
       "      <th>2</th>\n",
       "      <td>49L1vb3c2I</td>\n",
       "      <td>201909.0</td>\n",
       "      <td>20190930.0</td>\n",
       "      <td>1.0</td>\n",
       "      <td>Aprobado</td>\n",
       "      <td>NORMAL</td>\n",
       "      <td>3.0</td>\n",
       "      <td>633.0</td>\n",
       "      <td>0.0</td>\n",
       "    </tr>\n",
       "    <tr>\n",
       "      <th>3</th>\n",
       "      <td>7xM1iIFNCb</td>\n",
       "      <td>201812.0</td>\n",
       "      <td>20181231.0</td>\n",
       "      <td>1.0</td>\n",
       "      <td>Aprobado</td>\n",
       "      <td>COMPRESS</td>\n",
       "      <td>4.0</td>\n",
       "      <td>NaN</td>\n",
       "      <td>0.0</td>\n",
       "    </tr>\n",
       "    <tr>\n",
       "      <th>4</th>\n",
       "      <td>e2ayZYSD59</td>\n",
       "      <td>201809.0</td>\n",
       "      <td>20180930.0</td>\n",
       "      <td>1.0</td>\n",
       "      <td>Aprobado</td>\n",
       "      <td>NORMAL</td>\n",
       "      <td>0.0</td>\n",
       "      <td>NaN</td>\n",
       "      <td>0.0</td>\n",
       "    </tr>\n",
       "  </tbody>\n",
       "</table>\n",
       "</div>"
      ],
      "text/plain": [
       "          rut   periodo     archive  ind_activo estado_solicitud captacion  \\\n",
       "0  PlDKtWGFBg  201909.0  20190930.0         0.0        Rechazado    NORMAL   \n",
       "1  MOAbr9v9ac  201810.0  20181031.0         1.0         Aprobado  COMPRESS   \n",
       "2  49L1vb3c2I  201909.0  20190930.0         1.0         Aprobado    NORMAL   \n",
       "3  7xM1iIFNCb  201812.0  20181231.0         1.0         Aprobado  COMPRESS   \n",
       "4  e2ayZYSD59  201809.0  20180930.0         1.0         Aprobado    NORMAL   \n",
       "\n",
       "   cant_tel  predictor1_6  marca_60d_6m_final  \n",
       "0       1.0         596.0                 1.0  \n",
       "1       4.0           NaN                 0.0  \n",
       "2       3.0         633.0                 0.0  \n",
       "3       4.0           NaN                 0.0  \n",
       "4       0.0           NaN                 0.0  "
      ]
     },
     "execution_count": 29,
     "metadata": {},
     "output_type": "execute_result"
    }
   ],
   "source": [
    "df.captacion = df.captacion.str.replace(\"EX\",\"COM\")\n",
    "df.head()"
   ]
  },
  {
   "cell_type": "markdown",
   "id": "cd14517a",
   "metadata": {},
   "source": [
    "#### 2.3) Tratamiento de duplicados .   \n",
    "\n",
    "**Tener en cuenta que este tema no se dio en la NB teórica pero los ejercicios pueden ser realizados si investigan un poco. No obstante, no se preocupen si no los pueden realizar ya que serán explicados en la clase práctica tambien.**\n",
    "\n",
    "Seguimos utilizando el **data1 (df).**"
   ]
  },
  {
   "cell_type": "markdown",
   "id": "03ae2088",
   "metadata": {},
   "source": [
    "#### Chequear cantidad de duplicados de las columnas estado_solicitud y periodo."
   ]
  },
  {
   "cell_type": "code",
   "execution_count": 30,
   "id": "c8795e23",
   "metadata": {
    "scrolled": true
   },
   "outputs": [
    {
     "name": "stdout",
     "output_type": "stream",
     "text": [
      "La columna estado_solicitud tiene 9998 duplicados\n",
      "La columna periodo tiene 9979 duplicados\n"
     ]
    }
   ],
   "source": [
    "for col in [\"estado_solicitud\",\"periodo\"]:\n",
    "    print(\"La columna {} tiene {} duplicados\".format(col,df[col].duplicated().sum()))"
   ]
  },
  {
   "cell_type": "markdown",
   "id": "e8f5aa8d",
   "metadata": {},
   "source": [
    "#### Chequear si tenemos duplicados por rut y periodo. Utilizar subset como parametro en la funcion duplicated."
   ]
  },
  {
   "cell_type": "code",
   "execution_count": 31,
   "id": "b617f496",
   "metadata": {
    "scrolled": true
   },
   "outputs": [
    {
     "data": {
      "text/plain": [
       "0"
      ]
     },
     "execution_count": 31,
     "metadata": {},
     "output_type": "execute_result"
    }
   ],
   "source": [
    "df.duplicated(subset=['rut', 'periodo']).sum()"
   ]
  },
  {
   "cell_type": "markdown",
   "id": "444604f1",
   "metadata": {},
   "source": [
    "**En la clase practica veremos como dropear duplicados**"
   ]
  },
  {
   "cell_type": "markdown",
   "id": "a583240c",
   "metadata": {},
   "source": [
    "#### 2.4) Seleccion de distintas variables y filas.\n",
    "\n",
    "Utilizar el dataset df"
   ]
  },
  {
   "cell_type": "markdown",
   "id": "97094f0d",
   "metadata": {},
   "source": [
    "#### Seleccionar las columnas rut, periodo y captacion, en donde captacion sea EXPRESS."
   ]
  },
  {
   "cell_type": "code",
   "execution_count": 32,
   "id": "1d43aebf",
   "metadata": {
    "scrolled": true
   },
   "outputs": [
    {
     "data": {
      "text/html": [
       "<div>\n",
       "<style scoped>\n",
       "    .dataframe tbody tr th:only-of-type {\n",
       "        vertical-align: middle;\n",
       "    }\n",
       "\n",
       "    .dataframe tbody tr th {\n",
       "        vertical-align: top;\n",
       "    }\n",
       "\n",
       "    .dataframe thead th {\n",
       "        text-align: right;\n",
       "    }\n",
       "</style>\n",
       "<table border=\"1\" class=\"dataframe\">\n",
       "  <thead>\n",
       "    <tr style=\"text-align: right;\">\n",
       "      <th></th>\n",
       "      <th>rut</th>\n",
       "      <th>periodo</th>\n",
       "      <th>captacion</th>\n",
       "    </tr>\n",
       "  </thead>\n",
       "  <tbody>\n",
       "  </tbody>\n",
       "</table>\n",
       "</div>"
      ],
      "text/plain": [
       "Empty DataFrame\n",
       "Columns: [rut, periodo, captacion]\n",
       "Index: []"
      ]
     },
     "execution_count": 32,
     "metadata": {},
     "output_type": "execute_result"
    }
   ],
   "source": [
    "df[df.captacion == \"EXPRESS\"][['rut', 'periodo', 'captacion']]"
   ]
  },
  {
   "cell_type": "markdown",
   "id": "dbde3468",
   "metadata": {},
   "source": [
    "#### Seleccionar filas donde captacion es EXPRESS y estado solicitud Aprobado."
   ]
  },
  {
   "cell_type": "code",
   "execution_count": 33,
   "id": "19f06df9",
   "metadata": {
    "scrolled": false
   },
   "outputs": [
    {
     "data": {
      "text/html": [
       "<div>\n",
       "<style scoped>\n",
       "    .dataframe tbody tr th:only-of-type {\n",
       "        vertical-align: middle;\n",
       "    }\n",
       "\n",
       "    .dataframe tbody tr th {\n",
       "        vertical-align: top;\n",
       "    }\n",
       "\n",
       "    .dataframe thead th {\n",
       "        text-align: right;\n",
       "    }\n",
       "</style>\n",
       "<table border=\"1\" class=\"dataframe\">\n",
       "  <thead>\n",
       "    <tr style=\"text-align: right;\">\n",
       "      <th></th>\n",
       "      <th>rut</th>\n",
       "      <th>periodo</th>\n",
       "      <th>archive</th>\n",
       "      <th>ind_activo</th>\n",
       "      <th>estado_solicitud</th>\n",
       "      <th>captacion</th>\n",
       "      <th>cant_tel</th>\n",
       "      <th>predictor1_6</th>\n",
       "      <th>marca_60d_6m_final</th>\n",
       "    </tr>\n",
       "  </thead>\n",
       "  <tbody>\n",
       "  </tbody>\n",
       "</table>\n",
       "</div>"
      ],
      "text/plain": [
       "Empty DataFrame\n",
       "Columns: [rut, periodo, archive, ind_activo, estado_solicitud, captacion, cant_tel, predictor1_6, marca_60d_6m_final]\n",
       "Index: []"
      ]
     },
     "execution_count": 33,
     "metadata": {},
     "output_type": "execute_result"
    }
   ],
   "source": [
    "df[(df.captacion == \"EXPRESS\")&(df.estado_solicitud == \"Aprobado\")]"
   ]
  },
  {
   "cell_type": "markdown",
   "id": "c64f1747",
   "metadata": {},
   "source": [
    "#### Seleccionar filas donde captacion es NORMAL, estado solicitud es Aprobado y el ind_activo es = 1. Sólo seleccionar las columnas rut, periodo, cant tel y ordenar de mayor a menor por cant_tel."
   ]
  },
  {
   "cell_type": "code",
   "execution_count": 34,
   "id": "ade7ce42",
   "metadata": {
    "scrolled": false
   },
   "outputs": [
    {
     "data": {
      "text/html": [
       "<div>\n",
       "<style scoped>\n",
       "    .dataframe tbody tr th:only-of-type {\n",
       "        vertical-align: middle;\n",
       "    }\n",
       "\n",
       "    .dataframe tbody tr th {\n",
       "        vertical-align: top;\n",
       "    }\n",
       "\n",
       "    .dataframe thead th {\n",
       "        text-align: right;\n",
       "    }\n",
       "</style>\n",
       "<table border=\"1\" class=\"dataframe\">\n",
       "  <thead>\n",
       "    <tr style=\"text-align: right;\">\n",
       "      <th></th>\n",
       "      <th>rut</th>\n",
       "      <th>periodo</th>\n",
       "      <th>cant_tel</th>\n",
       "    </tr>\n",
       "  </thead>\n",
       "  <tbody>\n",
       "    <tr>\n",
       "      <th>1820</th>\n",
       "      <td>4KAO8pVk4T</td>\n",
       "      <td>201812.0</td>\n",
       "      <td>14.0</td>\n",
       "    </tr>\n",
       "    <tr>\n",
       "      <th>3873</th>\n",
       "      <td>EUk97mwmXj</td>\n",
       "      <td>201902.0</td>\n",
       "      <td>13.0</td>\n",
       "    </tr>\n",
       "    <tr>\n",
       "      <th>9179</th>\n",
       "      <td>0lrxehS2CI</td>\n",
       "      <td>201910.0</td>\n",
       "      <td>11.0</td>\n",
       "    </tr>\n",
       "    <tr>\n",
       "      <th>1309</th>\n",
       "      <td>XhEqwqycik</td>\n",
       "      <td>201902.0</td>\n",
       "      <td>11.0</td>\n",
       "    </tr>\n",
       "    <tr>\n",
       "      <th>6965</th>\n",
       "      <td>v2YNZ145e0</td>\n",
       "      <td>201904.0</td>\n",
       "      <td>10.0</td>\n",
       "    </tr>\n",
       "    <tr>\n",
       "      <th>...</th>\n",
       "      <td>...</td>\n",
       "      <td>...</td>\n",
       "      <td>...</td>\n",
       "    </tr>\n",
       "    <tr>\n",
       "      <th>8216</th>\n",
       "      <td>2KdEdqnIRm</td>\n",
       "      <td>202002.0</td>\n",
       "      <td>0.0</td>\n",
       "    </tr>\n",
       "    <tr>\n",
       "      <th>3090</th>\n",
       "      <td>BOMmrHnzaB</td>\n",
       "      <td>201807.0</td>\n",
       "      <td>0.0</td>\n",
       "    </tr>\n",
       "    <tr>\n",
       "      <th>1933</th>\n",
       "      <td>5WWIa0KY7s</td>\n",
       "      <td>201904.0</td>\n",
       "      <td>0.0</td>\n",
       "    </tr>\n",
       "    <tr>\n",
       "      <th>8190</th>\n",
       "      <td>2T3uB78iLa</td>\n",
       "      <td>201808.0</td>\n",
       "      <td>0.0</td>\n",
       "    </tr>\n",
       "    <tr>\n",
       "      <th>8461</th>\n",
       "      <td>AagLxmDDAQ</td>\n",
       "      <td>201905.0</td>\n",
       "      <td>0.0</td>\n",
       "    </tr>\n",
       "  </tbody>\n",
       "</table>\n",
       "<p>1757 rows × 3 columns</p>\n",
       "</div>"
      ],
      "text/plain": [
       "             rut   periodo  cant_tel\n",
       "1820  4KAO8pVk4T  201812.0      14.0\n",
       "3873  EUk97mwmXj  201902.0      13.0\n",
       "9179  0lrxehS2CI  201910.0      11.0\n",
       "1309  XhEqwqycik  201902.0      11.0\n",
       "6965  v2YNZ145e0  201904.0      10.0\n",
       "...          ...       ...       ...\n",
       "8216  2KdEdqnIRm  202002.0       0.0\n",
       "3090  BOMmrHnzaB  201807.0       0.0\n",
       "1933  5WWIa0KY7s  201904.0       0.0\n",
       "8190  2T3uB78iLa  201808.0       0.0\n",
       "8461  AagLxmDDAQ  201905.0       0.0\n",
       "\n",
       "[1757 rows x 3 columns]"
      ]
     },
     "execution_count": 34,
     "metadata": {},
     "output_type": "execute_result"
    }
   ],
   "source": [
    "df.loc[(df.captacion == \"NORMAL\") & \n",
    "       (df.estado_solicitud == \"Aprobado\") & \n",
    "       (df.ind_activo == 1), ['rut', 'periodo', 'cant_tel']].sort_values(by=\"cant_tel\", ascending=False)"
   ]
  },
  {
   "cell_type": "markdown",
   "id": "f9d87d53",
   "metadata": {},
   "source": [
    "### 3) Joineo de tablas\n",
    "\n",
    "#### MERGE\n",
    "\n",
    "**3.1) Joineemos los dos dataframes que tenemos, por las claves de fusion que serán rut y periodo.**\n",
    "\n",
    "Crear un dataset que se llame df_nuevo que sea un inner join entre df y df_variables. **Usar pd.merge**"
   ]
  },
  {
   "cell_type": "code",
   "execution_count": 35,
   "id": "6d494935",
   "metadata": {
    "scrolled": true
   },
   "outputs": [
    {
     "data": {
      "text/html": [
       "<div>\n",
       "<style scoped>\n",
       "    .dataframe tbody tr th:only-of-type {\n",
       "        vertical-align: middle;\n",
       "    }\n",
       "\n",
       "    .dataframe tbody tr th {\n",
       "        vertical-align: top;\n",
       "    }\n",
       "\n",
       "    .dataframe thead th {\n",
       "        text-align: right;\n",
       "    }\n",
       "</style>\n",
       "<table border=\"1\" class=\"dataframe\">\n",
       "  <thead>\n",
       "    <tr style=\"text-align: right;\">\n",
       "      <th></th>\n",
       "      <th>rut</th>\n",
       "      <th>periodo</th>\n",
       "      <th>archive_x</th>\n",
       "      <th>ind_activo</th>\n",
       "      <th>estado_solicitud</th>\n",
       "      <th>captacion</th>\n",
       "      <th>cant_tel</th>\n",
       "      <th>predictor1_6</th>\n",
       "      <th>marca_60d_6m_final</th>\n",
       "      <th>archive_y</th>\n",
       "      <th>predictor1_7</th>\n",
       "      <th>predictor1_8</th>\n",
       "      <th>predictor1_9</th>\n",
       "      <th>predictor1_10</th>\n",
       "      <th>predictor1_11</th>\n",
       "      <th>predictor1_12</th>\n",
       "      <th>ignite_ise</th>\n",
       "      <th>ind_compra_paga</th>\n",
       "    </tr>\n",
       "  </thead>\n",
       "  <tbody>\n",
       "    <tr>\n",
       "      <th>0</th>\n",
       "      <td>PlDKtWGFBg</td>\n",
       "      <td>201909.0</td>\n",
       "      <td>20190930.0</td>\n",
       "      <td>0.0</td>\n",
       "      <td>Rechazado</td>\n",
       "      <td>NORMAL</td>\n",
       "      <td>1.0</td>\n",
       "      <td>596.0</td>\n",
       "      <td>1.0</td>\n",
       "      <td>20190930.0</td>\n",
       "      <td>551.0</td>\n",
       "      <td>506.0</td>\n",
       "      <td>506.0</td>\n",
       "      <td>640.000000</td>\n",
       "      <td>681.000000</td>\n",
       "      <td>640.0</td>\n",
       "      <td>D</td>\n",
       "      <td>0.0</td>\n",
       "    </tr>\n",
       "    <tr>\n",
       "      <th>1</th>\n",
       "      <td>MOAbr9v9ac</td>\n",
       "      <td>201810.0</td>\n",
       "      <td>20181031.0</td>\n",
       "      <td>1.0</td>\n",
       "      <td>Aprobado</td>\n",
       "      <td>COMPRESS</td>\n",
       "      <td>4.0</td>\n",
       "      <td>NaN</td>\n",
       "      <td>0.0</td>\n",
       "      <td>20181031.0</td>\n",
       "      <td>100.0</td>\n",
       "      <td>NaN</td>\n",
       "      <td>100.0</td>\n",
       "      <td>582.519234</td>\n",
       "      <td>586.224898</td>\n",
       "      <td>NaN</td>\n",
       "      <td>C3</td>\n",
       "      <td>0.0</td>\n",
       "    </tr>\n",
       "    <tr>\n",
       "      <th>2</th>\n",
       "      <td>49L1vb3c2I</td>\n",
       "      <td>201909.0</td>\n",
       "      <td>20190930.0</td>\n",
       "      <td>1.0</td>\n",
       "      <td>Aprobado</td>\n",
       "      <td>NORMAL</td>\n",
       "      <td>3.0</td>\n",
       "      <td>633.0</td>\n",
       "      <td>0.0</td>\n",
       "      <td>20190930.0</td>\n",
       "      <td>544.0</td>\n",
       "      <td>675.0</td>\n",
       "      <td>675.0</td>\n",
       "      <td>749.000000</td>\n",
       "      <td>749.000000</td>\n",
       "      <td>749.0</td>\n",
       "      <td>D</td>\n",
       "      <td>0.0</td>\n",
       "    </tr>\n",
       "    <tr>\n",
       "      <th>3</th>\n",
       "      <td>7xM1iIFNCb</td>\n",
       "      <td>201812.0</td>\n",
       "      <td>20181231.0</td>\n",
       "      <td>1.0</td>\n",
       "      <td>Aprobado</td>\n",
       "      <td>COMPRESS</td>\n",
       "      <td>4.0</td>\n",
       "      <td>NaN</td>\n",
       "      <td>0.0</td>\n",
       "      <td>20181231.0</td>\n",
       "      <td>100.0</td>\n",
       "      <td>NaN</td>\n",
       "      <td>100.0</td>\n",
       "      <td>582.519234</td>\n",
       "      <td>586.224898</td>\n",
       "      <td>NaN</td>\n",
       "      <td>E</td>\n",
       "      <td>0.0</td>\n",
       "    </tr>\n",
       "    <tr>\n",
       "      <th>4</th>\n",
       "      <td>e2ayZYSD59</td>\n",
       "      <td>201809.0</td>\n",
       "      <td>20180930.0</td>\n",
       "      <td>1.0</td>\n",
       "      <td>Aprobado</td>\n",
       "      <td>NORMAL</td>\n",
       "      <td>0.0</td>\n",
       "      <td>NaN</td>\n",
       "      <td>0.0</td>\n",
       "      <td>20180930.0</td>\n",
       "      <td>100.0</td>\n",
       "      <td>NaN</td>\n",
       "      <td>100.0</td>\n",
       "      <td>582.519234</td>\n",
       "      <td>586.224898</td>\n",
       "      <td>NaN</td>\n",
       "      <td>E</td>\n",
       "      <td>0.0</td>\n",
       "    </tr>\n",
       "  </tbody>\n",
       "</table>\n",
       "</div>"
      ],
      "text/plain": [
       "          rut   periodo   archive_x  ind_activo estado_solicitud captacion  \\\n",
       "0  PlDKtWGFBg  201909.0  20190930.0         0.0        Rechazado    NORMAL   \n",
       "1  MOAbr9v9ac  201810.0  20181031.0         1.0         Aprobado  COMPRESS   \n",
       "2  49L1vb3c2I  201909.0  20190930.0         1.0         Aprobado    NORMAL   \n",
       "3  7xM1iIFNCb  201812.0  20181231.0         1.0         Aprobado  COMPRESS   \n",
       "4  e2ayZYSD59  201809.0  20180930.0         1.0         Aprobado    NORMAL   \n",
       "\n",
       "   cant_tel  predictor1_6  marca_60d_6m_final   archive_y  predictor1_7  \\\n",
       "0       1.0         596.0                 1.0  20190930.0         551.0   \n",
       "1       4.0           NaN                 0.0  20181031.0         100.0   \n",
       "2       3.0         633.0                 0.0  20190930.0         544.0   \n",
       "3       4.0           NaN                 0.0  20181231.0         100.0   \n",
       "4       0.0           NaN                 0.0  20180930.0         100.0   \n",
       "\n",
       "   predictor1_8  predictor1_9  predictor1_10  predictor1_11  predictor1_12  \\\n",
       "0         506.0         506.0     640.000000     681.000000          640.0   \n",
       "1           NaN         100.0     582.519234     586.224898            NaN   \n",
       "2         675.0         675.0     749.000000     749.000000          749.0   \n",
       "3           NaN         100.0     582.519234     586.224898            NaN   \n",
       "4           NaN         100.0     582.519234     586.224898            NaN   \n",
       "\n",
       "  ignite_ise  ind_compra_paga  \n",
       "0          D              0.0  \n",
       "1         C3              0.0  \n",
       "2          D              0.0  \n",
       "3          E              0.0  \n",
       "4          E              0.0  "
      ]
     },
     "execution_count": 35,
     "metadata": {},
     "output_type": "execute_result"
    }
   ],
   "source": [
    "df_nuevo = pd.merge(df, df_variables, on=['rut', 'periodo'], how='inner')\n",
    "df_nuevo.head()"
   ]
  },
  {
   "cell_type": "markdown",
   "id": "municipal-repository",
   "metadata": {
    "id": "municipal-repository"
   },
   "source": [
    "**3.1 bis)**\n",
    "Con el .head() podemos ver que el nuevo df contiene nuevas variables, las que agregamos desde df_variables. Vemos también que las variables que fueron clave de fusion no se duplicaron, lo cual es bueno. \n",
    "\n",
    "**Ahora ¿ Qué pasa si las claves de fusion se llaman distinto? Utilizar left_on y right_on**\n",
    "\n",
    "A pesar de que las variables se llaman, y el código debajo no haria falta en este caso, muchas veces se van a encontrar con distintos nombres de claves de fusion."
   ]
  },
  {
   "cell_type": "code",
   "execution_count": 36,
   "id": "accurate-council",
   "metadata": {
    "id": "accurate-council",
    "scrolled": true
   },
   "outputs": [],
   "source": [
    "df_nuevo = df.merge(df_variables, left_on = ['rut', 'periodo'], right_on = ['rut', 'periodo'], how = 'inner')"
   ]
  },
  {
   "cell_type": "markdown",
   "id": "39d2acfc",
   "metadata": {},
   "source": [
    "**3.2) Realizar un left join pero sólo trayendo algunas variables del dataset df_variables:\n",
    "'predictor1_7', 'predictor1_8', 'predictor1_9', 'ignite_ise'** . El left join debe ser sobre el dataset df, es decir, que el left seria df y el right df_variables.\n",
    "\n",
    "Llamar a este dataframe df_merge."
   ]
  },
  {
   "cell_type": "code",
   "execution_count": 37,
   "id": "ea598368",
   "metadata": {
    "scrolled": true
   },
   "outputs": [
    {
     "data": {
      "text/html": [
       "<div>\n",
       "<style scoped>\n",
       "    .dataframe tbody tr th:only-of-type {\n",
       "        vertical-align: middle;\n",
       "    }\n",
       "\n",
       "    .dataframe tbody tr th {\n",
       "        vertical-align: top;\n",
       "    }\n",
       "\n",
       "    .dataframe thead th {\n",
       "        text-align: right;\n",
       "    }\n",
       "</style>\n",
       "<table border=\"1\" class=\"dataframe\">\n",
       "  <thead>\n",
       "    <tr style=\"text-align: right;\">\n",
       "      <th></th>\n",
       "      <th>rut</th>\n",
       "      <th>periodo</th>\n",
       "      <th>archive</th>\n",
       "      <th>ind_activo</th>\n",
       "      <th>estado_solicitud</th>\n",
       "      <th>captacion</th>\n",
       "      <th>cant_tel</th>\n",
       "      <th>predictor1_6</th>\n",
       "      <th>marca_60d_6m_final</th>\n",
       "      <th>predictor1_7</th>\n",
       "      <th>predictor1_8</th>\n",
       "      <th>predictor1_9</th>\n",
       "      <th>ignite_ise</th>\n",
       "    </tr>\n",
       "  </thead>\n",
       "  <tbody>\n",
       "    <tr>\n",
       "      <th>0</th>\n",
       "      <td>PlDKtWGFBg</td>\n",
       "      <td>201909.0</td>\n",
       "      <td>20190930.0</td>\n",
       "      <td>0.0</td>\n",
       "      <td>Rechazado</td>\n",
       "      <td>NORMAL</td>\n",
       "      <td>1.0</td>\n",
       "      <td>596.0</td>\n",
       "      <td>1.0</td>\n",
       "      <td>551.0</td>\n",
       "      <td>506.0</td>\n",
       "      <td>506.0</td>\n",
       "      <td>D</td>\n",
       "    </tr>\n",
       "    <tr>\n",
       "      <th>1</th>\n",
       "      <td>MOAbr9v9ac</td>\n",
       "      <td>201810.0</td>\n",
       "      <td>20181031.0</td>\n",
       "      <td>1.0</td>\n",
       "      <td>Aprobado</td>\n",
       "      <td>COMPRESS</td>\n",
       "      <td>4.0</td>\n",
       "      <td>NaN</td>\n",
       "      <td>0.0</td>\n",
       "      <td>100.0</td>\n",
       "      <td>NaN</td>\n",
       "      <td>100.0</td>\n",
       "      <td>C3</td>\n",
       "    </tr>\n",
       "    <tr>\n",
       "      <th>2</th>\n",
       "      <td>49L1vb3c2I</td>\n",
       "      <td>201909.0</td>\n",
       "      <td>20190930.0</td>\n",
       "      <td>1.0</td>\n",
       "      <td>Aprobado</td>\n",
       "      <td>NORMAL</td>\n",
       "      <td>3.0</td>\n",
       "      <td>633.0</td>\n",
       "      <td>0.0</td>\n",
       "      <td>544.0</td>\n",
       "      <td>675.0</td>\n",
       "      <td>675.0</td>\n",
       "      <td>D</td>\n",
       "    </tr>\n",
       "    <tr>\n",
       "      <th>3</th>\n",
       "      <td>7xM1iIFNCb</td>\n",
       "      <td>201812.0</td>\n",
       "      <td>20181231.0</td>\n",
       "      <td>1.0</td>\n",
       "      <td>Aprobado</td>\n",
       "      <td>COMPRESS</td>\n",
       "      <td>4.0</td>\n",
       "      <td>NaN</td>\n",
       "      <td>0.0</td>\n",
       "      <td>100.0</td>\n",
       "      <td>NaN</td>\n",
       "      <td>100.0</td>\n",
       "      <td>E</td>\n",
       "    </tr>\n",
       "    <tr>\n",
       "      <th>4</th>\n",
       "      <td>e2ayZYSD59</td>\n",
       "      <td>201809.0</td>\n",
       "      <td>20180930.0</td>\n",
       "      <td>1.0</td>\n",
       "      <td>Aprobado</td>\n",
       "      <td>NORMAL</td>\n",
       "      <td>0.0</td>\n",
       "      <td>NaN</td>\n",
       "      <td>0.0</td>\n",
       "      <td>100.0</td>\n",
       "      <td>NaN</td>\n",
       "      <td>100.0</td>\n",
       "      <td>E</td>\n",
       "    </tr>\n",
       "  </tbody>\n",
       "</table>\n",
       "</div>"
      ],
      "text/plain": [
       "          rut   periodo     archive  ind_activo estado_solicitud captacion  \\\n",
       "0  PlDKtWGFBg  201909.0  20190930.0         0.0        Rechazado    NORMAL   \n",
       "1  MOAbr9v9ac  201810.0  20181031.0         1.0         Aprobado  COMPRESS   \n",
       "2  49L1vb3c2I  201909.0  20190930.0         1.0         Aprobado    NORMAL   \n",
       "3  7xM1iIFNCb  201812.0  20181231.0         1.0         Aprobado  COMPRESS   \n",
       "4  e2ayZYSD59  201809.0  20180930.0         1.0         Aprobado    NORMAL   \n",
       "\n",
       "   cant_tel  predictor1_6  marca_60d_6m_final  predictor1_7  predictor1_8  \\\n",
       "0       1.0         596.0                 1.0         551.0         506.0   \n",
       "1       4.0           NaN                 0.0         100.0           NaN   \n",
       "2       3.0         633.0                 0.0         544.0         675.0   \n",
       "3       4.0           NaN                 0.0         100.0           NaN   \n",
       "4       0.0           NaN                 0.0         100.0           NaN   \n",
       "\n",
       "   predictor1_9 ignite_ise  \n",
       "0         506.0          D  \n",
       "1         100.0         C3  \n",
       "2         675.0          D  \n",
       "3         100.0          E  \n",
       "4         100.0          E  "
      ]
     },
     "execution_count": 37,
     "metadata": {},
     "output_type": "execute_result"
    }
   ],
   "source": [
    "df_merge = pd.merge(df, df_variables[['rut','periodo','predictor1_7','predictor1_8','predictor1_9','ignite_ise']], \n",
    "                    left_on = ['rut', 'periodo'], \n",
    "                    right_on = ['rut', 'periodo'], \n",
    "                    how = 'left')\n",
    "\n",
    "df_merge.head()"
   ]
  },
  {
   "cell_type": "markdown",
   "id": "d64176be",
   "metadata": {},
   "source": [
    "**Chequear shape del nuevo dataset para ver si se hizo correctamente o tenemos duplicados**"
   ]
  },
  {
   "cell_type": "code",
   "execution_count": 38,
   "id": "b2b44c65",
   "metadata": {
    "scrolled": false
   },
   "outputs": [
    {
     "data": {
      "text/plain": [
       "(10000, 13)"
      ]
     },
     "execution_count": 38,
     "metadata": {},
     "output_type": "execute_result"
    }
   ],
   "source": [
    "df_merge.shape"
   ]
  },
  {
   "cell_type": "markdown",
   "id": "723254c7",
   "metadata": {},
   "source": [
    "### 4) Agrupación\n",
    "\n",
    "Para realizar agrupaciones, las 2 maneras más comunes son groupby y pivot_table. A pesar de que pivot_table no fue detallado en las NB de teoria, acá explicaremos un poco para que puedan realizar algunos ejercicios utilizando esta herramienta."
   ]
  },
  {
   "cell_type": "markdown",
   "id": "unexpected-occasions",
   "metadata": {
    "id": "unexpected-occasions"
   },
   "source": [
    "### Pivot table\n",
    "\n",
    "Pivot table es otra forma de realizar group by, la cuál es muy facil de entender si estamos acostumbrados a trabajar con tablas dinamicas en excel.\n",
    "\n",
    "**Código:**\n",
    "\n",
    "```pd.pivot_table(data, index='variable o variables indice', columns='variable o variables de columna', values='variable sobre la cual se va a calcular suma/cuenta/media/..., aggfunc='funciones de agregación que se van a apicar a cada variable')```\n"
   ]
  },
  {
   "cell_type": "markdown",
   "id": "outside-antenna",
   "metadata": {
    "id": "outside-antenna"
   },
   "source": [
    "```pd.pivot_table(\n",
    "    data,\n",
    "    values=None,\n",
    "    index=None,\n",
    "    columns=None,\n",
    "    aggfunc='mean',\n",
    "    fill_value=None,\n",
    "    margins=False,\n",
    "    dropna=True,\n",
    "    margins_name='All',\n",
    "    observed=False,\n",
    ")```"
   ]
  },
  {
   "cell_type": "markdown",
   "id": "related-ireland",
   "metadata": {
    "id": "related-ireland"
   },
   "source": [
    "**Ejemplo - calcular la bad rate (mean de marca_60d_6m_final) por periodo y la cantidad de registros:**"
   ]
  },
  {
   "cell_type": "markdown",
   "id": "suspected-external",
   "metadata": {
    "id": "suspected-external"
   },
   "source": [
    "Podemos ver que no usaremos parametro \"column\" ya que no hace falta, porque estamos agrupando por periodo y caluculando la media de marca malo (bad rate) y la cuenta de registros (0 y 1) por periodo."
   ]
  },
  {
   "cell_type": "code",
   "execution_count": 39,
   "id": "welcome-system",
   "metadata": {
    "id": "welcome-system",
    "outputId": "84276de0-e0f8-4f62-9a44-6302d01e6ddb",
    "scrolled": false
   },
   "outputs": [
    {
     "data": {
      "text/html": [
       "<div>\n",
       "<style scoped>\n",
       "    .dataframe tbody tr th:only-of-type {\n",
       "        vertical-align: middle;\n",
       "    }\n",
       "\n",
       "    .dataframe tbody tr th {\n",
       "        vertical-align: top;\n",
       "    }\n",
       "\n",
       "    .dataframe thead tr th {\n",
       "        text-align: left;\n",
       "    }\n",
       "\n",
       "    .dataframe thead tr:last-of-type th {\n",
       "        text-align: right;\n",
       "    }\n",
       "</style>\n",
       "<table border=\"1\" class=\"dataframe\">\n",
       "  <thead>\n",
       "    <tr>\n",
       "      <th></th>\n",
       "      <th>mean</th>\n",
       "      <th>count</th>\n",
       "      <th>sum</th>\n",
       "    </tr>\n",
       "    <tr>\n",
       "      <th></th>\n",
       "      <th>marca_60d_6m_final</th>\n",
       "      <th>marca_60d_6m_final</th>\n",
       "      <th>marca_60d_6m_final</th>\n",
       "    </tr>\n",
       "    <tr>\n",
       "      <th>periodo</th>\n",
       "      <th></th>\n",
       "      <th></th>\n",
       "      <th></th>\n",
       "    </tr>\n",
       "  </thead>\n",
       "  <tbody>\n",
       "    <tr>\n",
       "      <th>201807.0</th>\n",
       "      <td>0.149378</td>\n",
       "      <td>482</td>\n",
       "      <td>72.0</td>\n",
       "    </tr>\n",
       "    <tr>\n",
       "      <th>201808.0</th>\n",
       "      <td>0.166667</td>\n",
       "      <td>468</td>\n",
       "      <td>78.0</td>\n",
       "    </tr>\n",
       "    <tr>\n",
       "      <th>201809.0</th>\n",
       "      <td>0.216802</td>\n",
       "      <td>369</td>\n",
       "      <td>80.0</td>\n",
       "    </tr>\n",
       "    <tr>\n",
       "      <th>201810.0</th>\n",
       "      <td>0.175153</td>\n",
       "      <td>491</td>\n",
       "      <td>86.0</td>\n",
       "    </tr>\n",
       "    <tr>\n",
       "      <th>201811.0</th>\n",
       "      <td>0.206897</td>\n",
       "      <td>493</td>\n",
       "      <td>102.0</td>\n",
       "    </tr>\n",
       "  </tbody>\n",
       "</table>\n",
       "</div>"
      ],
      "text/plain": [
       "                       mean              count                sum\n",
       "         marca_60d_6m_final marca_60d_6m_final marca_60d_6m_final\n",
       "periodo                                                          \n",
       "201807.0           0.149378                482               72.0\n",
       "201808.0           0.166667                468               78.0\n",
       "201809.0           0.216802                369               80.0\n",
       "201810.0           0.175153                491               86.0\n",
       "201811.0           0.206897                493              102.0"
      ]
     },
     "execution_count": 39,
     "metadata": {},
     "output_type": "execute_result"
    }
   ],
   "source": [
    "pd.pivot_table(df_merge, index='periodo', values='marca_60d_6m_final', aggfunc=['mean', 'count', 'sum']).head()"
   ]
  },
  {
   "cell_type": "markdown",
   "id": "controversial-effort",
   "metadata": {
    "id": "controversial-effort"
   },
   "source": [
    "**Ejemplo 1) - Queremos ver la cantidad de malos y buenos por periodo**"
   ]
  },
  {
   "cell_type": "code",
   "execution_count": 40,
   "id": "global-accommodation",
   "metadata": {
    "id": "global-accommodation",
    "outputId": "cceeae54-9461-4a0a-e0bd-a0217397bc6c",
    "scrolled": true
   },
   "outputs": [
    {
     "data": {
      "text/html": [
       "<div>\n",
       "<style scoped>\n",
       "    .dataframe tbody tr th:only-of-type {\n",
       "        vertical-align: middle;\n",
       "    }\n",
       "\n",
       "    .dataframe tbody tr th {\n",
       "        vertical-align: top;\n",
       "    }\n",
       "\n",
       "    .dataframe thead th {\n",
       "        text-align: right;\n",
       "    }\n",
       "</style>\n",
       "<table border=\"1\" class=\"dataframe\">\n",
       "  <thead>\n",
       "    <tr style=\"text-align: right;\">\n",
       "      <th>marca_60d_6m_final</th>\n",
       "      <th>0.0</th>\n",
       "      <th>1.0</th>\n",
       "    </tr>\n",
       "    <tr>\n",
       "      <th>periodo</th>\n",
       "      <th></th>\n",
       "      <th></th>\n",
       "    </tr>\n",
       "  </thead>\n",
       "  <tbody>\n",
       "    <tr>\n",
       "      <th>201807.0</th>\n",
       "      <td>410</td>\n",
       "      <td>72</td>\n",
       "    </tr>\n",
       "    <tr>\n",
       "      <th>201808.0</th>\n",
       "      <td>390</td>\n",
       "      <td>78</td>\n",
       "    </tr>\n",
       "    <tr>\n",
       "      <th>201809.0</th>\n",
       "      <td>289</td>\n",
       "      <td>80</td>\n",
       "    </tr>\n",
       "    <tr>\n",
       "      <th>201810.0</th>\n",
       "      <td>405</td>\n",
       "      <td>86</td>\n",
       "    </tr>\n",
       "    <tr>\n",
       "      <th>201811.0</th>\n",
       "      <td>391</td>\n",
       "      <td>102</td>\n",
       "    </tr>\n",
       "  </tbody>\n",
       "</table>\n",
       "</div>"
      ],
      "text/plain": [
       "marca_60d_6m_final  0.0  1.0\n",
       "periodo                     \n",
       "201807.0            410   72\n",
       "201808.0            390   78\n",
       "201809.0            289   80\n",
       "201810.0            405   86\n",
       "201811.0            391  102"
      ]
     },
     "execution_count": 40,
     "metadata": {},
     "output_type": "execute_result"
    }
   ],
   "source": [
    "pd.pivot_table(df_merge, index='periodo', columns='marca_60d_6m_final', values='rut', aggfunc='count').head()"
   ]
  },
  {
   "cell_type": "markdown",
   "id": "major-reverse",
   "metadata": {
    "id": "major-reverse"
   },
   "source": [
    "Acá vemos que agregamos el parametro columna ya que queremos que cuente separando por marca malo (0 o 1). Como values pusimos rut ya que es una columna sin nulos que nos sirve para hacer el count."
   ]
  },
  {
   "cell_type": "markdown",
   "id": "romantic-metropolitan",
   "metadata": {
    "id": "romantic-metropolitan"
   },
   "source": [
    "**Ejemplo 2) - agrupar por periodo (indice), ver por captacion (columnas) sobre las columnas rut (count) y cant_tel (media).**"
   ]
  },
  {
   "cell_type": "code",
   "execution_count": 41,
   "id": "electronic-vitamin",
   "metadata": {
    "id": "electronic-vitamin",
    "outputId": "f111268c-aa06-4718-9d2b-4f9d1bbc9f0f",
    "scrolled": true
   },
   "outputs": [
    {
     "data": {
      "text/html": [
       "<div>\n",
       "<style scoped>\n",
       "    .dataframe tbody tr th:only-of-type {\n",
       "        vertical-align: middle;\n",
       "    }\n",
       "\n",
       "    .dataframe tbody tr th {\n",
       "        vertical-align: top;\n",
       "    }\n",
       "\n",
       "    .dataframe thead tr th {\n",
       "        text-align: left;\n",
       "    }\n",
       "\n",
       "    .dataframe thead tr:last-of-type th {\n",
       "        text-align: right;\n",
       "    }\n",
       "</style>\n",
       "<table border=\"1\" class=\"dataframe\">\n",
       "  <thead>\n",
       "    <tr>\n",
       "      <th></th>\n",
       "      <th colspan=\"2\" halign=\"left\">cant_tel</th>\n",
       "      <th colspan=\"2\" halign=\"left\">rut</th>\n",
       "    </tr>\n",
       "    <tr>\n",
       "      <th>captacion</th>\n",
       "      <th>COMPRESS</th>\n",
       "      <th>NORMAL</th>\n",
       "      <th>COMPRESS</th>\n",
       "      <th>NORMAL</th>\n",
       "    </tr>\n",
       "    <tr>\n",
       "      <th>periodo</th>\n",
       "      <th></th>\n",
       "      <th></th>\n",
       "      <th></th>\n",
       "      <th></th>\n",
       "    </tr>\n",
       "  </thead>\n",
       "  <tbody>\n",
       "    <tr>\n",
       "      <th>201807.0</th>\n",
       "      <td>2.752688</td>\n",
       "      <td>2.029557</td>\n",
       "      <td>279</td>\n",
       "      <td>203</td>\n",
       "    </tr>\n",
       "    <tr>\n",
       "      <th>201808.0</th>\n",
       "      <td>2.850365</td>\n",
       "      <td>2.237113</td>\n",
       "      <td>274</td>\n",
       "      <td>194</td>\n",
       "    </tr>\n",
       "    <tr>\n",
       "      <th>201809.0</th>\n",
       "      <td>2.788546</td>\n",
       "      <td>2.169014</td>\n",
       "      <td>227</td>\n",
       "      <td>142</td>\n",
       "    </tr>\n",
       "    <tr>\n",
       "      <th>201810.0</th>\n",
       "      <td>2.752809</td>\n",
       "      <td>1.901786</td>\n",
       "      <td>267</td>\n",
       "      <td>224</td>\n",
       "    </tr>\n",
       "    <tr>\n",
       "      <th>201811.0</th>\n",
       "      <td>2.777778</td>\n",
       "      <td>2.038793</td>\n",
       "      <td>261</td>\n",
       "      <td>232</td>\n",
       "    </tr>\n",
       "  </tbody>\n",
       "</table>\n",
       "</div>"
      ],
      "text/plain": [
       "           cant_tel                rut       \n",
       "captacion  COMPRESS    NORMAL COMPRESS NORMAL\n",
       "periodo                                      \n",
       "201807.0   2.752688  2.029557      279    203\n",
       "201808.0   2.850365  2.237113      274    194\n",
       "201809.0   2.788546  2.169014      227    142\n",
       "201810.0   2.752809  1.901786      267    224\n",
       "201811.0   2.777778  2.038793      261    232"
      ]
     },
     "execution_count": 41,
     "metadata": {},
     "output_type": "execute_result"
    }
   ],
   "source": [
    "pd.pivot_table(df_merge, index='periodo', columns='captacion', values=['rut', 'cant_tel'],\n",
    "              aggfunc={'rut':'count',\n",
    "                      'cant_tel':'mean'}).head()"
   ]
  },
  {
   "cell_type": "markdown",
   "id": "chief-method",
   "metadata": {
    "id": "chief-method"
   },
   "source": [
    "Vemos que para mapear variable en values con la funcion, creamos un diccionario en aggfunc y elegimos que metrica calcularle a cada uno.\n",
    "\n",
    "**Otra forma de verlo es sin usar el parametro columna** - Esto va a ser más util para crear un nuevo dataframe."
   ]
  },
  {
   "cell_type": "code",
   "execution_count": 42,
   "id": "yellow-whole",
   "metadata": {
    "id": "yellow-whole",
    "outputId": "5002d3db-55ea-4583-a7b6-841f1a3db4f3",
    "scrolled": true
   },
   "outputs": [
    {
     "data": {
      "text/html": [
       "<div>\n",
       "<style scoped>\n",
       "    .dataframe tbody tr th:only-of-type {\n",
       "        vertical-align: middle;\n",
       "    }\n",
       "\n",
       "    .dataframe tbody tr th {\n",
       "        vertical-align: top;\n",
       "    }\n",
       "\n",
       "    .dataframe thead th {\n",
       "        text-align: right;\n",
       "    }\n",
       "</style>\n",
       "<table border=\"1\" class=\"dataframe\">\n",
       "  <thead>\n",
       "    <tr style=\"text-align: right;\">\n",
       "      <th></th>\n",
       "      <th></th>\n",
       "      <th>cant_tel</th>\n",
       "      <th>rut</th>\n",
       "    </tr>\n",
       "    <tr>\n",
       "      <th>periodo</th>\n",
       "      <th>captacion</th>\n",
       "      <th></th>\n",
       "      <th></th>\n",
       "    </tr>\n",
       "  </thead>\n",
       "  <tbody>\n",
       "    <tr>\n",
       "      <th rowspan=\"2\" valign=\"top\">201807.0</th>\n",
       "      <th>COMPRESS</th>\n",
       "      <td>2.752688</td>\n",
       "      <td>279</td>\n",
       "    </tr>\n",
       "    <tr>\n",
       "      <th>NORMAL</th>\n",
       "      <td>2.029557</td>\n",
       "      <td>203</td>\n",
       "    </tr>\n",
       "    <tr>\n",
       "      <th rowspan=\"2\" valign=\"top\">201808.0</th>\n",
       "      <th>COMPRESS</th>\n",
       "      <td>2.850365</td>\n",
       "      <td>274</td>\n",
       "    </tr>\n",
       "    <tr>\n",
       "      <th>NORMAL</th>\n",
       "      <td>2.237113</td>\n",
       "      <td>194</td>\n",
       "    </tr>\n",
       "    <tr>\n",
       "      <th>201809.0</th>\n",
       "      <th>COMPRESS</th>\n",
       "      <td>2.788546</td>\n",
       "      <td>227</td>\n",
       "    </tr>\n",
       "  </tbody>\n",
       "</table>\n",
       "</div>"
      ],
      "text/plain": [
       "                    cant_tel  rut\n",
       "periodo  captacion               \n",
       "201807.0 COMPRESS   2.752688  279\n",
       "         NORMAL     2.029557  203\n",
       "201808.0 COMPRESS   2.850365  274\n",
       "         NORMAL     2.237113  194\n",
       "201809.0 COMPRESS   2.788546  227"
      ]
     },
     "execution_count": 42,
     "metadata": {},
     "output_type": "execute_result"
    }
   ],
   "source": [
    "pd.pivot_table(df_merge, index=['periodo','captacion'], values=['rut', 'cant_tel'],\n",
    "              aggfunc={'rut':'count',\n",
    "                      'cant_tel':'mean'}).head()"
   ]
  },
  {
   "cell_type": "markdown",
   "id": "entitled-hierarchy",
   "metadata": {
    "id": "entitled-hierarchy"
   },
   "source": [
    "**La importancia de .reset_index()**\n",
    "\n",
    "Es muy importante destacar que si vamos a querer crear un dataset con la agrupacion realizada, es IMPRESCINDIBLE usar .reset_index() al final del codigo, ya que sino no quedara en el formato correcto.\n",
    "\n",
    "Miremos el ejemplo de arriba aplicando reset_index()"
   ]
  },
  {
   "cell_type": "code",
   "execution_count": 43,
   "id": "specific-connecticut",
   "metadata": {
    "id": "specific-connecticut",
    "outputId": "c59faa39-be4e-4467-ac00-2bec96582fcc",
    "scrolled": true
   },
   "outputs": [
    {
     "data": {
      "text/html": [
       "<div>\n",
       "<style scoped>\n",
       "    .dataframe tbody tr th:only-of-type {\n",
       "        vertical-align: middle;\n",
       "    }\n",
       "\n",
       "    .dataframe tbody tr th {\n",
       "        vertical-align: top;\n",
       "    }\n",
       "\n",
       "    .dataframe thead th {\n",
       "        text-align: right;\n",
       "    }\n",
       "</style>\n",
       "<table border=\"1\" class=\"dataframe\">\n",
       "  <thead>\n",
       "    <tr style=\"text-align: right;\">\n",
       "      <th></th>\n",
       "      <th>periodo</th>\n",
       "      <th>captacion</th>\n",
       "      <th>cant_tel</th>\n",
       "      <th>rut</th>\n",
       "    </tr>\n",
       "  </thead>\n",
       "  <tbody>\n",
       "    <tr>\n",
       "      <th>0</th>\n",
       "      <td>201807.0</td>\n",
       "      <td>COMPRESS</td>\n",
       "      <td>2.752688</td>\n",
       "      <td>279</td>\n",
       "    </tr>\n",
       "    <tr>\n",
       "      <th>1</th>\n",
       "      <td>201807.0</td>\n",
       "      <td>NORMAL</td>\n",
       "      <td>2.029557</td>\n",
       "      <td>203</td>\n",
       "    </tr>\n",
       "    <tr>\n",
       "      <th>2</th>\n",
       "      <td>201808.0</td>\n",
       "      <td>COMPRESS</td>\n",
       "      <td>2.850365</td>\n",
       "      <td>274</td>\n",
       "    </tr>\n",
       "    <tr>\n",
       "      <th>3</th>\n",
       "      <td>201808.0</td>\n",
       "      <td>NORMAL</td>\n",
       "      <td>2.237113</td>\n",
       "      <td>194</td>\n",
       "    </tr>\n",
       "    <tr>\n",
       "      <th>4</th>\n",
       "      <td>201809.0</td>\n",
       "      <td>COMPRESS</td>\n",
       "      <td>2.788546</td>\n",
       "      <td>227</td>\n",
       "    </tr>\n",
       "  </tbody>\n",
       "</table>\n",
       "</div>"
      ],
      "text/plain": [
       "    periodo captacion  cant_tel  rut\n",
       "0  201807.0  COMPRESS  2.752688  279\n",
       "1  201807.0    NORMAL  2.029557  203\n",
       "2  201808.0  COMPRESS  2.850365  274\n",
       "3  201808.0    NORMAL  2.237113  194\n",
       "4  201809.0  COMPRESS  2.788546  227"
      ]
     },
     "execution_count": 43,
     "metadata": {},
     "output_type": "execute_result"
    }
   ],
   "source": [
    "pd.pivot_table(df_merge, index=['periodo','captacion'], values=['rut', 'cant_tel'],\n",
    "              aggfunc={'rut':'count',\n",
    "                      'cant_tel':'mean'}).reset_index().head()"
   ]
  },
  {
   "cell_type": "markdown",
   "id": "abandoned-executive",
   "metadata": {
    "id": "abandoned-executive"
   },
   "source": [
    "**Ejercicio Práctico utilizando pivot_table**\n",
    "\n",
    "Agrupar por captacion y obtener la media y el desvio de cant_tel. Para esto crear un nuevo dataset que se llame: info_captacion.\n",
    "\n",
    "Una vez obtenido esto, joinear la nueva columna al df_merge con un left_join (clave de fusion='captacion'). \n",
    "\n",
    "Pista: Para esto una vez obtenido el df info_captacion, debemos renombrar las columnas de manera correcta.\n",
    "\n",
    "``` info_captacion.columns = ['captacion', 'mean_cant_tel', 'std_cant_tel'] ```"
   ]
  },
  {
   "cell_type": "code",
   "execution_count": null,
   "id": "suspected-barcelona",
   "metadata": {
    "id": "suspected-barcelona",
    "outputId": "6afdfa92-0457-4cec-f79d-fb2684d2ba95",
    "scrolled": true
   },
   "outputs": [],
   "source": []
  },
  {
   "cell_type": "code",
   "execution_count": null,
   "id": "intended-cinema",
   "metadata": {
    "id": "intended-cinema",
    "outputId": "064e320a-1336-42d3-c793-d2a457e3dd5c",
    "scrolled": false
   },
   "outputs": [],
   "source": []
  },
  {
   "cell_type": "markdown",
   "id": "isolated-execution",
   "metadata": {
    "id": "isolated-execution"
   },
   "source": [
    "### Group by\n",
    "\n",
    "Group by es la forma más simple para agrupar variables. Es un poco más simple que pivot_table y las funciones son muy similares. **Muy importante recordar .reset_index() ya que cumple la misma funcion aquí**\n",
    "\n",
    "**Código**\n",
    "\n",
    "``` dataset.groupby(['variables de agrupacion'])['variables a calcular metrica'].agg(['métricas: count/mean/sum') ```\n",
    "\n",
    "Pueden ser mas de una variable de agrupacion, mas de una variable a calcular metrica y más de una metrica.\n",
    "\n",
    "**Ejemplo - Agrupar por captacion y calcular la media y la cantidad de registros utilizando la variable marca_60d_6m_final**"
   ]
  },
  {
   "cell_type": "code",
   "execution_count": 44,
   "id": "0feb8a67",
   "metadata": {
    "scrolled": true
   },
   "outputs": [
    {
     "data": {
      "text/html": [
       "<div>\n",
       "<style scoped>\n",
       "    .dataframe tbody tr th:only-of-type {\n",
       "        vertical-align: middle;\n",
       "    }\n",
       "\n",
       "    .dataframe tbody tr th {\n",
       "        vertical-align: top;\n",
       "    }\n",
       "\n",
       "    .dataframe thead th {\n",
       "        text-align: right;\n",
       "    }\n",
       "</style>\n",
       "<table border=\"1\" class=\"dataframe\">\n",
       "  <thead>\n",
       "    <tr style=\"text-align: right;\">\n",
       "      <th></th>\n",
       "      <th>captacion</th>\n",
       "      <th>mean</th>\n",
       "      <th>count</th>\n",
       "    </tr>\n",
       "  </thead>\n",
       "  <tbody>\n",
       "    <tr>\n",
       "      <th>0</th>\n",
       "      <td>COMPRESS</td>\n",
       "      <td>0.134036</td>\n",
       "      <td>5879</td>\n",
       "    </tr>\n",
       "    <tr>\n",
       "      <th>1</th>\n",
       "      <td>NORMAL</td>\n",
       "      <td>0.302596</td>\n",
       "      <td>4121</td>\n",
       "    </tr>\n",
       "  </tbody>\n",
       "</table>\n",
       "</div>"
      ],
      "text/plain": [
       "  captacion      mean  count\n",
       "0  COMPRESS  0.134036   5879\n",
       "1    NORMAL  0.302596   4121"
      ]
     },
     "execution_count": 44,
     "metadata": {},
     "output_type": "execute_result"
    }
   ],
   "source": [
    "df_merge.groupby(['captacion'])['marca_60d_6m_final'].agg(['mean', 'count']).reset_index()"
   ]
  },
  {
   "cell_type": "markdown",
   "id": "fbb723b7",
   "metadata": {},
   "source": [
    "**1) Ejercicio groupby simple**\n",
    "\n",
    "Agrupar por captacion y periodo, la bad rate (mean de marca_60d_6m_final). Convertir en dataframe en el formato correcto."
   ]
  },
  {
   "cell_type": "code",
   "execution_count": null,
   "id": "lyric-julian",
   "metadata": {
    "id": "lyric-julian",
    "outputId": "05c60901-4c37-40b1-dcb2-ed03488aa84b",
    "scrolled": true
   },
   "outputs": [],
   "source": []
  },
  {
   "cell_type": "markdown",
   "id": "6345e713",
   "metadata": {},
   "source": [
    "**2) Ejercicio groupby medio**\n",
    "\n",
    "Agrupar por captacion y periodo, la cantidad de registros (count del rut) y la bad rate (mean de marca_60d_6m_final)."
   ]
  },
  {
   "cell_type": "code",
   "execution_count": null,
   "id": "1bdf493e",
   "metadata": {
    "scrolled": true
   },
   "outputs": [],
   "source": []
  },
  {
   "cell_type": "markdown",
   "id": "mighty-spiritual",
   "metadata": {
    "id": "mighty-spiritual"
   },
   "source": [
    "### Creación de variables"
   ]
  },
  {
   "cell_type": "markdown",
   "id": "reduced-pickup",
   "metadata": {
    "id": "reduced-pickup"
   },
   "source": [
    "**Crear la variable \"captacion_corregido\" en donde si captacion es \"EXPRESS\", tome el valor \"Rápido\" y si no tome el valor \"Básico.**\n",
    "\n",
    "Se puede hacer con np.where, con .loc o con .map y un diccionario.\n",
    "\n",
    "**HACERLO SOBRE DF_MERGE**"
   ]
  },
  {
   "cell_type": "code",
   "execution_count": null,
   "id": "raising-still",
   "metadata": {
    "id": "raising-still",
    "scrolled": true
   },
   "outputs": [],
   "source": []
  },
  {
   "cell_type": "code",
   "execution_count": null,
   "id": "regulation-substitute",
   "metadata": {
    "id": "regulation-substitute",
    "outputId": "4558083c-1521-4cca-f240-3facde375982",
    "scrolled": true
   },
   "outputs": [],
   "source": []
  },
  {
   "cell_type": "markdown",
   "id": "plain-jewelry",
   "metadata": {
    "id": "plain-jewelry"
   },
   "source": [
    "**Usando Map**"
   ]
  },
  {
   "cell_type": "code",
   "execution_count": null,
   "id": "compliant-space",
   "metadata": {
    "id": "compliant-space",
    "scrolled": true
   },
   "outputs": [],
   "source": []
  },
  {
   "cell_type": "code",
   "execution_count": null,
   "id": "alpha-seattle",
   "metadata": {
    "id": "alpha-seattle",
    "outputId": "942a6c9e-265d-47f8-ae43-e325f1a6b830",
    "scrolled": true
   },
   "outputs": [],
   "source": []
  },
  {
   "cell_type": "markdown",
   "id": "armed-longitude",
   "metadata": {
    "id": "armed-longitude"
   },
   "source": [
    "**Usando Replace**"
   ]
  },
  {
   "cell_type": "code",
   "execution_count": null,
   "id": "terminal-caribbean",
   "metadata": {
    "id": "terminal-caribbean",
    "scrolled": true
   },
   "outputs": [],
   "source": []
  },
  {
   "cell_type": "code",
   "execution_count": null,
   "id": "dated-lesbian",
   "metadata": {
    "id": "dated-lesbian",
    "outputId": "b4028496-7c42-40fd-bfd2-617f2749de12",
    "scrolled": true
   },
   "outputs": [],
   "source": []
  },
  {
   "cell_type": "markdown",
   "id": "progressive-botswana",
   "metadata": {
    "id": "progressive-botswana"
   },
   "source": [
    "**2) Crear la columna \"flag_predictor\" de la siguiente manera**:\n",
    "\n",
    "Si predictor > 800 entonces flag_predictor = \"Alto\";\n",
    "Si predictor es maor a 600 pero menor a 800 entonces flag_predictor = \"Medio\";\n",
    "Si predictor es menor o igual a 600 flag_predictor = \"Bajo\".\n",
    "\n",
    "**Tener cuidado con los nulos** Si predictor1_6 es nulo ponerle el valor \"Revisar\"."
   ]
  },
  {
   "cell_type": "markdown",
   "id": "accompanied-convergence",
   "metadata": {
    "id": "accompanied-convergence"
   },
   "source": [
    "**- Usando np.where**"
   ]
  },
  {
   "cell_type": "code",
   "execution_count": null,
   "id": "absolute-mountain",
   "metadata": {
    "id": "absolute-mountain",
    "scrolled": true
   },
   "outputs": [],
   "source": []
  },
  {
   "cell_type": "code",
   "execution_count": null,
   "id": "vocal-mouse",
   "metadata": {
    "id": "vocal-mouse",
    "outputId": "521f245d-f845-4faf-852e-09219df5f0ed",
    "scrolled": true
   },
   "outputs": [],
   "source": []
  },
  {
   "cell_type": "markdown",
   "id": "macro-drive",
   "metadata": {
    "id": "macro-drive"
   },
   "source": [
    "**- Usando If-else**\n",
    "\n",
    "Para esto usaremos lambda x, que aunque no este en las NB de teoria se suele utilizar para este tipo de cosas."
   ]
  },
  {
   "cell_type": "code",
   "execution_count": null,
   "id": "periodic-default",
   "metadata": {
    "id": "periodic-default",
    "scrolled": true
   },
   "outputs": [],
   "source": []
  },
  {
   "cell_type": "markdown",
   "id": "brief-arthritis",
   "metadata": {
    "id": "brief-arthritis"
   },
   "source": [
    "**- EXTRA: Usando cut**"
   ]
  },
  {
   "cell_type": "code",
   "execution_count": null,
   "id": "regular-start",
   "metadata": {
    "id": "regular-start",
    "scrolled": true
   },
   "outputs": [],
   "source": []
  },
  {
   "cell_type": "code",
   "execution_count": null,
   "id": "civilian-helena",
   "metadata": {
    "id": "civilian-helena",
    "scrolled": true
   },
   "outputs": [],
   "source": []
  },
  {
   "cell_type": "markdown",
   "id": "801ea9dc",
   "metadata": {},
   "source": [
    "**EXTRA - Crear una columna que sea \"nueva_col\" la cual sea cada valor de la columna predictor 1_7 menos la resta del valor máximo de esa columna**.\n",
    "\n",
    "Ejemplo, si el valor maximo de la columna predictor1_7 es 100, y en la primer fila tenemos el valor 80, el valor de esa fila para la nueva columna seria (80-100) = -20."
   ]
  },
  {
   "cell_type": "code",
   "execution_count": null,
   "id": "1be76cc6",
   "metadata": {
    "scrolled": true
   },
   "outputs": [],
   "source": []
  }
 ],
 "metadata": {
  "kernelspec": {
   "display_name": "Python 3 (ipykernel)",
   "language": "python",
   "name": "python3"
  },
  "language_info": {
   "codemirror_mode": {
    "name": "ipython",
    "version": 3
   },
   "file_extension": ".py",
   "mimetype": "text/x-python",
   "name": "python",
   "nbconvert_exporter": "python",
   "pygments_lexer": "ipython3",
   "version": "3.9.12"
  }
 },
 "nbformat": 4,
 "nbformat_minor": 5
}
