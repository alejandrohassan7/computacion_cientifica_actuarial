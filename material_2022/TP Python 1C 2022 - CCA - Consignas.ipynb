{
 "cells": [
  {
   "cell_type": "markdown",
   "id": "32039c51",
   "metadata": {},
   "source": [
    "### `TP - COMPUTACIÓN CIENTIFICA ACTUARIAL 1C 2022.\n",
    "\n",
    "### `Objetivo:`\n",
    "- Implementar las técnicas aprendidas como parte del curso.\n",
    "\n",
    "### `Data information`\n",
    "\n",
    "- TRIPS\n",
    "    1. Request id: un identificador único de la solicitud\n",
    "    2. Time of request: La fecha y hora en que el cliente realizó la solicitud de viaje\n",
    "    3. Drop-off time: La fecha y hora de regreso, en caso de que el viaje se haya completado\n",
    "    4. Pick-up point: El punto desde el que se realizó la solicitud\n",
    "    5. Driver id: el número de identificación único del conductor\n",
    "    6. Status of the request: el estado final del viaje puede ser completado, cancelado por el conductor o no hay autos disponibles\n",
    "    \n",
    "   \n",
    "- DRIVERS\n",
    "    1. Driver id: identificador de conductor/a.\n",
    "    2. Name: Nombre del conductor/a.\n",
    "    3. Gender: Género del conductor/a.\n",
    "    \n",
    "### `Objetivos de aprendizaje.:`\n",
    "- Exploratory Data Analysis\n",
    "\n",
    "- Visualization using Python\n",
    "\n",
    "- Pandas – groupby, merging \n",
    "\n",
    "\n",
    "### `Realizar comentarios acerca de los insights que van encontrando en la data será tenido en cuenta a la hora de corregir el TP.:`"
   ]
  },
  {
   "cell_type": "markdown",
   "id": "bc30d3b3",
   "metadata": {},
   "source": [
    "### Importar Librerias\n",
    "\n",
    "Librerias: Pandas, Numpy, matplotlib, seaborn."
   ]
  },
  {
   "cell_type": "code",
   "execution_count": 1,
   "id": "be078c31",
   "metadata": {},
   "outputs": [],
   "source": [
    "import pandas as pd\n",
    "import numpy as np\n",
    "import matplotlib.pyplot as plt\n",
    "import seaborn as sns\n",
    "import plotly.express as px\n",
    "\n",
    "import warnings\n",
    "warnings.filterwarnings(\"ignore\")"
   ]
  },
  {
   "cell_type": "markdown",
   "id": "dddb9d06",
   "metadata": {},
   "source": [
    "### Leer datasets"
   ]
  },
  {
   "cell_type": "markdown",
   "id": "0379410b",
   "metadata": {},
   "source": [
    "**Trips**"
   ]
  },
  {
   "cell_type": "code",
   "execution_count": 3,
   "id": "89967f8b",
   "metadata": {},
   "outputs": [],
   "source": [
    "trips = pd.read_csv(\"trips.csv\")"
   ]
  },
  {
   "cell_type": "markdown",
   "id": "46223a58",
   "metadata": {},
   "source": [
    "**Drivers**\n",
    "\n",
    "*Leer dataset con el parametro delimiter=\";\"*"
   ]
  },
  {
   "cell_type": "code",
   "execution_count": 2,
   "id": "e9d6f2e5",
   "metadata": {},
   "outputs": [],
   "source": [
    "drivers = pd.read_csv(\"drivers.csv\",delimiter=\";\")"
   ]
  },
  {
   "cell_type": "markdown",
   "id": "4a79be8a",
   "metadata": {},
   "source": [
    "### 1. Sanity check de los datos."
   ]
  },
  {
   "cell_type": "markdown",
   "id": "1fbcd478",
   "metadata": {},
   "source": [
    "#### 1.1 Inspeccionar datasets con head()"
   ]
  },
  {
   "cell_type": "code",
   "execution_count": 4,
   "id": "e3b973dd",
   "metadata": {},
   "outputs": [
    {
     "data": {
      "text/html": [
       "<div>\n",
       "<style scoped>\n",
       "    .dataframe tbody tr th:only-of-type {\n",
       "        vertical-align: middle;\n",
       "    }\n",
       "\n",
       "    .dataframe tbody tr th {\n",
       "        vertical-align: top;\n",
       "    }\n",
       "\n",
       "    .dataframe thead th {\n",
       "        text-align: right;\n",
       "    }\n",
       "</style>\n",
       "<table border=\"1\" class=\"dataframe\">\n",
       "  <thead>\n",
       "    <tr style=\"text-align: right;\">\n",
       "      <th></th>\n",
       "      <th>Request id</th>\n",
       "      <th>Pickup point</th>\n",
       "      <th>Driver id</th>\n",
       "      <th>Status</th>\n",
       "      <th>Request timestamp</th>\n",
       "      <th>Drop timestamp</th>\n",
       "    </tr>\n",
       "  </thead>\n",
       "  <tbody>\n",
       "    <tr>\n",
       "      <th>0</th>\n",
       "      <td>619</td>\n",
       "      <td>Airport</td>\n",
       "      <td>1.0</td>\n",
       "      <td>Trip Completed</td>\n",
       "      <td>11/7/2016 11:51</td>\n",
       "      <td>11/7/2016 13:00</td>\n",
       "    </tr>\n",
       "    <tr>\n",
       "      <th>1</th>\n",
       "      <td>867</td>\n",
       "      <td>Airport</td>\n",
       "      <td>1.0</td>\n",
       "      <td>Trip Completed</td>\n",
       "      <td>11/7/2016 17:57</td>\n",
       "      <td>11/7/2016 18:47</td>\n",
       "    </tr>\n",
       "    <tr>\n",
       "      <th>2</th>\n",
       "      <td>1807</td>\n",
       "      <td>City</td>\n",
       "      <td>1.0</td>\n",
       "      <td>Trip Completed</td>\n",
       "      <td>12/7/2016 9:17</td>\n",
       "      <td>12/7/2016 9:58</td>\n",
       "    </tr>\n",
       "    <tr>\n",
       "      <th>3</th>\n",
       "      <td>2532</td>\n",
       "      <td>Airport</td>\n",
       "      <td>1.0</td>\n",
       "      <td>Trip Completed</td>\n",
       "      <td>12/7/2016 21:08</td>\n",
       "      <td>12/7/2016 22:03</td>\n",
       "    </tr>\n",
       "    <tr>\n",
       "      <th>4</th>\n",
       "      <td>3112</td>\n",
       "      <td>City</td>\n",
       "      <td>1.0</td>\n",
       "      <td>Trip Completed</td>\n",
       "      <td>13-07-2016 08:33:16</td>\n",
       "      <td>13-07-2016 09:25:47</td>\n",
       "    </tr>\n",
       "  </tbody>\n",
       "</table>\n",
       "</div>"
      ],
      "text/plain": [
       "   Request id Pickup point  Driver id          Status    Request timestamp  \\\n",
       "0         619      Airport        1.0  Trip Completed      11/7/2016 11:51   \n",
       "1         867      Airport        1.0  Trip Completed      11/7/2016 17:57   \n",
       "2        1807         City        1.0  Trip Completed       12/7/2016 9:17   \n",
       "3        2532      Airport        1.0  Trip Completed      12/7/2016 21:08   \n",
       "4        3112         City        1.0  Trip Completed  13-07-2016 08:33:16   \n",
       "\n",
       "        Drop timestamp  \n",
       "0      11/7/2016 13:00  \n",
       "1      11/7/2016 18:47  \n",
       "2       12/7/2016 9:58  \n",
       "3      12/7/2016 22:03  \n",
       "4  13-07-2016 09:25:47  "
      ]
     },
     "execution_count": 4,
     "metadata": {},
     "output_type": "execute_result"
    }
   ],
   "source": [
    "trips.head()"
   ]
  },
  {
   "cell_type": "code",
   "execution_count": 5,
   "id": "1c11f172",
   "metadata": {},
   "outputs": [
    {
     "data": {
      "text/html": [
       "<div>\n",
       "<style scoped>\n",
       "    .dataframe tbody tr th:only-of-type {\n",
       "        vertical-align: middle;\n",
       "    }\n",
       "\n",
       "    .dataframe tbody tr th {\n",
       "        vertical-align: top;\n",
       "    }\n",
       "\n",
       "    .dataframe thead th {\n",
       "        text-align: right;\n",
       "    }\n",
       "</style>\n",
       "<table border=\"1\" class=\"dataframe\">\n",
       "  <thead>\n",
       "    <tr style=\"text-align: right;\">\n",
       "      <th></th>\n",
       "      <th>Driver id</th>\n",
       "      <th>Name</th>\n",
       "      <th>Gender</th>\n",
       "    </tr>\n",
       "  </thead>\n",
       "  <tbody>\n",
       "    <tr>\n",
       "      <th>0</th>\n",
       "      <td>1,00</td>\n",
       "      <td>Nakita Atherton</td>\n",
       "      <td>F</td>\n",
       "    </tr>\n",
       "    <tr>\n",
       "      <th>1</th>\n",
       "      <td>2,00</td>\n",
       "      <td>Lynsey Clegg</td>\n",
       "      <td>F</td>\n",
       "    </tr>\n",
       "    <tr>\n",
       "      <th>2</th>\n",
       "      <td>3,00</td>\n",
       "      <td>Rohit Meyer</td>\n",
       "      <td>M</td>\n",
       "    </tr>\n",
       "    <tr>\n",
       "      <th>3</th>\n",
       "      <td>4,00</td>\n",
       "      <td>Gabriela Mathis</td>\n",
       "      <td>F</td>\n",
       "    </tr>\n",
       "    <tr>\n",
       "      <th>4</th>\n",
       "      <td>5,00</td>\n",
       "      <td>Tomas Sanford</td>\n",
       "      <td>M</td>\n",
       "    </tr>\n",
       "  </tbody>\n",
       "</table>\n",
       "</div>"
      ],
      "text/plain": [
       "  Driver id             Name Gender\n",
       "0     1,00   Nakita Atherton      F\n",
       "1     2,00      Lynsey Clegg      F\n",
       "2     3,00       Rohit Meyer      M\n",
       "3     4,00   Gabriela Mathis      F\n",
       "4     5,00     Tomas Sanford      M"
      ]
     },
     "execution_count": 5,
     "metadata": {},
     "output_type": "execute_result"
    }
   ],
   "source": [
    "drivers.head()"
   ]
  },
  {
   "cell_type": "markdown",
   "id": "f52bda7a",
   "metadata": {},
   "source": [
    "#### 1.2 Chequear shape de datasets\n",
    "\n",
    "Utilizar print statements avanzados para que quede un output del estilo:\n",
    "\n",
    "\"El dataset correspondiente a trips tiene la forma:    ; y el dataset drivers tiene la forma:    ...\""
   ]
  },
  {
   "cell_type": "code",
   "execution_count": 6,
   "id": "45def9bf",
   "metadata": {},
   "outputs": [
    {
     "name": "stdout",
     "output_type": "stream",
     "text": [
      "El dataset correspondiente a trips tiene la forma:(6745, 6); y el dataset drivers tiene la forma:(300, 3)\n"
     ]
    }
   ],
   "source": [
    "a = trips.shape\n",
    "b = drivers.shape\n",
    "print(\"El dataset correspondiente a trips tiene la forma:{}; y el dataset drivers tiene la forma:{}\".format(a,b))"
   ]
  },
  {
   "cell_type": "markdown",
   "id": "bd033e17",
   "metadata": {},
   "source": [
    "#### 1.3 Inspeccionar columnas y dtypes.\n",
    "\n",
    "Imprimir columnas de cada dataset."
   ]
  },
  {
   "cell_type": "code",
   "execution_count": 8,
   "id": "87ec4cb9",
   "metadata": {},
   "outputs": [
    {
     "data": {
      "text/plain": [
       "Index(['Request id', 'Pickup point', 'Driver id', 'Status',\n",
       "       'Request timestamp', 'Drop timestamp'],\n",
       "      dtype='object')"
      ]
     },
     "execution_count": 8,
     "metadata": {},
     "output_type": "execute_result"
    }
   ],
   "source": [
    "trips.columns"
   ]
  },
  {
   "cell_type": "code",
   "execution_count": 9,
   "id": "a2e003ee",
   "metadata": {},
   "outputs": [
    {
     "data": {
      "text/plain": [
       "Index(['Driver id', 'Name', 'Gender'], dtype='object')"
      ]
     },
     "execution_count": 9,
     "metadata": {},
     "output_type": "execute_result"
    }
   ],
   "source": [
    "drivers.columns"
   ]
  },
  {
   "cell_type": "markdown",
   "id": "4a99fa05",
   "metadata": {},
   "source": [
    "### 2. Joinear ambas bases para continuar con el chequeo de valores nulos. \n",
    "\n",
    "Utilizar la funcion merge de pandas y llamar al nuevo dataframe df_final. La idea es usar el dataframe trips como table madre, y traer la información de los drivers del dataframe de conduntores/as.\n",
    "\n",
    "**No debemos perder datos de la tabla de trips.**\n",
    "\n",
    "**Pista:** Las variables para joinear, son del mismo dtype? En caso que no lo sean, conviertan la columna en el mismo dtype que el dataset madre para que funcione el merge. "
   ]
  },
  {
   "cell_type": "markdown",
   "id": "2ce4d93e",
   "metadata": {},
   "source": [
    "**2.1 Modificar la columna Driver id del dataset de drivers a float**\n",
    "\n",
    "Vemos que en la columna Driver id del dataset de drivers, tenemos una \",\", la cual no nos va a permitir convertir el string a float.\n",
    "\n",
    "1. Cambiar la coma por . utilizando .replace() sobre la columna Driver id\n",
    "2. Modificar el dtype de la columna y pasarlo a float."
   ]
  },
  {
   "cell_type": "code",
   "execution_count": 11,
   "id": "78ca12e8",
   "metadata": {},
   "outputs": [],
   "source": [
    "drivers[\"Driver id\"] = drivers[\"Driver id\"].str.replace(',','.')"
   ]
  },
  {
   "cell_type": "code",
   "execution_count": 12,
   "id": "564660de",
   "metadata": {},
   "outputs": [
    {
     "data": {
      "text/plain": [
       "Driver id    float64\n",
       "Name          object\n",
       "Gender        object\n",
       "dtype: object"
      ]
     },
     "execution_count": 12,
     "metadata": {},
     "output_type": "execute_result"
    }
   ],
   "source": [
    "drivers[\"Driver id\"] = drivers[\"Driver id\"].astype(float)\n",
    "drivers.dtypes # chequeamos que nos haya cambiado dtype"
   ]
  },
  {
   "cell_type": "markdown",
   "id": "70dd7d6e",
   "metadata": {},
   "source": [
    "**2.2 Joinear datasets y obtener el df_final**"
   ]
  },
  {
   "cell_type": "code",
   "execution_count": 13,
   "id": "02229be1",
   "metadata": {},
   "outputs": [
    {
     "data": {
      "text/html": [
       "<div>\n",
       "<style scoped>\n",
       "    .dataframe tbody tr th:only-of-type {\n",
       "        vertical-align: middle;\n",
       "    }\n",
       "\n",
       "    .dataframe tbody tr th {\n",
       "        vertical-align: top;\n",
       "    }\n",
       "\n",
       "    .dataframe thead th {\n",
       "        text-align: right;\n",
       "    }\n",
       "</style>\n",
       "<table border=\"1\" class=\"dataframe\">\n",
       "  <thead>\n",
       "    <tr style=\"text-align: right;\">\n",
       "      <th></th>\n",
       "      <th>Request id</th>\n",
       "      <th>Pickup point</th>\n",
       "      <th>Driver id</th>\n",
       "      <th>Status</th>\n",
       "      <th>Request timestamp</th>\n",
       "      <th>Drop timestamp</th>\n",
       "      <th>Name</th>\n",
       "      <th>Gender</th>\n",
       "    </tr>\n",
       "  </thead>\n",
       "  <tbody>\n",
       "    <tr>\n",
       "      <th>0</th>\n",
       "      <td>619</td>\n",
       "      <td>Airport</td>\n",
       "      <td>1.0</td>\n",
       "      <td>Trip Completed</td>\n",
       "      <td>11/7/2016 11:51</td>\n",
       "      <td>11/7/2016 13:00</td>\n",
       "      <td>Nakita Atherton</td>\n",
       "      <td>F</td>\n",
       "    </tr>\n",
       "    <tr>\n",
       "      <th>1</th>\n",
       "      <td>867</td>\n",
       "      <td>Airport</td>\n",
       "      <td>1.0</td>\n",
       "      <td>Trip Completed</td>\n",
       "      <td>11/7/2016 17:57</td>\n",
       "      <td>11/7/2016 18:47</td>\n",
       "      <td>Nakita Atherton</td>\n",
       "      <td>F</td>\n",
       "    </tr>\n",
       "    <tr>\n",
       "      <th>2</th>\n",
       "      <td>1807</td>\n",
       "      <td>City</td>\n",
       "      <td>1.0</td>\n",
       "      <td>Trip Completed</td>\n",
       "      <td>12/7/2016 9:17</td>\n",
       "      <td>12/7/2016 9:58</td>\n",
       "      <td>Nakita Atherton</td>\n",
       "      <td>F</td>\n",
       "    </tr>\n",
       "    <tr>\n",
       "      <th>3</th>\n",
       "      <td>2532</td>\n",
       "      <td>Airport</td>\n",
       "      <td>1.0</td>\n",
       "      <td>Trip Completed</td>\n",
       "      <td>12/7/2016 21:08</td>\n",
       "      <td>12/7/2016 22:03</td>\n",
       "      <td>Nakita Atherton</td>\n",
       "      <td>F</td>\n",
       "    </tr>\n",
       "    <tr>\n",
       "      <th>4</th>\n",
       "      <td>3112</td>\n",
       "      <td>City</td>\n",
       "      <td>1.0</td>\n",
       "      <td>Trip Completed</td>\n",
       "      <td>13-07-2016 08:33:16</td>\n",
       "      <td>13-07-2016 09:25:47</td>\n",
       "      <td>Nakita Atherton</td>\n",
       "      <td>F</td>\n",
       "    </tr>\n",
       "    <tr>\n",
       "      <th>...</th>\n",
       "      <td>...</td>\n",
       "      <td>...</td>\n",
       "      <td>...</td>\n",
       "      <td>...</td>\n",
       "      <td>...</td>\n",
       "      <td>...</td>\n",
       "      <td>...</td>\n",
       "      <td>...</td>\n",
       "    </tr>\n",
       "    <tr>\n",
       "      <th>6740</th>\n",
       "      <td>6745</td>\n",
       "      <td>City</td>\n",
       "      <td>NaN</td>\n",
       "      <td>No Cars Available</td>\n",
       "      <td>15-07-2016 23:49:03</td>\n",
       "      <td>NaN</td>\n",
       "      <td>NaN</td>\n",
       "      <td>NaN</td>\n",
       "    </tr>\n",
       "    <tr>\n",
       "      <th>6741</th>\n",
       "      <td>6752</td>\n",
       "      <td>Airport</td>\n",
       "      <td>NaN</td>\n",
       "      <td>No Cars Available</td>\n",
       "      <td>15-07-2016 23:50:05</td>\n",
       "      <td>NaN</td>\n",
       "      <td>NaN</td>\n",
       "      <td>NaN</td>\n",
       "    </tr>\n",
       "    <tr>\n",
       "      <th>6742</th>\n",
       "      <td>6751</td>\n",
       "      <td>City</td>\n",
       "      <td>NaN</td>\n",
       "      <td>No Cars Available</td>\n",
       "      <td>15-07-2016 23:52:06</td>\n",
       "      <td>NaN</td>\n",
       "      <td>NaN</td>\n",
       "      <td>NaN</td>\n",
       "    </tr>\n",
       "    <tr>\n",
       "      <th>6743</th>\n",
       "      <td>6754</td>\n",
       "      <td>City</td>\n",
       "      <td>NaN</td>\n",
       "      <td>No Cars Available</td>\n",
       "      <td>15-07-2016 23:54:39</td>\n",
       "      <td>NaN</td>\n",
       "      <td>NaN</td>\n",
       "      <td>NaN</td>\n",
       "    </tr>\n",
       "    <tr>\n",
       "      <th>6744</th>\n",
       "      <td>6753</td>\n",
       "      <td>Airport</td>\n",
       "      <td>NaN</td>\n",
       "      <td>No Cars Available</td>\n",
       "      <td>15-07-2016 23:55:03</td>\n",
       "      <td>NaN</td>\n",
       "      <td>NaN</td>\n",
       "      <td>NaN</td>\n",
       "    </tr>\n",
       "  </tbody>\n",
       "</table>\n",
       "<p>6745 rows × 8 columns</p>\n",
       "</div>"
      ],
      "text/plain": [
       "      Request id Pickup point  Driver id             Status  \\\n",
       "0            619      Airport        1.0     Trip Completed   \n",
       "1            867      Airport        1.0     Trip Completed   \n",
       "2           1807         City        1.0     Trip Completed   \n",
       "3           2532      Airport        1.0     Trip Completed   \n",
       "4           3112         City        1.0     Trip Completed   \n",
       "...          ...          ...        ...                ...   \n",
       "6740        6745         City        NaN  No Cars Available   \n",
       "6741        6752      Airport        NaN  No Cars Available   \n",
       "6742        6751         City        NaN  No Cars Available   \n",
       "6743        6754         City        NaN  No Cars Available   \n",
       "6744        6753      Airport        NaN  No Cars Available   \n",
       "\n",
       "        Request timestamp       Drop timestamp             Name Gender  \n",
       "0         11/7/2016 11:51      11/7/2016 13:00  Nakita Atherton      F  \n",
       "1         11/7/2016 17:57      11/7/2016 18:47  Nakita Atherton      F  \n",
       "2          12/7/2016 9:17       12/7/2016 9:58  Nakita Atherton      F  \n",
       "3         12/7/2016 21:08      12/7/2016 22:03  Nakita Atherton      F  \n",
       "4     13-07-2016 08:33:16  13-07-2016 09:25:47  Nakita Atherton      F  \n",
       "...                   ...                  ...              ...    ...  \n",
       "6740  15-07-2016 23:49:03                  NaN              NaN    NaN  \n",
       "6741  15-07-2016 23:50:05                  NaN              NaN    NaN  \n",
       "6742  15-07-2016 23:52:06                  NaN              NaN    NaN  \n",
       "6743  15-07-2016 23:54:39                  NaN              NaN    NaN  \n",
       "6744  15-07-2016 23:55:03                  NaN              NaN    NaN  \n",
       "\n",
       "[6745 rows x 8 columns]"
      ]
     },
     "execution_count": 13,
     "metadata": {},
     "output_type": "execute_result"
    }
   ],
   "source": [
    "df_final = trips.merge(drivers, on=\"Driver id\", how=\"outer\") # realizamos outer join para no perder datos de trips\n",
    "df_final"
   ]
  },
  {
   "cell_type": "markdown",
   "id": "2afe3bbf",
   "metadata": {},
   "source": [
    "**2.3 Chequear shape del dataset madre y el dataset nuevo**\n",
    "\n",
    "Debemos tener la misma cantidad de filas para asegurarnos que el merge se hizo correctamente."
   ]
  },
  {
   "cell_type": "code",
   "execution_count": 69,
   "id": "6b1d8278",
   "metadata": {},
   "outputs": [
    {
     "name": "stdout",
     "output_type": "stream",
     "text": [
      "(6745, 6) (6745, 16)\n"
     ]
    }
   ],
   "source": [
    "print(trips.shape, df_final.shape)"
   ]
  },
  {
   "cell_type": "markdown",
   "id": "b2c0fde9",
   "metadata": {},
   "source": [
    "### 3. Analizar valores nulos del dataset mergeado."
   ]
  },
  {
   "cell_type": "code",
   "execution_count": 14,
   "id": "4a687c91",
   "metadata": {},
   "outputs": [
    {
     "data": {
      "text/plain": [
       "Request id              0\n",
       "Pickup point            0\n",
       "Driver id            2650\n",
       "Status                  0\n",
       "Request timestamp       0\n",
       "Drop timestamp       3914\n",
       "Name                 2650\n",
       "Gender               2650\n",
       "dtype: int64"
      ]
     },
     "execution_count": 14,
     "metadata": {},
     "output_type": "execute_result"
    }
   ],
   "source": [
    "df_final.isna().sum() # Observamos la cantidad de NaN en cada columna"
   ]
  },
  {
   "cell_type": "code",
   "execution_count": 15,
   "id": "f04849ed",
   "metadata": {},
   "outputs": [
    {
     "data": {
      "text/plain": [
       "Trip Completed       2831\n",
       "No Cars Available    2650\n",
       "Cancelled            1264\n",
       "Name: Status, dtype: int64"
      ]
     },
     "execution_count": 15,
     "metadata": {},
     "output_type": "execute_result"
    }
   ],
   "source": [
    "df_final[\"Status\"].value_counts() # Analizamos relación entre los NaN y el status del viaje"
   ]
  },
  {
   "cell_type": "code",
   "execution_count": 25,
   "id": "9724450f",
   "metadata": {},
   "outputs": [
    {
     "data": {
      "text/html": [
       "<div>\n",
       "<style scoped>\n",
       "    .dataframe tbody tr th:only-of-type {\n",
       "        vertical-align: middle;\n",
       "    }\n",
       "\n",
       "    .dataframe tbody tr th {\n",
       "        vertical-align: top;\n",
       "    }\n",
       "\n",
       "    .dataframe thead th {\n",
       "        text-align: right;\n",
       "    }\n",
       "</style>\n",
       "<table border=\"1\" class=\"dataframe\">\n",
       "  <thead>\n",
       "    <tr style=\"text-align: right;\">\n",
       "      <th></th>\n",
       "      <th>Request id</th>\n",
       "      <th>Pickup point</th>\n",
       "      <th>Driver id</th>\n",
       "      <th>Status</th>\n",
       "      <th>Request timestamp</th>\n",
       "      <th>Drop timestamp</th>\n",
       "      <th>Name</th>\n",
       "      <th>Gender</th>\n",
       "    </tr>\n",
       "  </thead>\n",
       "  <tbody>\n",
       "    <tr>\n",
       "      <th>4095</th>\n",
       "      <td>1362</td>\n",
       "      <td>City</td>\n",
       "      <td>NaN</td>\n",
       "      <td>No Cars Available</td>\n",
       "      <td>11/7/2016 0:02</td>\n",
       "      <td>NaN</td>\n",
       "      <td>NaN</td>\n",
       "      <td>NaN</td>\n",
       "    </tr>\n",
       "    <tr>\n",
       "      <th>4096</th>\n",
       "      <td>1364</td>\n",
       "      <td>City</td>\n",
       "      <td>NaN</td>\n",
       "      <td>No Cars Available</td>\n",
       "      <td>11/7/2016 0:06</td>\n",
       "      <td>NaN</td>\n",
       "      <td>NaN</td>\n",
       "      <td>NaN</td>\n",
       "    </tr>\n",
       "    <tr>\n",
       "      <th>4097</th>\n",
       "      <td>1366</td>\n",
       "      <td>City</td>\n",
       "      <td>NaN</td>\n",
       "      <td>No Cars Available</td>\n",
       "      <td>11/7/2016 0:09</td>\n",
       "      <td>NaN</td>\n",
       "      <td>NaN</td>\n",
       "      <td>NaN</td>\n",
       "    </tr>\n",
       "    <tr>\n",
       "      <th>4098</th>\n",
       "      <td>2</td>\n",
       "      <td>Airport</td>\n",
       "      <td>NaN</td>\n",
       "      <td>No Cars Available</td>\n",
       "      <td>11/7/2016 0:23</td>\n",
       "      <td>NaN</td>\n",
       "      <td>NaN</td>\n",
       "      <td>NaN</td>\n",
       "    </tr>\n",
       "    <tr>\n",
       "      <th>4099</th>\n",
       "      <td>7</td>\n",
       "      <td>Airport</td>\n",
       "      <td>NaN</td>\n",
       "      <td>No Cars Available</td>\n",
       "      <td>11/7/2016 0:30</td>\n",
       "      <td>NaN</td>\n",
       "      <td>NaN</td>\n",
       "      <td>NaN</td>\n",
       "    </tr>\n",
       "    <tr>\n",
       "      <th>...</th>\n",
       "      <td>...</td>\n",
       "      <td>...</td>\n",
       "      <td>...</td>\n",
       "      <td>...</td>\n",
       "      <td>...</td>\n",
       "      <td>...</td>\n",
       "      <td>...</td>\n",
       "      <td>...</td>\n",
       "    </tr>\n",
       "    <tr>\n",
       "      <th>6740</th>\n",
       "      <td>6745</td>\n",
       "      <td>City</td>\n",
       "      <td>NaN</td>\n",
       "      <td>No Cars Available</td>\n",
       "      <td>15-07-2016 23:49:03</td>\n",
       "      <td>NaN</td>\n",
       "      <td>NaN</td>\n",
       "      <td>NaN</td>\n",
       "    </tr>\n",
       "    <tr>\n",
       "      <th>6741</th>\n",
       "      <td>6752</td>\n",
       "      <td>Airport</td>\n",
       "      <td>NaN</td>\n",
       "      <td>No Cars Available</td>\n",
       "      <td>15-07-2016 23:50:05</td>\n",
       "      <td>NaN</td>\n",
       "      <td>NaN</td>\n",
       "      <td>NaN</td>\n",
       "    </tr>\n",
       "    <tr>\n",
       "      <th>6742</th>\n",
       "      <td>6751</td>\n",
       "      <td>City</td>\n",
       "      <td>NaN</td>\n",
       "      <td>No Cars Available</td>\n",
       "      <td>15-07-2016 23:52:06</td>\n",
       "      <td>NaN</td>\n",
       "      <td>NaN</td>\n",
       "      <td>NaN</td>\n",
       "    </tr>\n",
       "    <tr>\n",
       "      <th>6743</th>\n",
       "      <td>6754</td>\n",
       "      <td>City</td>\n",
       "      <td>NaN</td>\n",
       "      <td>No Cars Available</td>\n",
       "      <td>15-07-2016 23:54:39</td>\n",
       "      <td>NaN</td>\n",
       "      <td>NaN</td>\n",
       "      <td>NaN</td>\n",
       "    </tr>\n",
       "    <tr>\n",
       "      <th>6744</th>\n",
       "      <td>6753</td>\n",
       "      <td>Airport</td>\n",
       "      <td>NaN</td>\n",
       "      <td>No Cars Available</td>\n",
       "      <td>15-07-2016 23:55:03</td>\n",
       "      <td>NaN</td>\n",
       "      <td>NaN</td>\n",
       "      <td>NaN</td>\n",
       "    </tr>\n",
       "  </tbody>\n",
       "</table>\n",
       "<p>2650 rows × 8 columns</p>\n",
       "</div>"
      ],
      "text/plain": [
       "      Request id Pickup point  Driver id             Status  \\\n",
       "4095        1362         City        NaN  No Cars Available   \n",
       "4096        1364         City        NaN  No Cars Available   \n",
       "4097        1366         City        NaN  No Cars Available   \n",
       "4098           2      Airport        NaN  No Cars Available   \n",
       "4099           7      Airport        NaN  No Cars Available   \n",
       "...          ...          ...        ...                ...   \n",
       "6740        6745         City        NaN  No Cars Available   \n",
       "6741        6752      Airport        NaN  No Cars Available   \n",
       "6742        6751         City        NaN  No Cars Available   \n",
       "6743        6754         City        NaN  No Cars Available   \n",
       "6744        6753      Airport        NaN  No Cars Available   \n",
       "\n",
       "        Request timestamp Drop timestamp Name Gender  \n",
       "4095       11/7/2016 0:02            NaN  NaN    NaN  \n",
       "4096       11/7/2016 0:06            NaN  NaN    NaN  \n",
       "4097       11/7/2016 0:09            NaN  NaN    NaN  \n",
       "4098       11/7/2016 0:23            NaN  NaN    NaN  \n",
       "4099       11/7/2016 0:30            NaN  NaN    NaN  \n",
       "...                   ...            ...  ...    ...  \n",
       "6740  15-07-2016 23:49:03            NaN  NaN    NaN  \n",
       "6741  15-07-2016 23:50:05            NaN  NaN    NaN  \n",
       "6742  15-07-2016 23:52:06            NaN  NaN    NaN  \n",
       "6743  15-07-2016 23:54:39            NaN  NaN    NaN  \n",
       "6744  15-07-2016 23:55:03            NaN  NaN    NaN  \n",
       "\n",
       "[2650 rows x 8 columns]"
      ]
     },
     "execution_count": 25,
     "metadata": {},
     "output_type": "execute_result"
    }
   ],
   "source": [
    "df_test = df_final.loc[df_final[\"Status\"] == \"No Cars Available\"] # Armamos un nuevo df con los viajes \"No Cars available\"\n",
    "df_test"
   ]
  },
  {
   "cell_type": "code",
   "execution_count": 16,
   "id": "49083df5",
   "metadata": {},
   "outputs": [
    {
     "data": {
      "text/plain": [
       "2650"
      ]
     },
     "execution_count": 16,
     "metadata": {},
     "output_type": "execute_result"
    }
   ],
   "source": [
    "df_test[\"Driver id\"].isna().sum() # coincide con la cantidad total de NaN en el df mergeado"
   ]
  },
  {
   "cell_type": "code",
   "execution_count": 26,
   "id": "d88fbb6d",
   "metadata": {},
   "outputs": [],
   "source": [
    "# Si el status es \"No Cars Available\", tenemos NaN en Driver id y por ende en Name y Gender\n",
    "# Si el status es \"Cancelado\" o \"No Cars Available\", el viaje no se concretó y tenemos NaN en Drop time"
   ]
  },
  {
   "cell_type": "markdown",
   "id": "400d7a90",
   "metadata": {},
   "source": [
    "### 4. Analizar valores unicos para las distintas variables"
   ]
  },
  {
   "cell_type": "markdown",
   "id": "033c01fa",
   "metadata": {},
   "source": [
    "**4.1 Variables categoricas**\n",
    "\n",
    "- Realizar este procedimiento solo para las columnas Pickup point y Status. Usar print avanzado con .format()."
   ]
  },
  {
   "cell_type": "code",
   "execution_count": 16,
   "id": "945ac7dd",
   "metadata": {
    "scrolled": true
   },
   "outputs": [
    {
     "data": {
      "text/plain": [
       "array(['Airport', 'City'], dtype=object)"
      ]
     },
     "execution_count": 16,
     "metadata": {},
     "output_type": "execute_result"
    }
   ],
   "source": [
    "df_final[\"Pickup point\"].unique() #buscamos la cantidad de variables categóricas"
   ]
  },
  {
   "cell_type": "code",
   "execution_count": 17,
   "id": "cca55026",
   "metadata": {},
   "outputs": [
    {
     "name": "stdout",
     "output_type": "stream",
     "text": [
      "La cantidad de viajes solicitados desde City es 3507 y desde Airport, 3238\n"
     ]
    }
   ],
   "source": [
    "a = df_final[\"Pickup point\"].value_counts().City\n",
    "b = df_final[\"Pickup point\"].value_counts().Airport\n",
    "print(\"La cantidad de viajes solicitados desde City es {} y desde Airport, {}\".format(a,b))"
   ]
  },
  {
   "cell_type": "code",
   "execution_count": 18,
   "id": "7732c702",
   "metadata": {},
   "outputs": [
    {
     "data": {
      "text/plain": [
       "array(['Trip Completed', 'Cancelled', 'No Cars Available'], dtype=object)"
      ]
     },
     "execution_count": 18,
     "metadata": {},
     "output_type": "execute_result"
    }
   ],
   "source": [
    "df_final[\"Status\"].unique() #buscamos la cantidad de variables categóricas"
   ]
  },
  {
   "cell_type": "code",
   "execution_count": 19,
   "id": "d8a6af97",
   "metadata": {},
   "outputs": [
    {
     "name": "stdout",
     "output_type": "stream",
     "text": [
      "La cantidad de cancelados es 1264, la de no realizados por no haber autos disponibles 2650 y la de completados 2831\n"
     ]
    }
   ],
   "source": [
    "c = df_final[df_final['Status'] == \"No Cars Available\"].count()['Status']\n",
    "d = df_final[df_final['Status'] == \"Cancelled\"].count()['Status']\n",
    "e = df_final[df_final['Status'] == \"Trip Completed\"].count()['Status']\n",
    "print(\"La cantidad de cancelados es {}, la de no realizados por no haber autos disponibles {} y la de completados {}\".format(d,c,e))"
   ]
  },
  {
   "cell_type": "markdown",
   "id": "7599a030",
   "metadata": {},
   "source": [
    "### 5. Feature engineering"
   ]
  },
  {
   "cell_type": "markdown",
   "id": "a7d42bdd",
   "metadata": {},
   "source": [
    "#### 5.1 Corregir las columnas request timestamp y drop timestamp.\n",
    "\n",
    "*Observemos que en request timestamp, tenemos algunas fechas separadas con \"/\" y otras separadas con \"-\". \n",
    "Estandarizemos dicho problema y dejemos solo \"/\" tanto para las columnas request timestamp y drop timestamp."
   ]
  },
  {
   "cell_type": "code",
   "execution_count": 20,
   "id": "e1d800a2",
   "metadata": {},
   "outputs": [],
   "source": [
    "df_final[\"Request timestamp\"] = df_final[\"Request timestamp\"].str.replace('-','/')\n",
    "df_final[\"Drop timestamp\"] = df_final[\"Drop timestamp\"].str.replace('-','/')"
   ]
  },
  {
   "cell_type": "markdown",
   "id": "4b79ea09",
   "metadata": {},
   "source": [
    "**5.2 Convertir las columnas request timestamp y drop timestamp en formato datetime**"
   ]
  },
  {
   "cell_type": "code",
   "execution_count": 21,
   "id": "1df01b79",
   "metadata": {},
   "outputs": [],
   "source": [
    "df_final[\"Request timestamp\"] = pd.to_datetime(df_final[\"Request timestamp\"])"
   ]
  },
  {
   "cell_type": "code",
   "execution_count": 25,
   "id": "d5444b5e",
   "metadata": {
    "scrolled": true
   },
   "outputs": [
    {
     "data": {
      "text/plain": [
       "Request id                    int64\n",
       "Pickup point                 object\n",
       "Driver id                   float64\n",
       "Status                       object\n",
       "Request timestamp    datetime64[ns]\n",
       "Drop timestamp       datetime64[ns]\n",
       "Name                         object\n",
       "Gender                       object\n",
       "dtype: object"
      ]
     },
     "execution_count": 25,
     "metadata": {},
     "output_type": "execute_result"
    }
   ],
   "source": [
    "df_final[\"Drop timestamp\"] = pd.to_datetime(df_final[\"Drop timestamp\"])"
   ]
  },
  {
   "cell_type": "markdown",
   "id": "2dd7454b",
   "metadata": {},
   "source": [
    "**5.3 Crear las columnas year, month y hour para cada columna datetime**\n",
    "\n",
    "La idea es tener una columna que sea \"request_**col**\" y \"drop_**col**\"; siendo **col**: {year, month, hour}."
   ]
  },
  {
   "cell_type": "markdown",
   "id": "6b4ab587",
   "metadata": {},
   "source": [
    "**Year**"
   ]
  },
  {
   "cell_type": "code",
   "execution_count": 31,
   "id": "4c0acf1d",
   "metadata": {},
   "outputs": [],
   "source": [
    "df_final[\"request_year\"] = df_final[\"Request timestamp\"].dt.year\n",
    "df_final[\"drop_year\"] = df_final[\"Drop timestamp\"].dt.year #nos queda drop_year como float64 por los NaN"
   ]
  },
  {
   "cell_type": "markdown",
   "id": "445fc851",
   "metadata": {},
   "source": [
    "**Month** "
   ]
  },
  {
   "cell_type": "code",
   "execution_count": 32,
   "id": "4e207420",
   "metadata": {},
   "outputs": [],
   "source": [
    "df_final[\"request_month\"] = df_final[\"Request timestamp\"].dt.month\n",
    "df_final[\"drop_month\"] = df_final[\"Drop timestamp\"].dt.month #nos queda drop_month como float64 por los NaN"
   ]
  },
  {
   "cell_type": "markdown",
   "id": "52eeea41",
   "metadata": {},
   "source": [
    "**Hour**"
   ]
  },
  {
   "cell_type": "code",
   "execution_count": 36,
   "id": "f0002f29",
   "metadata": {
    "scrolled": true
   },
   "outputs": [
    {
     "data": {
      "text/plain": [
       "Request id                    int64\n",
       "Pickup point                 object\n",
       "Driver id                   float64\n",
       "Status                       object\n",
       "Request timestamp    datetime64[ns]\n",
       "Drop timestamp       datetime64[ns]\n",
       "Name                         object\n",
       "Gender                       object\n",
       "request_year                  int64\n",
       "drop_year                   float64\n",
       "request_month                 int64\n",
       "drop_month                  float64\n",
       "request_hour                  int64\n",
       "drop_hour                   float64\n",
       "dtype: object"
      ]
     },
     "execution_count": 36,
     "metadata": {},
     "output_type": "execute_result"
    }
   ],
   "source": [
    "df_final[\"request_hour\"] = df_final[\"Request timestamp\"].dt.hour\n",
    "df_final[\"drop_hour\"] = df_final[\"Drop timestamp\"].dt.hour #nos queda drop_hour como float64 por los NaN"
   ]
  },
  {
   "cell_type": "markdown",
   "id": "4e463194",
   "metadata": {},
   "source": [
    "### 6. Duración de los viajes.\n",
    "\n",
    "Chequear la duración de los viajes calculando la diferencia entre las columnas request_timestamp_corrected y drop_timestamp_corrected.\n",
    "\n",
    "Lastly what I will do is check if the duration of the trips are coherent or not. By coherent I mean that we have some \"NORMAL\" duration of trips. If I found some trip that lasted more than 8 hs or it's negative, it should be considered an outlier or maybe an error of the data. That is the purpose of this task.\n",
    "\n",
    "The duration will be calculated in mins and using the columns request_timestamp_corrected and drop_timestamp_corrected.\n",
    "\n",
    "**Ayuda:** Para obtenerlo en minutos, debemos usar la siguiente sintaxis. \n",
    "\n",
    "```df_final[\"trip_duration_mins\"] = (df_final[\"drop_timestamp_corrected\"] - df_final[\"request_timestamp_corrected\"]).astype('timedelta64[m]').astype(\"float\")```\n"
   ]
  },
  {
   "cell_type": "markdown",
   "id": "07da80bc",
   "metadata": {},
   "source": [
    "**6.1 Crear la columna \"trip_duration_mins\" con lo comentado arriba**."
   ]
  },
  {
   "cell_type": "code",
   "execution_count": 70,
   "id": "f73235b0",
   "metadata": {
    "scrolled": false
   },
   "outputs": [],
   "source": [
    "df_final[\"trip_duration_mins\"] = (df_final[\"Drop timestamp\"] - df_final[\"Request timestamp\"]).astype('timedelta64[m]').astype(\"float\")\n",
    "df_final_1 = df_final.copy()\n",
    "df_final_1 = df_final_1.loc[(df_final[\"trip_duration_mins\"] < 480) & \n",
    "                        (df_final[\"trip_duration_mins\"] > 0)]\n",
    "#filtramos según especificado en el comentario en inglés"
   ]
  },
  {
   "cell_type": "markdown",
   "id": "cacf9425",
   "metadata": {},
   "source": [
    "**6.2 Realizar un sanity check sobre las duraciones**\n",
    "\n",
    "- Chequear distirbucin utilizando .describe()\n",
    "- Plotear un boxplot y un histograma.\n",
    "\n",
    "**Tener en cuenta de realizar el describe solo para la columna trip_duration_mins, donde esa columna NO es nula**"
   ]
  },
  {
   "cell_type": "markdown",
   "id": "4fc780f5",
   "metadata": {},
   "source": [
    "**Describe()**"
   ]
  },
  {
   "cell_type": "code",
   "execution_count": 40,
   "id": "27d5be13",
   "metadata": {
    "scrolled": true
   },
   "outputs": [
    {
     "data": {
      "text/plain": [
       "count    2799.000000\n",
       "mean       52.083244\n",
       "std        13.854957\n",
       "min        20.000000\n",
       "25%        41.000000\n",
       "50%        52.000000\n",
       "75%        64.000000\n",
       "max        83.000000\n",
       "Name: trip_duration_mins, dtype: float64"
      ]
     },
     "execution_count": 40,
     "metadata": {},
     "output_type": "execute_result"
    }
   ],
   "source": [
    "df_final_1[\"trip_duration_mins\"].describe()"
   ]
  },
  {
   "cell_type": "markdown",
   "id": "787c84b9",
   "metadata": {},
   "source": [
    "**Boxplot**"
   ]
  },
  {
   "cell_type": "code",
   "execution_count": 116,
   "id": "06e5c00f",
   "metadata": {
    "scrolled": true
   },
   "outputs": [
    {
     "data": {
      "text/plain": [
       "Text(0, 0.5, 'Tiempo')"
      ]
     },
     "execution_count": 116,
     "metadata": {},
     "output_type": "execute_result"
    },
    {
     "data": {
      "image/png": "[encoded data removed]",
      "text/plain": [
       "<Figure size 432x288 with 1 Axes>"
      ]
     },
     "metadata": {
      "needs_background": "light"
     },
     "output_type": "display_data"
    }
   ],
   "source": [
    "bp = df_final_1.boxplot(column=\"trip_duration_mins\",color=(\"violet\"))\n",
    "bp.set_title(\"Distribución de los viajes\", fontdict={\"fontsize\":15})\n",
    "bp.set_ylabel(\"Tiempo\", fontdict={\"fontsize\":12})"
   ]
  },
  {
   "cell_type": "markdown",
   "id": "0ac15725",
   "metadata": {},
   "source": [
    "**Histograma**"
   ]
  },
  {
   "cell_type": "code",
   "execution_count": 117,
   "id": "78313e23",
   "metadata": {
    "scrolled": true
   },
   "outputs": [
    {
     "data": {
      "text/plain": [
       "Text(0, 0.5, 'Cantidad de viajes')"
      ]
     },
     "execution_count": 117,
     "metadata": {},
     "output_type": "execute_result"
    },
    {
     "data": {
      "image/png": "[encoded data removed]",
      "text/plain": [
       "<Figure size 432x288 with 1 Axes>"
      ]
     },
     "metadata": {
      "needs_background": "light"
     },
     "output_type": "display_data"
    }
   ],
   "source": [
    "hist = df_final_1.hist(column=\"trip_duration_mins\",color=(\"green\"))\n",
    "plt.title(\"Histograma\", fontdict={\"fontsize\":15})\n",
    "plt.xlabel(\"Duración\", fontdict={\"fontsize\":12})\n",
    "plt.ylabel(\"Cantidad de viajes\", fontdict={\"fontsize\":12})"
   ]
  },
  {
   "cell_type": "markdown",
   "id": "52e16f7b",
   "metadata": {},
   "source": [
    "Se ve raro no? Si observamos el describe y el histograma, vemos que tenemos valores concentrados cercanos entre 0 y 100 aproximadamente, y algunos valores extraños (outliers)."
   ]
  },
  {
   "cell_type": "markdown",
   "id": "1c45f97e",
   "metadata": {},
   "source": [
    "**6.3 Topear la columna trip_duration_mins**\n",
    "\n",
    "Aquellos valores mayores a 83 en la columna trip_duration_mins deben ser topeados en 83; y aquellos valores menores a 5 minutos, deben ser topeados en 5.\n",
    "\n",
    "**Nota:** El motivo real por el que sucede esto es porque algunas entradas de datos estan erroneas. El problema es que hay ciertos registros de fecha que estan al revés, en donde el mes esta como el día y viceversa. La solución de este problema no será requerida en este trabajo, pero en caso que esten interesados en ver cómo solucionamos este tema, nos pueden escribir y les enviamos la solución. **Por el momento, solo topeen los valores como se menciona en la consigna**."
   ]
  },
  {
   "cell_type": "code",
   "execution_count": 30,
   "id": "96959bde",
   "metadata": {},
   "outputs": [],
   "source": [
    "# Nota: los outliers ya fueron eliminados en 6.1, al haber tenido en cuenta el comentario en inglés"
   ]
  },
  {
   "cell_type": "markdown",
   "id": "1db2423e",
   "metadata": {},
   "source": [
    "Chequear nuevamente la distribución graficando el boxplot."
   ]
  },
  {
   "cell_type": "code",
   "execution_count": 31,
   "id": "78363102",
   "metadata": {},
   "outputs": [],
   "source": [
    "# No se registraron valores anómalos por lo comentado anteriormente"
   ]
  },
  {
   "cell_type": "markdown",
   "id": "f3c1d00f",
   "metadata": {},
   "source": [
    "### 7. Crear nueva columna \"part_of_the_day\" basandonos en la columna hora.\n",
    "\n",
    "\n",
    "Rangos a crear:\n",
    "- Morning: de 6 AM a 11 AM.\n",
    "- Mi-day: de 12 a 14.\n",
    "- Afternoon: de 15 a 17.\n",
    "- Evening: de 18 a 21.\n",
    "- Night: de 21 PM a 5 AM.\n",
    "\n",
    "**Recomendación: Pueden usar la columna \"request_hour\" para crear dichas categorias en la nueva columna.**\n",
    "\n",
    "**Pista:** Usar la funcion pd.cut con el siguiente formato:\n",
    "```df_final[\"part_of_the_day\"] = pd.cut(columna_hora,\n",
    "[[0, 5, 11, 14, 17, 21, 24],\n",
    "labels = [Categorias correspondientes a cada bucket (\"night\", \"morning\", ...,\n",
    "right=True,\n",
    "include_lowest=True)\n",
    "```\n",
    "\n",
    "Tener en cuenta que probablemente deban crear 2 categorias de night y luego reemplazarlas ya que sino no van a poder realizar los cortes."
   ]
  },
  {
   "cell_type": "code",
   "execution_count": 45,
   "id": "9daa0df2",
   "metadata": {},
   "outputs": [],
   "source": [
    "df_final[\"part_of_the_day\"] = pd.cut(df_final['request_hour'],\n",
    "                                    bins=[0, 5, 11, 14, 17, 21, 24],\n",
    "                                    labels=['Night', 'Morning', 'Mid-day','Afternoon', 'Evening', 'Night'],\n",
    "                                    right=True,\n",
    "                                    include_lowest=True,\n",
    "                                    ordered=False)\n",
    "#suponemos que \"Night\" es a partir de las 22hs y no de las 21hs como indica el enunciado. Sino, se pisa con evening"
   ]
  },
  {
   "cell_type": "markdown",
   "id": "1c5ac37b",
   "metadata": {},
   "source": [
    "\n",
    "**7.1 Chequear con un groupby o un pivot_table los valores máximos y minimos de la columna request_hour, agrupando por la columna part_of_the_day**"
   ]
  },
  {
   "cell_type": "code",
   "execution_count": 55,
   "id": "aef95784",
   "metadata": {},
   "outputs": [
    {
     "data": {
      "text/plain": [
       "part_of_the_day\n",
       "Afternoon    17\n",
       "Evening      21\n",
       "Mid-day      14\n",
       "Morning      11\n",
       "Night        23\n",
       "Name: request_hour, dtype: int64"
      ]
     },
     "execution_count": 55,
     "metadata": {},
     "output_type": "execute_result"
    }
   ],
   "source": [
    "df_final.groupby(by = [\"part_of_the_day\"])[\"request_hour\"].max() #el valor máximo de night es 23 por ser el número más alto"
   ]
  },
  {
   "cell_type": "code",
   "execution_count": 56,
   "id": "d330b98c",
   "metadata": {},
   "outputs": [
    {
     "data": {
      "text/plain": [
       "part_of_the_day\n",
       "Afternoon    15\n",
       "Evening      18\n",
       "Mid-day      12\n",
       "Morning       6\n",
       "Night         0\n",
       "Name: request_hour, dtype: int64"
      ]
     },
     "execution_count": 56,
     "metadata": {},
     "output_type": "execute_result"
    }
   ],
   "source": [
    "df_final.groupby(by = [\"part_of_the_day\"])[\"request_hour\"].min() #el valor mínimo de night es 0 por ser el número más alto"
   ]
  },
  {
   "cell_type": "markdown",
   "id": "6f8cfb6d",
   "metadata": {},
   "source": [
    "### 8. Análisis Exploratorio de datos"
   ]
  },
  {
   "cell_type": "markdown",
   "id": "31cac9cd",
   "metadata": {},
   "source": [
    "#### 8.1. Analizar las horas más populares en que los viajes son solicitados (no importa el status de request o trip).\n",
    "\n",
    "**Graficar:**\n",
    "\n",
    "Pueden usar sns.countplot() tanto para la columna part_of_the_day o request_hour."
   ]
  },
  {
   "cell_type": "code",
   "execution_count": 128,
   "id": "f52e3e18",
   "metadata": {
    "scrolled": true
   },
   "outputs": [
    {
     "data": {
      "text/plain": [
       "Text(0.5, 1.0, 'Distribución de viajes por hora')"
      ]
     },
     "execution_count": 128,
     "metadata": {},
     "output_type": "execute_result"
    },
    {
     "data": {
      "image/png": "[encoded data removed]",
      "text/plain": [
       "<Figure size 432x288 with 1 Axes>"
      ]
     },
     "metadata": {
      "needs_background": "light"
     },
     "output_type": "display_data"
    }
   ],
   "source": [
    "sns.countplot(df_final[\"request_hour\"])\n",
    "plt.ylabel(\"Cantidad de viajes\", fontdict={\"fontsize\":12})\n",
    "plt.xlabel(\"Horario\", fontdict={\"fontsize\":12})\n",
    "plt.title(\"Distribución de viajes por hora\", fontdict={\"fontsize\":15})"
   ]
  },
  {
   "cell_type": "markdown",
   "id": "e256f62f",
   "metadata": {},
   "source": [
    "**Insighs**\n",
    "\n",
    "Comente brevemente los insights del analisis previo."
   ]
  },
  {
   "cell_type": "code",
   "execution_count": 36,
   "id": "9d50a3b2",
   "metadata": {},
   "outputs": [],
   "source": [
    "# Se solicitan mayor cantidad de viajes a la mañana y a la tarde\n",
    "# Una posible causa es que coincide con los horarios de entrada y salida laboral"
   ]
  },
  {
   "cell_type": "markdown",
   "id": "46cb271e",
   "metadata": {},
   "source": [
    "### 8.2. Distribución del estado de todos los viajes.\n",
    "\n",
    "Analizar la distribución de la columna \"Status\".\n",
    "\n",
    "**Graficar un barplot y calcular utilizando la value_counts() sobre la columna**"
   ]
  },
  {
   "cell_type": "markdown",
   "id": "70b18cda",
   "metadata": {},
   "source": [
    "**Barplot**"
   ]
  },
  {
   "cell_type": "code",
   "execution_count": 136,
   "id": "3c9816d0",
   "metadata": {
    "scrolled": false
   },
   "outputs": [
    {
     "data": {
      "text/plain": [
       "Text(0.5, 1.0, 'Barplot')"
      ]
     },
     "execution_count": 136,
     "metadata": {},
     "output_type": "execute_result"
    },
    {
     "data": {
      "image/png": "[encoded data removed]",
      "text/plain": [
       "<Figure size 432x288 with 1 Axes>"
      ]
     },
     "metadata": {
      "needs_background": "light"
     },
     "output_type": "display_data"
    }
   ],
   "source": [
    "fig = plt.figure()\n",
    "ax = fig.add_axes([0,0,1,1])\n",
    "Status = df_final[\"Status\"].unique()\n",
    "Quantity = df_final[\"Status\"].value_counts(sort=False)\n",
    "ax.bar(Status,Quantity, color=[\"coral\", \"yellow\", \"pink\"])\n",
    "plt.ylabel(\"Cantidad de viajes\", fontdict={\"fontsize\":12})\n",
    "plt.xlabel(\"Status\", fontdict={\"fontsize\":12})\n",
    "plt.title(\"Barplot\", fontdict={\"fontsize\":15})"
   ]
  },
  {
   "cell_type": "markdown",
   "id": "78bc68cb",
   "metadata": {},
   "source": [
    "**Value_counts**"
   ]
  },
  {
   "cell_type": "code",
   "execution_count": 38,
   "id": "5f7fb6ae",
   "metadata": {
    "scrolled": true
   },
   "outputs": [
    {
     "data": {
      "text/plain": [
       "Trip Completed       2831\n",
       "Cancelled            1264\n",
       "No Cars Available    2650\n",
       "Name: Status, dtype: int64"
      ]
     },
     "execution_count": 38,
     "metadata": {},
     "output_type": "execute_result"
    }
   ],
   "source": [
    "df_final[\"Status\"].value_counts(sort=False)"
   ]
  },
  {
   "cell_type": "markdown",
   "id": "ed2e4ff1",
   "metadata": {},
   "source": [
    "**Insights**\n",
    "\n",
    "Comente brevemente los insights."
   ]
  },
  {
   "cell_type": "code",
   "execution_count": 39,
   "id": "db8721bf",
   "metadata": {},
   "outputs": [],
   "source": [
    "# Observamos que hay un número muy similar de viajes completados y no realizados por no haber autos disponibles, lo cual habla sobre una gran demanda no cubierta\n",
    "# El porcentaje de viajes cancelados es muy significativo, alcanzando un 18,74%. Se completaron el 41,97% de los viajes y no se concretó por no haber autos disponibles un 39,29% "
   ]
  },
  {
   "cell_type": "markdown",
   "id": "056fc87b",
   "metadata": {},
   "source": [
    "### 8.3.  Distribucion de viajes (trips) por parte del dia y status.\n",
    "\n",
    "El proposito de este grafico es chequear la demanda de viajes por hora del dia, y chequear el status de esos viajes, para chequear donde tenemos problemas."
   ]
  },
  {
   "cell_type": "code",
   "execution_count": 159,
   "id": "816dde3c",
   "metadata": {},
   "outputs": [
    {
     "data": {
      "text/plain": [
       "Text(0.5, 1.0, 'Distribución de viajes según parte del día y status')"
      ]
     },
     "execution_count": 159,
     "metadata": {},
     "output_type": "execute_result"
    },
    {
     "data": {
      "image/png": "[encoded data removed]",
      "text/plain": [
       "<Figure size 432x288 with 1 Axes>"
      ]
     },
     "metadata": {
      "needs_background": "light"
     },
     "output_type": "display_data"
    }
   ],
   "source": [
    "sns.countplot(x=\"part_of_the_day\", hue=\"Status\", data=df_final, palette = \"Set2\")\n",
    "plt.ylabel(\"Cantidad\", fontdict={\"fontsize\":12})\n",
    "plt.xlabel(\"Parte del día\", fontdict={\"fontsize\":12})\n",
    "plt.title(\"Distribución de viajes según parte del día y status\", fontdict={\"fontsize\":15})"
   ]
  },
  {
   "cell_type": "code",
   "execution_count": 62,
   "id": "04972d32",
   "metadata": {
    "scrolled": true
   },
   "outputs": [
    {
     "data": {
      "text/plain": [
       "part_of_the_day  Status           \n",
       "Afternoon        Trip Completed        344\n",
       "                 No Cars Available     326\n",
       "                 Cancelled              78\n",
       "Evening          No Cars Available    1160\n",
       "                 Trip Completed        633\n",
       "                 Cancelled             131\n",
       "Mid-day          Trip Completed        298\n",
       "                 No Cars Available     134\n",
       "                 Cancelled              48\n",
       "Morning          Trip Completed        900\n",
       "                 Cancelled             744\n",
       "                 No Cars Available     428\n",
       "Night            Trip Completed        656\n",
       "                 No Cars Available     602\n",
       "                 Cancelled             263\n",
       "Name: Status, dtype: int64"
      ]
     },
     "execution_count": 62,
     "metadata": {},
     "output_type": "execute_result"
    }
   ],
   "source": [
    "df_final.groupby(by = [\"part_of_the_day\"])[\"Status\"].value_counts()"
   ]
  },
  {
   "cell_type": "markdown",
   "id": "8e800fd5",
   "metadata": {},
   "source": [
    "**Insights**\n",
    "\n",
    "Comentar brevemente insights de los resultados obtenidos."
   ]
  },
  {
   "cell_type": "code",
   "execution_count": null,
   "id": "e7bead3c",
   "metadata": {},
   "outputs": [],
   "source": [
    "#La mayor parte de los viajes cancelados se encuentran a la mañana\n",
    "#Al mediodía disminuye considerablemente la demanda de viajes en general\n",
    "#Durante la tarde noche existe una gran demanda no cubierta debido a la escasez de autos disponibles"
   ]
  },
  {
   "cell_type": "markdown",
   "id": "72cafd3d",
   "metadata": {},
   "source": [
    "### 8.4 Distribucion de pick up point por parte del dia.\n",
    "\n",
    "La idea es obtener un por parte del dia, como se distribuyen los viajes respecto al pickup point."
   ]
  },
  {
   "cell_type": "code",
   "execution_count": 64,
   "id": "5a47f8ae",
   "metadata": {},
   "outputs": [
    {
     "data": {
      "text/plain": [
       "part_of_the_day  Pickup point\n",
       "Afternoon        Airport          445\n",
       "                 City             303\n",
       "Evening          Airport         1492\n",
       "                 City             432\n",
       "Mid-day          City             278\n",
       "                 Airport          202\n",
       "Morning          City            1599\n",
       "                 Airport          473\n",
       "Night            City             895\n",
       "                 Airport          626\n",
       "Name: Pickup point, dtype: int64"
      ]
     },
     "execution_count": 64,
     "metadata": {},
     "output_type": "execute_result"
    }
   ],
   "source": [
    "df_final.groupby(by = [\"part_of_the_day\"])[\"Pickup point\"].value_counts()"
   ]
  },
  {
   "cell_type": "markdown",
   "id": "44a99eb6",
   "metadata": {},
   "source": [
    "**Insights**\n",
    "\n",
    "Comente brevemente los insights."
   ]
  },
  {
   "cell_type": "code",
   "execution_count": 43,
   "id": "e34df846",
   "metadata": {},
   "outputs": [],
   "source": [
    "# Observamos una gran cantidad de viajes solicitados desde la ciudad durante la mañana, posiblemente asociado al horario de ingreso laboral\n",
    "# También resalta la concentración de viajes durante la tarde/noche desde el aeropuerto, probablemente en concordancia con el arribo de vuelos"
   ]
  },
  {
   "cell_type": "markdown",
   "id": "c2cb085b",
   "metadata": {},
   "source": [
    "### 8.5  Obtener el top 10 de conductores con mayores viajes.\n",
    "\n",
    "El output esperado es el nombre de los 10 conductores con más viajes, junto a la cantidad de viajes de cada uno."
   ]
  },
  {
   "cell_type": "code",
   "execution_count": 67,
   "id": "746310d4",
   "metadata": {
    "scrolled": true
   },
   "outputs": [
    {
     "data": {
      "text/plain": [
       "Aston Hooper        22\n",
       "Yousuf Haas         21\n",
       "Bridget Roberson    21\n",
       "Sharon Ahmed        21\n",
       "Angelo Castillo     21\n",
       "Harlan Cross        21\n",
       "Kelvin Malone       20\n",
       "Thiago Pitts        20\n",
       "Rachael Haynes      20\n",
       "Allen Hammond       20\n",
       "Name: Name, dtype: int64"
      ]
     },
     "execution_count": 67,
     "metadata": {},
     "output_type": "execute_result"
    }
   ],
   "source": [
    "df_final[\"Name\"].value_counts().nlargest(n=10)"
   ]
  },
  {
   "cell_type": "markdown",
   "id": "2ddcd73e",
   "metadata": {},
   "source": [
    "### 8.6  Obtener la distribución por genero\n",
    "\n",
    "- Qué genero es más popular entre los conductores?\n",
    "- Obtener la parte del dia más popular para el género femenino."
   ]
  },
  {
   "cell_type": "markdown",
   "id": "35c5c437",
   "metadata": {},
   "source": [
    "**Distribución de géneros**\n",
    "\n",
    "Usar value_counts y tener en cuenta dropna."
   ]
  },
  {
   "cell_type": "code",
   "execution_count": 160,
   "id": "26db7378",
   "metadata": {},
   "outputs": [
    {
     "data": {
      "text/plain": [
       "[M]    200\n",
       "[F]    100\n",
       "Name: Gender, dtype: int64"
      ]
     },
     "execution_count": 160,
     "metadata": {},
     "output_type": "execute_result"
    }
   ],
   "source": [
    "df_final.groupby(by = [\"Driver id\"])[\"Gender\"].unique().value_counts(dropna = True)"
   ]
  },
  {
   "cell_type": "code",
   "execution_count": null,
   "id": "54b033e5",
   "metadata": {},
   "outputs": [],
   "source": [
    "#El género masculino es el más popular"
   ]
  },
  {
   "cell_type": "markdown",
   "id": "b21044e4",
   "metadata": {},
   "source": [
    "**Parte del dia más popular para el genero femenino**"
   ]
  },
  {
   "cell_type": "code",
   "execution_count": 66,
   "id": "594dddf2",
   "metadata": {},
   "outputs": [
    {
     "data": {
      "text/plain": [
       "Morning      499\n",
       "Night        323\n",
       "Evening      246\n",
       "Afternoon    146\n",
       "Mid-day      119\n",
       "Name: part_of_the_day, dtype: int64"
      ]
     },
     "execution_count": 66,
     "metadata": {},
     "output_type": "execute_result"
    }
   ],
   "source": [
    "df_final[df_final[\"Gender\"] == \"F\"][\"part_of_the_day\"].value_counts()"
   ]
  },
  {
   "cell_type": "code",
   "execution_count": 47,
   "id": "60f74ad2",
   "metadata": {},
   "outputs": [],
   "source": [
    "#La parte del día más popular para el género femenino es la mañana"
   ]
  }
 ],
 "metadata": {
  "kernelspec": {
   "display_name": "Python 3 (ipykernel)",
   "language": "python",
   "name": "python3"
  },
  "language_info": {
   "codemirror_mode": {
    "name": "ipython",
    "version": 3
   },
   "file_extension": ".py",
   "mimetype": "text/x-python",
   "name": "python",
   "nbconvert_exporter": "python",
   "pygments_lexer": "ipython3",
   "version": "3.9.12"
  }
 },
 "nbformat": 4,
 "nbformat_minor": 5
}
